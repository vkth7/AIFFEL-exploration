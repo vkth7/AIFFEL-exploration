{
  "nbformat": 4,
  "nbformat_minor": 0,
  "metadata": {
    "colab": {
      "name": "[exp-05]가위바위보.ipynb",
      "provenance": [],
      "collapsed_sections": [
        "-NAyB6LExDx6"
      ],
      "toc_visible": true,
      "machine_shape": "hm",
      "mount_file_id": "1UmpcQ2WCHN-BQ5b6seBrD6uHX2wgvfww",
      "authorship_tag": "ABX9TyO2nY8JapoX47l0Yfcr4LnC",
      "include_colab_link": true
    },
    "kernelspec": {
      "name": "python3",
      "display_name": "Python 3"
    },
    "language_info": {
      "name": "python"
    },
    "accelerator": "TPU",
    "gpuClass": "standard"
  },
  "cells": [
    {
      "cell_type": "markdown",
      "metadata": {
        "id": "view-in-github",
        "colab_type": "text"
      },
      "source": [
        "<a href=\"https://colab.research.google.com/github/vkth7/AIFFEL-exploration/blob/main/exp-05/%5Bexp_05%5D%EA%B0%80%EC%9C%84%EB%B0%94%EC%9C%84%EB%B3%B4.ipynb\" target=\"_parent\"><img src=\"https://colab.research.google.com/assets/colab-badge.svg\" alt=\"Open In Colab\"/></a>"
      ]
    },
    {
      "cell_type": "markdown",
      "source": [
        "## import"
      ],
      "metadata": {
        "id": "-NAyB6LExDx6"
      }
    },
    {
      "cell_type": "code",
      "execution_count": null,
      "metadata": {
        "id": "JnfA1yGMDwJw"
      },
      "outputs": [],
      "source": [
        "import tensorflow as tf\n",
        "import numpy as np\n",
        "\n",
        "from PIL import Image\n",
        "import glob\n",
        "import os\n",
        "import matplotlib.pyplot as plt\n",
        "from tensorflow import keras\n",
        "\n",
        "from sklearn.model_selection import train_test_split\n",
        "\n",
        "import random"
      ]
    },
    {
      "cell_type": "markdown",
      "source": [
        "## image를 28X28로 변경"
      ],
      "metadata": {
        "id": "ASOz08ILxKyM"
      }
    },
    {
      "cell_type": "code",
      "source": [
        "def resize_images(img_path):\n",
        "\timages=glob.glob(img_path + \"/*.jpg\")  \n",
        "    \n",
        "\tprint(len(images), \" images to be resized.\")\n",
        "\n",
        "    # 파일마다 모두 28x28 사이즈로 바꾸어 저장합니다.\n",
        "\ttarget_size=(28,28)\n",
        "\tfor img in images:\n",
        "\t\told_img=Image.open(img)\n",
        "\t\tnew_img=old_img.resize(target_size,Image.ANTIALIAS)\n",
        "\t\tnew_img.save(img, \"JPEG\")\n",
        "    \n",
        "\tprint(len(images), \" images resized.\")\n",
        "\t\n",
        "# 가위 이미지가 저장된 디렉토리 아래의 모든 jpg 파일을 읽어들여서\n",
        "image_dir_path = '/content/drive/MyDrive/ColabNotebooks/rock_scissor_paper'\n",
        "resize_images(image_dir_path+'/scissor')\n",
        "print(\"가위 이미지 resize 완료!\")\n",
        "resize_images(image_dir_path+'/rock')\n",
        "print(\"바위 이미지 resize 완료!\")\n",
        "resize_images(image_dir_path+'/paper')\n",
        "print(\"보 이미지 resize 완료!\")"
      ],
      "metadata": {
        "id": "yzNtYH2qVGj2",
        "colab": {
          "base_uri": "https://localhost:8080/"
        },
        "outputId": "24a58d19-e1bd-435b-b682-421c19449017"
      },
      "execution_count": null,
      "outputs": [
        {
          "output_type": "stream",
          "name": "stdout",
          "text": [
            "913  images to be resized.\n",
            "913  images resized.\n",
            "가위 이미지 resize 완료!\n",
            "913  images to be resized.\n",
            "913  images resized.\n",
            "바위 이미지 resize 완료!\n",
            "913  images to be resized.\n",
            "913  images resized.\n",
            "보 이미지 resize 완료!\n"
          ]
        }
      ]
    },
    {
      "cell_type": "markdown",
      "source": [
        "## 변환한 image 파일 불러오기"
      ],
      "metadata": {
        "id": "XJmFPEUQxSLs"
      }
    },
    {
      "cell_type": "code",
      "source": [
        "def load_data(img_path, number_of_data=300):  # 가위바위보 이미지 개수 총합에 주의하세요.\n",
        "    # 가위 : 0, 바위 : 1, 보 : 2\n",
        "    img_size=28\n",
        "    color=3\n",
        "    #이미지 데이터와 라벨(가위 : 0, 바위 : 1, 보 : 2) 데이터를 담을 행렬(matrix) 영역을 생성합니다.\n",
        "    imgs=np.zeros(number_of_data*img_size*img_size*color,dtype=np.int32).reshape(number_of_data,img_size,img_size,color)\n",
        "    labels=np.zeros(number_of_data,dtype=np.int32)\n",
        "\n",
        "    idx=0\n",
        "    for file in glob.iglob(img_path+'/scissor/*.jpg'):\n",
        "        img = np.array(Image.open(file),dtype=np.int32)\n",
        "        imgs[idx,:,:,:]=img    # 데이터 영역에 이미지 행렬을 복사\n",
        "        labels[idx]=0   # 가위 : 0\n",
        "        idx=idx+1\n",
        "\n",
        "    for file in glob.iglob(img_path+'/rock/*.jpg'):\n",
        "        img = np.array(Image.open(file),dtype=np.int32)\n",
        "        imgs[idx,:,:,:]=img    # 데이터 영역에 이미지 행렬을 복사\n",
        "        labels[idx]=1   # 바위 : 1\n",
        "        idx=idx+1  \n",
        "    \n",
        "    for file in glob.iglob(img_path+'/paper/*.jpg'):\n",
        "        img = np.array(Image.open(file),dtype=np.int32)\n",
        "        imgs[idx,:,:,:]=img    # 데이터 영역에 이미지 행렬을 복사\n",
        "        labels[idx]=2   # 보 : 2\n",
        "        idx=idx+1\n",
        "        \n",
        "    print(\"학습데이터(x_train)의 이미지 개수는\", idx,\"입니다.\")\n",
        "    return imgs, labels\n"
      ],
      "metadata": {
        "id": "U9qUP9gCWCHb"
      },
      "execution_count": null,
      "outputs": []
    },
    {
      "cell_type": "code",
      "source": [
        "image_dir_path = '/content/drive/MyDrive/ColabNotebooks/rock_scissor_paper'\n",
        "(X, y)=load_data(image_dir_path, number_of_data=913*3)\n",
        "X_norm = X/255.0   # 입력은 0~1 사이의 값으로 정규화\n",
        "\n",
        "print(\"x_train shape: {}\".format(X.shape))\n",
        "print(\"y_train shape: {}\".format(y.shape))"
      ],
      "metadata": {
        "id": "iHfVF3pOWKPE",
        "colab": {
          "base_uri": "https://localhost:8080/"
        },
        "outputId": "4a300ad3-8948-436b-a1b2-ff918c813652"
      },
      "execution_count": null,
      "outputs": [
        {
          "output_type": "stream",
          "name": "stdout",
          "text": [
            "학습데이터(x_train)의 이미지 개수는 2739 입니다.\n",
            "x_train shape: (2739, 28, 28, 3)\n",
            "y_train shape: (2739,)\n"
          ]
        }
      ]
    },
    {
      "cell_type": "code",
      "source": [
        "plt.imshow(X[0])\n",
        "print('라벨: ', y[0])"
      ],
      "metadata": {
        "id": "9uHHab2BpylO",
        "colab": {
          "base_uri": "https://localhost:8080/",
          "height": 284
        },
        "outputId": "eb13fd15-5a65-4134-8a73-6d8b4c0657b6"
      },
      "execution_count": null,
      "outputs": [
        {
          "output_type": "stream",
          "name": "stdout",
          "text": [
            "라벨:  0\n"
          ]
        },
        {
          "output_type": "display_data",
          "data": {
            "text/plain": [
              "<Figure size 432x288 with 1 Axes>"
            ],
            "image/png": "[encoded data removed]"
          },
          "metadata": {
            "needs_background": "light"
          }
        }
      ]
    },
    {
      "cell_type": "markdown",
      "source": [
        "## 불러온 파일을 train, test 데이터셋으로 나누기"
      ],
      "metadata": {
        "id": "I04itfoH3gWe"
      }
    },
    {
      "cell_type": "code",
      "source": [
        "X_train, X_test, y_train, y_test = X_train, X_test, y_train, y_test = train_test_split(X_norm, y, test_size=0.2,random_state=2022)"
      ],
      "metadata": {
        "id": "WbVhlAxbqUzB"
      },
      "execution_count": null,
      "outputs": []
    },
    {
      "cell_type": "code",
      "source": [
        "X_train.shape"
      ],
      "metadata": {
        "id": "h0h-6dVOqUh8",
        "colab": {
          "base_uri": "https://localhost:8080/"
        },
        "outputId": "dabdb768-7d12-42e0-cf66-c64f6236fcd5"
      },
      "execution_count": null,
      "outputs": [
        {
          "output_type": "execute_result",
          "data": {
            "text/plain": [
              "(2191, 28, 28, 3)"
            ]
          },
          "metadata": {},
          "execution_count": 7
        }
      ]
    },
    {
      "cell_type": "markdown",
      "source": [
        "## Conv2D 레이어를 2개, MaxPooling을 2회 진행하고 Dense 레이어를 1번, 마지막으로 Output 레이어로 출력한다."
      ],
      "metadata": {
        "id": "dsrARRry3m9Q"
      }
    },
    {
      "cell_type": "code",
      "source": [
        "n_channel_1=64\n",
        "n_channel_2=128\n",
        "n_dense=128\n",
        "n_train_epoch=10\n",
        "\n",
        "model=keras.models.Sequential()\n",
        "model.add(keras.layers.Conv2D(n_channel_1, (3,3), activation='relu', input_shape=(28,28,3)))\n",
        "model.add(keras.layers.MaxPool2D(2,2))\n",
        "model.add(keras.layers.Conv2D(n_channel_2, (3,3), activation='relu'))\n",
        "model.add(keras.layers.MaxPooling2D((2,2)))\n",
        "model.add(keras.layers.Flatten())\n",
        "model.add(keras.layers.Dense(n_dense, activation='relu'))\n",
        "model.add(keras.layers.Dense(3, activation='softmax'))\n",
        "\n",
        "model.summary()\n",
        "\n",
        "model.compile(optimizer='adam',\n",
        "             loss='sparse_categorical_crossentropy',\n",
        "             metrics=['accuracy'])\n",
        "\n",
        "model.fit(X_train, y_train, epochs=10)"
      ],
      "metadata": {
        "id": "wThJCsM3qGly",
        "colab": {
          "base_uri": "https://localhost:8080/"
        },
        "outputId": "db02bcd6-34a9-4a0e-8a03-ad7ee715ba28"
      },
      "execution_count": null,
      "outputs": [
        {
          "output_type": "stream",
          "name": "stdout",
          "text": [
            "Model: \"sequential\"\n",
            "_________________________________________________________________\n",
            " Layer (type)                Output Shape              Param #   \n",
            "=================================================================\n",
            " conv2d (Conv2D)             (None, 26, 26, 64)        1792      \n",
            "                                                                 \n",
            " max_pooling2d (MaxPooling2D  (None, 13, 13, 64)       0         \n",
            " )                                                               \n",
            "                                                                 \n",
            " conv2d_1 (Conv2D)           (None, 11, 11, 128)       73856     \n",
            "                                                                 \n",
            " max_pooling2d_1 (MaxPooling  (None, 5, 5, 128)        0         \n",
            " 2D)                                                             \n",
            "                                                                 \n",
            " flatten (Flatten)           (None, 3200)              0         \n",
            "                                                                 \n",
            " dense (Dense)               (None, 128)               409728    \n",
            "                                                                 \n",
            " dense_1 (Dense)             (None, 3)                 387       \n",
            "                                                                 \n",
            "=================================================================\n",
            "Total params: 485,763\n",
            "Trainable params: 485,763\n",
            "Non-trainable params: 0\n",
            "_________________________________________________________________\n",
            "Epoch 1/10\n",
            "69/69 [==============================] - 1s 11ms/step - loss: 1.0096 - accuracy: 0.4742\n",
            "Epoch 2/10\n",
            "69/69 [==============================] - 1s 11ms/step - loss: 0.6119 - accuracy: 0.7444\n",
            "Epoch 3/10\n",
            "69/69 [==============================] - 1s 10ms/step - loss: 0.3722 - accuracy: 0.8599\n",
            "Epoch 4/10\n",
            "69/69 [==============================] - 1s 10ms/step - loss: 0.2511 - accuracy: 0.9064\n",
            "Epoch 5/10\n",
            "69/69 [==============================] - 1s 10ms/step - loss: 0.1897 - accuracy: 0.9315\n",
            "Epoch 6/10\n",
            "69/69 [==============================] - 1s 10ms/step - loss: 0.1171 - accuracy: 0.9630\n",
            "Epoch 7/10\n",
            "69/69 [==============================] - 1s 10ms/step - loss: 0.0751 - accuracy: 0.9799\n",
            "Epoch 8/10\n",
            "69/69 [==============================] - 1s 10ms/step - loss: 0.0914 - accuracy: 0.9699\n",
            "Epoch 9/10\n",
            "69/69 [==============================] - 1s 11ms/step - loss: 0.0426 - accuracy: 0.9881\n",
            "Epoch 10/10\n",
            "69/69 [==============================] - 1s 11ms/step - loss: 0.0261 - accuracy: 0.9963\n"
          ]
        },
        {
          "output_type": "execute_result",
          "data": {
            "text/plain": [
              "<keras.callbacks.History at 0x7f8b46e599d0>"
            ]
          },
          "metadata": {},
          "execution_count": 8
        }
      ]
    },
    {
      "cell_type": "markdown",
      "source": [
        "## 먼저 test 셋으로 나눈 이미지로 학습한 모델을 평가한다."
      ],
      "metadata": {
        "id": "rjDEw9v84jua"
      }
    },
    {
      "cell_type": "code",
      "source": [
        "test_loss, test_accuracy = model.evaluate(X_test, y_test, verbose=2)\n",
        "print(\"test_loss: {} \".format(test_loss))\n",
        "print(\"test_accuracy: {}\".format(test_accuracy))"
      ],
      "metadata": {
        "id": "8Olqjn0AsDZb",
        "colab": {
          "base_uri": "https://localhost:8080/"
        },
        "outputId": "a858250e-f924-43aa-bf69-cef011598f76"
      },
      "execution_count": null,
      "outputs": [
        {
          "output_type": "stream",
          "name": "stdout",
          "text": [
            "18/18 - 0s - loss: 0.0626 - accuracy: 0.9745 - 190ms/epoch - 11ms/step\n",
            "test_loss: 0.06257978826761246 \n",
            "test_accuracy: 0.974452555179596\n"
          ]
        }
      ]
    },
    {
      "cell_type": "markdown",
      "source": [
        "## 새로운 이미지 파일을 28X28로 변환"
      ],
      "metadata": {
        "id": "lIiCxvxt4wE_"
      }
    },
    {
      "cell_type": "code",
      "source": [
        "image_dir_path = '/content/drive/MyDrive/ColabNotebooks/rock_scissor_paper/test'\n",
        "resize_images(image_dir_path+'/scissor')\n",
        "print(\"가위 이미지 resize 완료!\")\n",
        "resize_images(image_dir_path+'/rock')\n",
        "print(\"바위 이미지 resize 완료!\")\n",
        "resize_images(image_dir_path+'/paper')\n",
        "print(\"보 이미지 resize 완료!\")"
      ],
      "metadata": {
        "id": "Jfk-3EgI0JKU",
        "colab": {
          "base_uri": "https://localhost:8080/"
        },
        "outputId": "83a7ea55-0d7f-4f3a-dab1-5603229014b7"
      },
      "execution_count": null,
      "outputs": [
        {
          "output_type": "stream",
          "name": "stdout",
          "text": [
            "100  images to be resized.\n",
            "100  images resized.\n",
            "가위 이미지 resize 완료!\n",
            "100  images to be resized.\n",
            "100  images resized.\n",
            "바위 이미지 resize 완료!\n",
            "100  images to be resized.\n",
            "100  images resized.\n",
            "보 이미지 resize 완료!\n"
          ]
        }
      ]
    },
    {
      "cell_type": "markdown",
      "source": [
        "## test 데이터셋으로 불러오기"
      ],
      "metadata": {
        "id": "fzsXeqs75zcG"
      }
    },
    {
      "cell_type": "code",
      "source": [
        "image_dir_path = '/content/drive/MyDrive/ColabNotebooks/rock_scissor_paper/test'\n",
        "(X_test2, y_test2)=load_data(image_dir_path, number_of_data=100*3)\n",
        "X_norm2 = X_test2/255.0"
      ],
      "metadata": {
        "id": "7FM8gj9B0bSe",
        "colab": {
          "base_uri": "https://localhost:8080/"
        },
        "outputId": "ba0d580f-6e61-4f9d-e3c5-0306aa4a4ebd"
      },
      "execution_count": null,
      "outputs": [
        {
          "output_type": "stream",
          "name": "stdout",
          "text": [
            "학습데이터(x_train)의 이미지 개수는 300 입니다.\n"
          ]
        }
      ]
    },
    {
      "cell_type": "markdown",
      "source": [
        "## 불러온 데이터셋으로 학습한 모델 평가"
      ],
      "metadata": {
        "id": "MC--Fy6w53eK"
      }
    },
    {
      "cell_type": "code",
      "source": [
        "test_loss, test_accuracy = model.evaluate(X_test2, y_test2, verbose=2)\n",
        "print(\"test_loss: {} \".format(test_loss))\n",
        "print(\"test_accuracy: {}\".format(test_accuracy))"
      ],
      "metadata": {
        "id": "_FrWzx-60rbc",
        "colab": {
          "base_uri": "https://localhost:8080/"
        },
        "outputId": "c9b2767d-8a28-44a4-e987-11a78337ba6e"
      },
      "execution_count": null,
      "outputs": [
        {
          "output_type": "stream",
          "name": "stdout",
          "text": [
            "10/10 - 0s - loss: 408.5832 - accuracy: 0.5167 - 143ms/epoch - 14ms/step\n",
            "test_loss: 408.5831604003906 \n",
            "test_accuracy: 0.5166666507720947\n"
          ]
        }
      ]
    },
    {
      "cell_type": "code",
      "source": [
        "predicted_result = model.predict(X_test2)  # model이 추론한 확률값. \n",
        "predicted_labels = np.argmax(predicted_result, axis=1)\n",
        "\n",
        "idx=0  #1번째 x_test를 살펴보자. \n",
        "print('model.predict() 결과 : ', predicted_result[idx])\n",
        "print('model이 추론한 가장 가능성이 높은 결과 : ', predicted_labels[idx])\n",
        "print('실제 데이터의 라벨 : ', y_test2[idx])"
      ],
      "metadata": {
        "id": "lWkjPdW8sK77",
        "colab": {
          "base_uri": "https://localhost:8080/"
        },
        "outputId": "cbc39c3b-1aaf-48c4-f2ca-587a9023bad9"
      },
      "execution_count": null,
      "outputs": [
        {
          "output_type": "stream",
          "name": "stdout",
          "text": [
            "model.predict() 결과 :  [0.00354714 0.         0.9964529 ]\n",
            "model이 추론한 가장 가능성이 높은 결과 :  2\n",
            "실제 데이터의 라벨 :  0\n"
          ]
        }
      ]
    },
    {
      "cell_type": "code",
      "source": [
        "plt.imshow(X_test2[idx],cmap=plt.cm.binary)\n",
        "plt.show()\n",
        "\n",
        "wrong_predict_list=[]\n",
        "for i, _ in enumerate(predicted_labels):\n",
        "    # i번째 test_labels과 y_test이 다른 경우만 모아 봅시다. \n",
        "    if predicted_labels[i] != y_test[i]:\n",
        "        wrong_predict_list.append(i)\n",
        "\n",
        "# wrong_predict_list 에서 랜덤하게 5개만 뽑아봅시다.\n",
        "samples = random.choices(population=wrong_predict_list, k=5)\n",
        "\n",
        "for n in samples:\n",
        "    print(\"예측확률분포: \" + str(predicted_result[n]))\n",
        "    print(\"라벨: \" + str(y_test[n]) + \", 예측결과: \" + str(predicted_labels[n]))\n",
        "    plt.imshow(X_test2[n], cmap=plt.cm.binary)\n",
        "    plt.show()"
      ],
      "metadata": {
        "id": "oHMrs6VnsQQy",
        "colab": {
          "base_uri": "https://localhost:8080/",
          "height": 1000
        },
        "outputId": "553ebe59-0a79-4172-8106-9e855c22ec87"
      },
      "execution_count": null,
      "outputs": [
        {
          "output_type": "display_data",
          "data": {
            "text/plain": [
              "<Figure size 432x288 with 1 Axes>"
            ],
            "image/png": "[encoded data removed]"
          },
          "metadata": {
            "needs_background": "light"
          }
        },
        {
          "output_type": "stream",
          "name": "stdout",
          "text": [
            "예측확률분포: [0. 0. 1.]\n",
            "라벨: 1, 예측결과: 2\n"
          ]
        },
        {
          "output_type": "display_data",
          "data": {
            "text/plain": [
              "<Figure size 432x288 with 1 Axes>"
            ],
            "image/png": "[encoded data removed]"
          },
          "metadata": {
            "needs_background": "light"
          }
        },
        {
          "output_type": "stream",
          "name": "stdout",
          "text": [
            "예측확률분포: [1. 0. 0.]\n",
            "라벨: 1, 예측결과: 0\n"
          ]
        },
        {
          "output_type": "display_data",
          "data": {
            "text/plain": [
              "<Figure size 432x288 with 1 Axes>"
            ],
            "image/png": "[encoded data removed]"
          },
          "metadata": {
            "needs_background": "light"
          }
        },
        {
          "output_type": "stream",
          "name": "stdout",
          "text": [
            "예측확률분포: [0.0000000e+00 1.0000000e+00 1.6240591e-29]\n",
            "라벨: 0, 예측결과: 1\n"
          ]
        },
        {
          "output_type": "display_data",
          "data": {
            "text/plain": [
              "<Figure size 432x288 with 1 Axes>"
            ],
            "image/png": "[encoded data removed]"
          },
          "metadata": {
            "needs_background": "light"
          }
        },
        {
          "output_type": "stream",
          "name": "stdout",
          "text": [
            "예측확률분포: [0. 0. 1.]\n",
            "라벨: 0, 예측결과: 2\n"
          ]
        },
        {
          "output_type": "display_data",
          "data": {
            "text/plain": [
              "<Figure size 432x288 with 1 Axes>"
            ],
            "image/png": "[encoded data removed]"
          },
          "metadata": {
            "needs_background": "light"
          }
        },
        {
          "output_type": "stream",
          "name": "stdout",
          "text": [
            "예측확률분포: [0. 0. 1.]\n",
            "라벨: 1, 예측결과: 2\n"
          ]
        },
        {
          "output_type": "display_data",
          "data": {
            "text/plain": [
              "<Figure size 432x288 with 1 Axes>"
            ],
            "image/png": "[encoded data removed]"
          },
          "metadata": {
            "needs_background": "light"
          }
        }
      ]
    },
    {
      "cell_type": "code",
      "source": [
        "n_channel_1=32\n",
        "n_channel_2=64\n",
        "n_dense=256\n",
        "n_train_epoch=10\n",
        "\n",
        "model=keras.models.Sequential()\n",
        "model.add(keras.layers.Conv2D(n_channel_1, (3,3), activation='relu', input_shape=(28,28,3)))\n",
        "model.add(keras.layers.MaxPool2D(2,2))\n",
        "model.add(keras.layers.Conv2D(n_channel_2, (3,3), activation='relu'))\n",
        "model.add(keras.layers.MaxPooling2D((2,2)))\n",
        "model.add(keras.layers.Flatten())\n",
        "model.add(keras.layers.Dense(n_dense, activation='relu'))\n",
        "model.add(keras.layers.Dense(3, activation='softmax'))\n",
        "\n",
        "model.summary()\n",
        "\n",
        "model.compile(optimizer='adam',\n",
        "             loss='sparse_categorical_crossentropy',\n",
        "             metrics=['accuracy'])\n",
        "\n",
        "model.fit(X_train, y_train, epochs=10)"
      ],
      "metadata": {
        "colab": {
          "base_uri": "https://localhost:8080/"
        },
        "id": "CTwOExROfdNd",
        "outputId": "339e98a0-1881-4826-8b9f-9fde4faa12cc"
      },
      "execution_count": null,
      "outputs": [
        {
          "output_type": "stream",
          "name": "stdout",
          "text": [
            "Model: \"sequential_1\"\n",
            "_________________________________________________________________\n",
            " Layer (type)                Output Shape              Param #   \n",
            "=================================================================\n",
            " conv2d_2 (Conv2D)           (None, 26, 26, 32)        896       \n",
            "                                                                 \n",
            " max_pooling2d_2 (MaxPooling  (None, 13, 13, 32)       0         \n",
            " 2D)                                                             \n",
            "                                                                 \n",
            " conv2d_3 (Conv2D)           (None, 11, 11, 64)        18496     \n",
            "                                                                 \n",
            " max_pooling2d_3 (MaxPooling  (None, 5, 5, 64)         0         \n",
            " 2D)                                                             \n",
            "                                                                 \n",
            " flatten_1 (Flatten)         (None, 1600)              0         \n",
            "                                                                 \n",
            " dense_2 (Dense)             (None, 256)               409856    \n",
            "                                                                 \n",
            " dense_3 (Dense)             (None, 3)                 771       \n",
            "                                                                 \n",
            "=================================================================\n",
            "Total params: 430,019\n",
            "Trainable params: 430,019\n",
            "Non-trainable params: 0\n",
            "_________________________________________________________________\n",
            "Epoch 1/10\n",
            "69/69 [==============================] - 1s 7ms/step - loss: 0.9630 - accuracy: 0.5363\n",
            "Epoch 2/10\n",
            "69/69 [==============================] - 0s 7ms/step - loss: 0.5247 - accuracy: 0.7983\n",
            "Epoch 3/10\n",
            "69/69 [==============================] - 1s 7ms/step - loss: 0.3044 - accuracy: 0.8914\n",
            "Epoch 4/10\n",
            "69/69 [==============================] - 1s 7ms/step - loss: 0.2101 - accuracy: 0.9251\n",
            "Epoch 5/10\n",
            "69/69 [==============================] - 1s 8ms/step - loss: 0.1348 - accuracy: 0.9525\n",
            "Epoch 6/10\n",
            "69/69 [==============================] - 1s 7ms/step - loss: 0.0789 - accuracy: 0.9781\n",
            "Epoch 7/10\n",
            "69/69 [==============================] - 1s 7ms/step - loss: 0.0505 - accuracy: 0.9895\n",
            "Epoch 8/10\n",
            "69/69 [==============================] - 1s 8ms/step - loss: 0.0383 - accuracy: 0.9918\n",
            "Epoch 9/10\n",
            "69/69 [==============================] - 1s 8ms/step - loss: 0.0321 - accuracy: 0.9922\n",
            "Epoch 10/10\n",
            "69/69 [==============================] - 1s 8ms/step - loss: 0.0298 - accuracy: 0.9922\n"
          ]
        },
        {
          "output_type": "execute_result",
          "data": {
            "text/plain": [
              "<keras.callbacks.History at 0x7f8b469e3290>"
            ]
          },
          "metadata": {},
          "execution_count": 17
        }
      ]
    },
    {
      "cell_type": "code",
      "source": [
        "test_loss, test_accuracy = model.evaluate(X_test, y_test, verbose=2)\n",
        "print(\"test_loss: {} \".format(test_loss))\n",
        "print(\"test_accuracy: {}\".format(test_accuracy))"
      ],
      "metadata": {
        "colab": {
          "base_uri": "https://localhost:8080/"
        },
        "id": "oj6Fc-najK1d",
        "outputId": "3cdc866c-b6a3-4448-dd1a-ce9924a602ab"
      },
      "execution_count": null,
      "outputs": [
        {
          "output_type": "stream",
          "name": "stdout",
          "text": [
            "18/18 - 0s - loss: 0.0732 - accuracy: 0.9763 - 162ms/epoch - 9ms/step\n",
            "test_loss: 0.0731654167175293 \n",
            "test_accuracy: 0.9762773513793945\n"
          ]
        }
      ]
    },
    {
      "cell_type": "code",
      "source": [
        "test_loss, test_accuracy = model.evaluate(X_test2, y_test2, verbose=2)\n",
        "print(\"test_loss: {} \".format(test_loss))\n",
        "print(\"test_accuracy: {}\".format(test_accuracy))"
      ],
      "metadata": {
        "colab": {
          "base_uri": "https://localhost:8080/"
        },
        "id": "fJJARt56jRQ1",
        "outputId": "e9480470-e6d7-4055-8911-c643d0b0f747"
      },
      "execution_count": null,
      "outputs": [
        {
          "output_type": "stream",
          "name": "stdout",
          "text": [
            "10/10 - 0s - loss: 503.9284 - accuracy: 0.5933 - 140ms/epoch - 14ms/step\n",
            "test_loss: 503.9283752441406 \n",
            "test_accuracy: 0.5933333039283752\n"
          ]
        }
      ]
    },
    {
      "cell_type": "code",
      "source": [
        "n_channel_1=16\n",
        "n_channel_2=32\n",
        "n_dense=128\n",
        "n_train_epoch=10\n",
        "\n",
        "model=keras.models.Sequential()\n",
        "model.add(keras.layers.Conv2D(n_channel_1, (3,3), activation='relu', input_shape=(28,28,3)))\n",
        "model.add(keras.layers.MaxPool2D(2,2))\n",
        "model.add(keras.layers.Conv2D(n_channel_2, (3,3), activation='relu'))\n",
        "model.add(keras.layers.MaxPooling2D((2,2)))\n",
        "model.add(keras.layers.Flatten())\n",
        "model.add(keras.layers.Dense(n_dense, activation='relu'))\n",
        "model.add(keras.layers.Dense(3, activation='softmax'))\n",
        "\n",
        "model.summary()\n",
        "\n",
        "model.compile(optimizer='adam',\n",
        "             loss='sparse_categorical_crossentropy',\n",
        "             metrics=['accuracy'])\n",
        "\n",
        "model.fit(X_train, y_train, epochs=n_train_epoch)"
      ],
      "metadata": {
        "colab": {
          "base_uri": "https://localhost:8080/"
        },
        "id": "yR0Pp1kFjaeM",
        "outputId": "6dab73e0-8c38-4335-eb1c-f174a654ee74"
      },
      "execution_count": null,
      "outputs": [
        {
          "output_type": "stream",
          "name": "stdout",
          "text": [
            "Model: \"sequential_6\"\n",
            "_________________________________________________________________\n",
            " Layer (type)                Output Shape              Param #   \n",
            "=================================================================\n",
            " conv2d_12 (Conv2D)          (None, 26, 26, 16)        448       \n",
            "                                                                 \n",
            " max_pooling2d_12 (MaxPoolin  (None, 13, 13, 16)       0         \n",
            " g2D)                                                            \n",
            "                                                                 \n",
            " conv2d_13 (Conv2D)          (None, 11, 11, 32)        4640      \n",
            "                                                                 \n",
            " max_pooling2d_13 (MaxPoolin  (None, 5, 5, 32)         0         \n",
            " g2D)                                                            \n",
            "                                                                 \n",
            " flatten_6 (Flatten)         (None, 800)               0         \n",
            "                                                                 \n",
            " dense_12 (Dense)            (None, 128)               102528    \n",
            "                                                                 \n",
            " dense_13 (Dense)            (None, 3)                 387       \n",
            "                                                                 \n",
            "=================================================================\n",
            "Total params: 108,003\n",
            "Trainable params: 108,003\n",
            "Non-trainable params: 0\n",
            "_________________________________________________________________\n",
            "Epoch 1/10\n",
            "69/69 [==============================] - 1s 6ms/step - loss: 1.0487 - accuracy: 0.4555\n",
            "Epoch 2/10\n",
            "69/69 [==============================] - 0s 6ms/step - loss: 0.7451 - accuracy: 0.6855\n",
            "Epoch 3/10\n",
            "69/69 [==============================] - 0s 6ms/step - loss: 0.4637 - accuracy: 0.8435\n",
            "Epoch 4/10\n",
            "69/69 [==============================] - 0s 6ms/step - loss: 0.3822 - accuracy: 0.8517\n",
            "Epoch 5/10\n",
            "69/69 [==============================] - 0s 6ms/step - loss: 0.3099 - accuracy: 0.8832\n",
            "Epoch 6/10\n",
            "69/69 [==============================] - 0s 6ms/step - loss: 0.2333 - accuracy: 0.9147\n",
            "Epoch 7/10\n",
            "69/69 [==============================] - 0s 6ms/step - loss: 0.1891 - accuracy: 0.9274\n",
            "Epoch 8/10\n",
            "69/69 [==============================] - 0s 6ms/step - loss: 0.1386 - accuracy: 0.9544\n",
            "Epoch 9/10\n",
            "69/69 [==============================] - 0s 6ms/step - loss: 0.1183 - accuracy: 0.9580\n",
            "Epoch 10/10\n",
            "69/69 [==============================] - 0s 6ms/step - loss: 0.1006 - accuracy: 0.9671\n"
          ]
        },
        {
          "output_type": "execute_result",
          "data": {
            "text/plain": [
              "<keras.callbacks.History at 0x7f8b468fb410>"
            ]
          },
          "metadata": {},
          "execution_count": 26
        }
      ]
    },
    {
      "cell_type": "code",
      "source": [
        "test_loss, test_accuracy = model.evaluate(X_test2, y_test2, verbose=2)\n",
        "print(\"test_loss: {} \".format(test_loss))\n",
        "print(\"test_accuracy: {}\".format(test_accuracy))"
      ],
      "metadata": {
        "colab": {
          "base_uri": "https://localhost:8080/"
        },
        "id": "VB0dj6RMjlam",
        "outputId": "60c52c4b-0632-434c-da2b-7cb28bbd2f20"
      },
      "execution_count": null,
      "outputs": [
        {
          "output_type": "stream",
          "name": "stdout",
          "text": [
            "10/10 - 0s - loss: 658.1330 - accuracy: 0.4533 - 138ms/epoch - 14ms/step\n",
            "test_loss: 658.1329956054688 \n",
            "test_accuracy: 0.4533333480358124\n"
          ]
        }
      ]
    },
    {
      "cell_type": "code",
      "source": [
        "n_channel_1=16\n",
        "n_channel_2=32\n",
        "n_dense=128\n",
        "n_train_epoch=10\n",
        "\n",
        "model=keras.models.Sequential()\n",
        "model.add(keras.layers.Conv2D(n_channel_1, (3,3), activation='relu', input_shape=(28,28,3)))\n",
        "model.add(keras.layers.MaxPool2D(2,2))\n",
        "model.add(keras.layers.Conv2D(n_channel_2, (3,3), activation='relu'))\n",
        "model.add(keras.layers.MaxPooling2D((2,2)))\n",
        "model.add(keras.layers.Flatten())\n",
        "model.add(keras.layers.Dense(n_dense, activation='relu'))\n",
        "model.add(keras.layers.Dense(3, activation='softmax'))\n",
        "\n",
        "model.summary()\n",
        "\n",
        "model.compile(optimizer='adam',\n",
        "             loss='sparse_categorical_crossentropy',\n",
        "             metrics=['accuracy'])\n",
        "\n",
        "model.fit(X_train, y_train, epochs=n_train_epoch)"
      ],
      "metadata": {
        "colab": {
          "base_uri": "https://localhost:8080/"
        },
        "id": "ykk6iEG6jl2k",
        "outputId": "5a1ebf4d-69b1-4a80-d781-191e108b12de"
      },
      "execution_count": null,
      "outputs": [
        {
          "output_type": "stream",
          "name": "stdout",
          "text": [
            "Model: \"sequential_7\"\n",
            "_________________________________________________________________\n",
            " Layer (type)                Output Shape              Param #   \n",
            "=================================================================\n",
            " conv2d_14 (Conv2D)          (None, 26, 26, 16)        448       \n",
            "                                                                 \n",
            " max_pooling2d_14 (MaxPoolin  (None, 13, 13, 16)       0         \n",
            " g2D)                                                            \n",
            "                                                                 \n",
            " conv2d_15 (Conv2D)          (None, 11, 11, 32)        4640      \n",
            "                                                                 \n",
            " max_pooling2d_15 (MaxPoolin  (None, 5, 5, 32)         0         \n",
            " g2D)                                                            \n",
            "                                                                 \n",
            " flatten_7 (Flatten)         (None, 800)               0         \n",
            "                                                                 \n",
            " dense_14 (Dense)            (None, 128)               102528    \n",
            "                                                                 \n",
            " dense_15 (Dense)            (None, 3)                 387       \n",
            "                                                                 \n",
            "=================================================================\n",
            "Total params: 108,003\n",
            "Trainable params: 108,003\n",
            "Non-trainable params: 0\n",
            "_________________________________________________________________\n",
            "Epoch 1/10\n",
            "69/69 [==============================] - 1s 6ms/step - loss: 0.9619 - accuracy: 0.5290\n",
            "Epoch 2/10\n",
            "69/69 [==============================] - 0s 6ms/step - loss: 0.6138 - accuracy: 0.7631\n",
            "Epoch 3/10\n",
            "69/69 [==============================] - 0s 6ms/step - loss: 0.4022 - accuracy: 0.8498\n",
            "Epoch 4/10\n",
            "69/69 [==============================] - 0s 6ms/step - loss: 0.2946 - accuracy: 0.8982\n",
            "Epoch 5/10\n",
            "69/69 [==============================] - 0s 6ms/step - loss: 0.2501 - accuracy: 0.9078\n",
            "Epoch 6/10\n",
            "69/69 [==============================] - 0s 6ms/step - loss: 0.1978 - accuracy: 0.9325\n",
            "Epoch 7/10\n",
            "69/69 [==============================] - 0s 6ms/step - loss: 0.1519 - accuracy: 0.9493\n",
            "Epoch 8/10\n",
            "69/69 [==============================] - 0s 6ms/step - loss: 0.1241 - accuracy: 0.9617\n",
            "Epoch 9/10\n",
            "69/69 [==============================] - 0s 6ms/step - loss: 0.1132 - accuracy: 0.9576\n",
            "Epoch 10/10\n",
            "69/69 [==============================] - 0s 6ms/step - loss: 0.0910 - accuracy: 0.9722\n"
          ]
        },
        {
          "output_type": "execute_result",
          "data": {
            "text/plain": [
              "<keras.callbacks.History at 0x7f8b46876c10>"
            ]
          },
          "metadata": {},
          "execution_count": 28
        }
      ]
    },
    {
      "cell_type": "code",
      "source": [
        "test_loss, test_accuracy = model.evaluate(X_test2, y_test2, verbose=2)\n",
        "print(\"test_loss: {} \".format(test_loss))\n",
        "print(\"test_accuracy: {}\".format(test_accuracy))"
      ],
      "metadata": {
        "colab": {
          "base_uri": "https://localhost:8080/"
        },
        "id": "D8slDogcjy6W",
        "outputId": "5be96f2a-4a43-416e-e4d3-caaa33ca480b"
      },
      "execution_count": null,
      "outputs": [
        {
          "output_type": "stream",
          "name": "stdout",
          "text": [
            "10/10 - 0s - loss: 989.4568 - accuracy: 0.5133 - 140ms/epoch - 14ms/step\n",
            "test_loss: 989.4568481445312 \n",
            "test_accuracy: 0.5133333206176758\n"
          ]
        }
      ]
    },
    {
      "cell_type": "code",
      "source": [
        "n_channel_1=16\n",
        "n_channel_2=32\n",
        "n_dense=64\n",
        "n_train_epoch=10\n",
        "\n",
        "model=keras.models.Sequential()\n",
        "model.add(keras.layers.Conv2D(n_channel_1, (3,3), activation='relu', input_shape=(28,28,3)))\n",
        "model.add(keras.layers.MaxPool2D(2,2))\n",
        "model.add(keras.layers.Conv2D(n_channel_2, (3,3), activation='relu'))\n",
        "model.add(keras.layers.MaxPooling2D((2,2)))\n",
        "model.add(keras.layers.Flatten())\n",
        "model.add(keras.layers.Dense(n_dense, activation='relu'))\n",
        "model.add(keras.layers.Dense(3, activation='softmax'))\n",
        "\n",
        "model.summary()\n",
        "\n",
        "model.compile(optimizer='adam',\n",
        "             loss='sparse_categorical_crossentropy',\n",
        "             metrics=['accuracy'])\n",
        "\n",
        "model.fit(X_train, y_train, epochs=n_train_epoch)"
      ],
      "metadata": {
        "colab": {
          "base_uri": "https://localhost:8080/"
        },
        "id": "aU_nG7b9j0iM",
        "outputId": "b69a42e8-e49c-4fde-c949-7d8b4c8682cf"
      },
      "execution_count": null,
      "outputs": [
        {
          "output_type": "stream",
          "name": "stdout",
          "text": [
            "Model: \"sequential_8\"\n",
            "_________________________________________________________________\n",
            " Layer (type)                Output Shape              Param #   \n",
            "=================================================================\n",
            " conv2d_16 (Conv2D)          (None, 26, 26, 16)        448       \n",
            "                                                                 \n",
            " max_pooling2d_16 (MaxPoolin  (None, 13, 13, 16)       0         \n",
            " g2D)                                                            \n",
            "                                                                 \n",
            " conv2d_17 (Conv2D)          (None, 11, 11, 32)        4640      \n",
            "                                                                 \n",
            " max_pooling2d_17 (MaxPoolin  (None, 5, 5, 32)         0         \n",
            " g2D)                                                            \n",
            "                                                                 \n",
            " flatten_8 (Flatten)         (None, 800)               0         \n",
            "                                                                 \n",
            " dense_16 (Dense)            (None, 64)                51264     \n",
            "                                                                 \n",
            " dense_17 (Dense)            (None, 3)                 195       \n",
            "                                                                 \n",
            "=================================================================\n",
            "Total params: 56,547\n",
            "Trainable params: 56,547\n",
            "Non-trainable params: 0\n",
            "_________________________________________________________________\n",
            "Epoch 1/10\n",
            "69/69 [==============================] - 1s 5ms/step - loss: 1.0053 - accuracy: 0.4966\n",
            "Epoch 2/10\n",
            "69/69 [==============================] - 0s 5ms/step - loss: 0.7069 - accuracy: 0.6979\n",
            "Epoch 3/10\n",
            "69/69 [==============================] - 0s 6ms/step - loss: 0.4853 - accuracy: 0.8279\n",
            "Epoch 4/10\n",
            "69/69 [==============================] - 0s 6ms/step - loss: 0.3637 - accuracy: 0.8736\n",
            "Epoch 5/10\n",
            "69/69 [==============================] - 0s 6ms/step - loss: 0.2932 - accuracy: 0.8937\n",
            "Epoch 6/10\n",
            "69/69 [==============================] - 0s 6ms/step - loss: 0.2430 - accuracy: 0.9151\n",
            "Epoch 7/10\n",
            "69/69 [==============================] - 0s 6ms/step - loss: 0.1787 - accuracy: 0.9384\n",
            "Epoch 8/10\n",
            "69/69 [==============================] - 0s 6ms/step - loss: 0.1430 - accuracy: 0.9525\n",
            "Epoch 9/10\n",
            "69/69 [==============================] - 0s 6ms/step - loss: 0.1214 - accuracy: 0.9621\n",
            "Epoch 10/10\n",
            "69/69 [==============================] - 0s 6ms/step - loss: 0.1090 - accuracy: 0.9658\n"
          ]
        },
        {
          "output_type": "execute_result",
          "data": {
            "text/plain": [
              "<keras.callbacks.History at 0x7f8b467d7890>"
            ]
          },
          "metadata": {},
          "execution_count": 30
        }
      ]
    },
    {
      "cell_type": "code",
      "source": [
        "test_loss, test_accuracy = model.evaluate(X_test2, y_test2, verbose=2)\n",
        "print(\"test_loss: {} \".format(test_loss))\n",
        "print(\"test_accuracy: {}\".format(test_accuracy))"
      ],
      "metadata": {
        "colab": {
          "base_uri": "https://localhost:8080/"
        },
        "id": "RpSO-cYBj9qs",
        "outputId": "d8f06130-d959-40aa-d2bc-f19e2d54fe67"
      },
      "execution_count": null,
      "outputs": [
        {
          "output_type": "stream",
          "name": "stdout",
          "text": [
            "10/10 - 0s - loss: 307.0628 - accuracy: 0.6200 - 163ms/epoch - 16ms/step\n",
            "test_loss: 307.06280517578125 \n",
            "test_accuracy: 0.6200000047683716\n"
          ]
        }
      ]
    },
    {
      "cell_type": "markdown",
      "source": [
        "# 회고"
      ],
      "metadata": {
        "id": "zqyafQzEIPGO"
      }
    },
    {
      "cell_type": "markdown",
      "source": [
        "## 프로젝트를 진행하면서 **알아낸 점** 혹은 **아직 모호한 점**.\n",
        "- 한 데이터 셋에서 train, test 데이터셋으로 나눈 경우 비슷한 image 데이터가 많이 있어 90%대의 정확도를 지니지만 완전히 다른 데이터셋을 테스트 셋으로 했을 경우 40~50%의 정확도만 지닌 것을 확인했다.\n",
        "- 이 경우 overfitting이 돼서 그런 것으로 예상된다."
      ],
      "metadata": {
        "id": "Q3jB5q6zLe_b"
      }
    },
    {
      "cell_type": "markdown",
      "source": [
        "## 루브릭 평가 지표를 맞추기 위해 **시도한 것들**.\n",
        "- overfitting이 된 것으로 예상되어 channel_1, channel_2, dense를 줄여가며 다시 학습 시켜보았다.\n",
        "- 순서대로 16, 32, 64에서 accuracy가 60%를 넘는 것을 확인하였다."
      ],
      "metadata": {
        "id": "Mo5IJsuMLgqZ"
      }
    }
  ]
}