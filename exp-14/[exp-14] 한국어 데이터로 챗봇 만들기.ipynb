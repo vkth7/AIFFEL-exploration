{
  "nbformat": 4,
  "nbformat_minor": 0,
  "metadata": {
    "colab": {
      "provenance": [],
      "machine_shape": "hm",
      "collapsed_sections": [],
      "mount_file_id": "1o3QKV9Wo4K6_fcvbjBvzthENTM2VT7p3",
      "authorship_tag": "ABX9TyNyQrarfBNINzWH/TPP7KHE",
      "include_colab_link": true
    },
    "kernelspec": {
      "name": "python3",
      "display_name": "Python 3"
    },
    "language_info": {
      "name": "python"
    },
    "accelerator": "GPU",
    "gpuClass": "standard"
  },
  "cells": [
    {
      "cell_type": "markdown",
      "metadata": {
        "id": "view-in-github",
        "colab_type": "text"
      },
      "source": [
        "<a href=\"https://colab.research.google.com/github/vkth7/AIFFEL-exploration/blob/main/exp-14/%5Bexp-14%5D%20%ED%95%9C%EA%B5%AD%EC%96%B4%20%EB%8D%B0%EC%9D%B4%ED%84%B0%EB%A1%9C%20%EC%B1%97%EB%B4%87%20%EB%A7%8C%EB%93%A4%EA%B8%B0.ipynb\" target=\"_parent\"><img src=\"https://colab.research.google.com/assets/colab-badge.svg\" alt=\"Open In Colab\"/></a>"
      ]
    },
    {
      "cell_type": "markdown",
      "source": [
        "영어로 만들었던 챗봇을 한국어 데이터로 바꿔서 훈련시켜봅시다.\n",
        "\n",
        "시작하기 전에 우선 주요 라이브러리 버전을 확인해 봅시다."
      ],
      "metadata": {
        "id": "kWD0wXMPkKW9"
      }
    },
    {
      "cell_type": "code",
      "execution_count": 1,
      "metadata": {
        "id": "b9RfC6RWjDz2",
        "colab": {
          "base_uri": "https://localhost:8080/"
        },
        "outputId": "5dcaef13-32d5-461b-8a36-0bfbe659ef2b"
      },
      "outputs": [
        {
          "output_type": "stream",
          "name": "stdout",
          "text": [
            "2.8.2\n"
          ]
        }
      ],
      "source": [
        "import tensorflow\n",
        "\n",
        "print(tensorflow.__version__)"
      ]
    },
    {
      "cell_type": "code",
      "source": [
        "from google.colab import drive\n",
        "drive.mount('/content/drive')"
      ],
      "metadata": {
        "id": "ez3CvOonmVuz",
        "colab": {
          "base_uri": "https://localhost:8080/"
        },
        "outputId": "81995138-6ad7-4076-8759-5b58c47fe693"
      },
      "execution_count": 2,
      "outputs": [
        {
          "output_type": "stream",
          "name": "stdout",
          "text": [
            "Drive already mounted at /content/drive; to attempt to forcibly remount, call drive.mount(\"/content/drive\", force_remount=True).\n"
          ]
        }
      ]
    },
    {
      "cell_type": "markdown",
      "source": [
        "### Step 1. 데이터 수집하기\n",
        "---\n",
        "<br>\n",
        "\n",
        "한국어 챗봇 데이터는 송영숙님이 공개한 챗봇 데이터를 사용합니다.\n",
        "\n",
        "이 데이터는 아래의 링크에서 다운로드할 수 있습니다.\n",
        "\n",
        "[songys/Chatbot_data](https://github.com/songys/Chatbot_data/blob/master/ChatbotData.csv)\n",
        "\n",
        "```Cloud shell```에서 아래 명령어를 입력해 주세요.\n",
        "\n",
        "```\n",
        "!mkdir -p /content/drive/MyDrive/aiffel/transformer_chatbot/data/\n",
        "!ln -s ~/data/* ~/aiffel/transformer_chatbot/data/\n",
        "```\n"
      ],
      "metadata": {
        "id": "ItbjM-6TlzBq"
      }
    },
    {
      "cell_type": "code",
      "source": [
        "# !mkdir -p /content/drive/MyDrive/aiffel/transformer_chatbot/data/"
      ],
      "metadata": {
        "id": "9U4ihYiVlykD"
      },
      "execution_count": 3,
      "outputs": []
    },
    {
      "cell_type": "code",
      "source": [
        "# 필요한 모듈 import\n",
        "import tensorflow as tf\n",
        "import tensorflow_datasets as tfds\n",
        "import os\n",
        "import re\n",
        "import numpy as np\n",
        "import matplotlib.pyplot as plt\n",
        "import pandas as pd"
      ],
      "metadata": {
        "id": "cIwotkNJsJUL"
      },
      "execution_count": 4,
      "outputs": []
    },
    {
      "cell_type": "markdown",
      "source": [
        "### Step 2. 데이터 전처리하기\n",
        "---\n",
        "<br>\n",
        "\n",
        "영어 데이터와는 전혀 다른 데이터인 만큼 영어 데이터에 사용했던 전처리와 일부 동일한 전처리도 필요하겠지만 전체적으로는 다른 전처리를 수행해야 할 수도 있습니다."
      ],
      "metadata": {
        "id": "eTGqsj0cr4Ql"
      }
    },
    {
      "cell_type": "code",
      "source": [
        "file_path = '/content/drive/MyDrive/aiffel/transformer_chatbot/data/ChatbotData.csv'\n",
        "kor_chat = pd.read_csv(file_path, encoding='utf-8')"
      ],
      "metadata": {
        "id": "_8Kf4M0VniWS"
      },
      "execution_count": 5,
      "outputs": []
    },
    {
      "cell_type": "code",
      "source": [
        "kor_chat.head(3)"
      ],
      "metadata": {
        "id": "0pTCPQ5_cG_k",
        "colab": {
          "base_uri": "https://localhost:8080/",
          "height": 143
        },
        "outputId": "3e7c7c9a-c6e8-47d0-e2a9-8987e62ada44"
      },
      "execution_count": 6,
      "outputs": [
        {
          "output_type": "execute_result",
          "data": {
            "text/plain": [
              "              Q            A  label\n",
              "0        12시 땡!   하루가 또 가네요.      0\n",
              "1   1지망 학교 떨어졌어    위로해 드립니다.      0\n",
              "2  3박4일 놀러가고 싶다  여행은 언제나 좋죠.      0"
            ],
            "text/html": [
              "\n",
              "  <div id=\"df-79daa892-7b2a-4f44-9149-a07d0dd852cb\">\n",
              "    <div class=\"colab-df-container\">\n",
              "      <div>\n",
              "<style scoped>\n",
              "    .dataframe tbody tr th:only-of-type {\n",
              "        vertical-align: middle;\n",
              "    }\n",
              "\n",
              "    .dataframe tbody tr th {\n",
              "        vertical-align: top;\n",
              "    }\n",
              "\n",
              "    .dataframe thead th {\n",
              "        text-align: right;\n",
              "    }\n",
              "</style>\n",
              "<table border=\"1\" class=\"dataframe\">\n",
              "  <thead>\n",
              "    <tr style=\"text-align: right;\">\n",
              "      <th></th>\n",
              "      <th>Q</th>\n",
              "      <th>A</th>\n",
              "      <th>label</th>\n",
              "    </tr>\n",
              "  </thead>\n",
              "  <tbody>\n",
              "    <tr>\n",
              "      <th>0</th>\n",
              "      <td>12시 땡!</td>\n",
              "      <td>하루가 또 가네요.</td>\n",
              "      <td>0</td>\n",
              "    </tr>\n",
              "    <tr>\n",
              "      <th>1</th>\n",
              "      <td>1지망 학교 떨어졌어</td>\n",
              "      <td>위로해 드립니다.</td>\n",
              "      <td>0</td>\n",
              "    </tr>\n",
              "    <tr>\n",
              "      <th>2</th>\n",
              "      <td>3박4일 놀러가고 싶다</td>\n",
              "      <td>여행은 언제나 좋죠.</td>\n",
              "      <td>0</td>\n",
              "    </tr>\n",
              "  </tbody>\n",
              "</table>\n",
              "</div>\n",
              "      <button class=\"colab-df-convert\" onclick=\"convertToInteractive('df-79daa892-7b2a-4f44-9149-a07d0dd852cb')\"\n",
              "              title=\"Convert this dataframe to an interactive table.\"\n",
              "              style=\"display:none;\">\n",
              "        \n",
              "  <svg xmlns=\"http://www.w3.org/2000/svg\" height=\"24px\"viewBox=\"0 0 24 24\"\n",
              "       width=\"24px\">\n",
              "    <path d=\"M0 0h24v24H0V0z\" fill=\"none\"/>\n",
              "    <path d=\"M18.56 5.44l.94 2.06.94-2.06 2.06-.94-2.06-.94-.94-2.06-.94 2.06-2.06.94zm-11 1L8.5 8.5l.94-2.06 2.06-.94-2.06-.94L8.5 2.5l-.94 2.06-2.06.94zm10 10l.94 2.06.94-2.06 2.06-.94-2.06-.94-.94-2.06-.94 2.06-2.06.94z\"/><path d=\"M17.41 7.96l-1.37-1.37c-.4-.4-.92-.59-1.43-.59-.52 0-1.04.2-1.43.59L10.3 9.45l-7.72 7.72c-.78.78-.78 2.05 0 2.83L4 21.41c.39.39.9.59 1.41.59.51 0 1.02-.2 1.41-.59l7.78-7.78 2.81-2.81c.8-.78.8-2.07 0-2.86zM5.41 20L4 18.59l7.72-7.72 1.47 1.35L5.41 20z\"/>\n",
              "  </svg>\n",
              "      </button>\n",
              "      \n",
              "  <style>\n",
              "    .colab-df-container {\n",
              "      display:flex;\n",
              "      flex-wrap:wrap;\n",
              "      gap: 12px;\n",
              "    }\n",
              "\n",
              "    .colab-df-convert {\n",
              "      background-color: #E8F0FE;\n",
              "      border: none;\n",
              "      border-radius: 50%;\n",
              "      cursor: pointer;\n",
              "      display: none;\n",
              "      fill: #1967D2;\n",
              "      height: 32px;\n",
              "      padding: 0 0 0 0;\n",
              "      width: 32px;\n",
              "    }\n",
              "\n",
              "    .colab-df-convert:hover {\n",
              "      background-color: #E2EBFA;\n",
              "      box-shadow: 0px 1px 2px rgba(60, 64, 67, 0.3), 0px 1px 3px 1px rgba(60, 64, 67, 0.15);\n",
              "      fill: #174EA6;\n",
              "    }\n",
              "\n",
              "    [theme=dark] .colab-df-convert {\n",
              "      background-color: #3B4455;\n",
              "      fill: #D2E3FC;\n",
              "    }\n",
              "\n",
              "    [theme=dark] .colab-df-convert:hover {\n",
              "      background-color: #434B5C;\n",
              "      box-shadow: 0px 1px 3px 1px rgba(0, 0, 0, 0.15);\n",
              "      filter: drop-shadow(0px 1px 2px rgba(0, 0, 0, 0.3));\n",
              "      fill: #FFFFFF;\n",
              "    }\n",
              "  </style>\n",
              "\n",
              "      <script>\n",
              "        const buttonEl =\n",
              "          document.querySelector('#df-79daa892-7b2a-4f44-9149-a07d0dd852cb button.colab-df-convert');\n",
              "        buttonEl.style.display =\n",
              "          google.colab.kernel.accessAllowed ? 'block' : 'none';\n",
              "\n",
              "        async function convertToInteractive(key) {\n",
              "          const element = document.querySelector('#df-79daa892-7b2a-4f44-9149-a07d0dd852cb');\n",
              "          const dataTable =\n",
              "            await google.colab.kernel.invokeFunction('convertToInteractive',\n",
              "                                                     [key], {});\n",
              "          if (!dataTable) return;\n",
              "\n",
              "          const docLinkHtml = 'Like what you see? Visit the ' +\n",
              "            '<a target=\"_blank\" href=https://colab.research.google.com/notebooks/data_table.ipynb>data table notebook</a>'\n",
              "            + ' to learn more about interactive tables.';\n",
              "          element.innerHTML = '';\n",
              "          dataTable['output_type'] = 'display_data';\n",
              "          await google.colab.output.renderOutput(dataTable, element);\n",
              "          const docLink = document.createElement('div');\n",
              "          docLink.innerHTML = docLinkHtml;\n",
              "          element.appendChild(docLink);\n",
              "        }\n",
              "      </script>\n",
              "    </div>\n",
              "  </div>\n",
              "  "
            ]
          },
          "metadata": {},
          "execution_count": 6
        }
      ]
    },
    {
      "cell_type": "code",
      "source": [
        "# NULL 값이 있는지 확인\n",
        "print(kor_chat.isnull().sum())"
      ],
      "metadata": {
        "id": "nWbnBwNjKFgS",
        "colab": {
          "base_uri": "https://localhost:8080/"
        },
        "outputId": "034beebb-a5a9-40e9-bc0c-91192a3758d4"
      },
      "execution_count": 7,
      "outputs": [
        {
          "output_type": "stream",
          "name": "stdout",
          "text": [
            "Q        0\n",
            "A        0\n",
            "label    0\n",
            "dtype: int64\n"
          ]
        }
      ]
    },
    {
      "cell_type": "code",
      "source": [
        "# NULL 값이 있으면 제거\n",
        "# data.dropna(axis=0, inplace=True)"
      ],
      "metadata": {
        "id": "hoZjK0gJKZvl"
      },
      "execution_count": 8,
      "outputs": []
    },
    {
      "cell_type": "code",
      "source": [
        "# 전처리 함수\n",
        "def preprocess_sentence(sentence):\n",
        "  sentence = sentence.lower().strip()\n",
        "\n",
        "  # 단어와 구두점(punctuation) 사이의 거리를 만듭니다.\n",
        "  # 예를 들어서 \"I am a student.\" => \"I am a student .\"와 같이\n",
        "  # student와 온점 사이에 거리를 만듭니다.\n",
        "  sentence = re.sub(r\"([?.!,])\", r\" \\1 \", sentence)\n",
        "  sentence = re.sub(r'[\" \"]+', \" \", sentence)\n",
        "\n",
        "  # (a-z, A-Z, \".\", \"?\", \"!\", \",\")를 제외한 모든 문자를 공백인 ' '로 대체합니다.\n",
        "  sentence = re.sub(r\"[^가-힣?.!,]+\", \" \", sentence)\n",
        "  sentence = sentence.strip()\n",
        "  return sentence"
      ],
      "metadata": {
        "id": "bSoEW_-ucNFB"
      },
      "execution_count": 9,
      "outputs": []
    },
    {
      "cell_type": "code",
      "source": [
        "question = []\n",
        "for s in kor_chat['Q']:\n",
        "    question.append(preprocess_sentence(s))\n",
        "\n",
        "print(\"Q 전처리 후 결과: \", question[:5])"
      ],
      "metadata": {
        "id": "gJ1m8zib3-Gh",
        "colab": {
          "base_uri": "https://localhost:8080/"
        },
        "outputId": "d9c8e8a9-6324-4842-fe75-22f424e920ef"
      },
      "execution_count": 10,
      "outputs": [
        {
          "output_type": "stream",
          "name": "stdout",
          "text": [
            "Q 전처리 후 결과:  ['시 땡 !', '지망 학교 떨어졌어', '박 일 놀러가고 싶다', '박 일 정도 놀러가고 싶다', '심하네']\n"
          ]
        }
      ]
    },
    {
      "cell_type": "code",
      "source": [
        "answer = []\n",
        "# 전체 Summary 데이터에 대한 전처리 : 5분 이상 시간이 걸릴 수 있습니다. \n",
        "for s in kor_chat['A']:\n",
        "    answer.append(preprocess_sentence(s))\n",
        "\n",
        "print(\"A 전처리 후 결과: \", answer[:5])"
      ],
      "metadata": {
        "id": "OIsNjNbJ6UBy",
        "colab": {
          "base_uri": "https://localhost:8080/"
        },
        "outputId": "277bdd4d-89f9-47db-d045-1a45cb213a36"
      },
      "execution_count": 11,
      "outputs": [
        {
          "output_type": "stream",
          "name": "stdout",
          "text": [
            "A 전처리 후 결과:  ['하루가 또 가네요 .', '위로해 드립니다 .', '여행은 언제나 좋죠 .', '여행은 언제나 좋죠 .', '눈살이 찌푸려지죠 .']\n"
          ]
        }
      ]
    },
    {
      "cell_type": "markdown",
      "source": [
        "### Step 3. SubwordTextEncoder 사용하기\n",
        "---\n",
        "<br>\n",
        "\n",
        "한국어 데이터는 형태소 분석기를 사용하여 토크나이징을 해야 한다고 많은 분이 알고 있습니다. 하지만 여기서는 형태소 분석기가 아닌 위 실습에서 사용했던 내부 단어 토크나이저인 ```SubwordTextEncoder```를 그대로 사용해보세요."
      ],
      "metadata": {
        "id": "5r1HK7JC0sw-"
      }
    },
    {
      "cell_type": "code",
      "source": [
        "# 질문과 답변 데이터셋에 대해서 Vocabulary 생성합니다.\n",
        "tokenizer = tfds.deprecated.text.SubwordTextEncoder.build_from_corpus(question + answer, target_vocab_size=2**13)"
      ],
      "metadata": {
        "id": "hreBNQxgy4gq"
      },
      "execution_count": 12,
      "outputs": []
    },
    {
      "cell_type": "code",
      "source": [
        "# 시작 토큰과 종료 토큰에 고유한 정수를 부여\n",
        "START_TOKEN, END_TOKEN = [tokenizer.vocab_size], [tokenizer.vocab_size + 1]"
      ],
      "metadata": {
        "id": "X6Hq883s1iZ0"
      },
      "execution_count": 13,
      "outputs": []
    },
    {
      "cell_type": "code",
      "source": [
        "print('START_TOKEN의 번호 :' ,[tokenizer.vocab_size])\n",
        "print('END_TOKEN의 번호 :' ,[tokenizer.vocab_size + 1])"
      ],
      "metadata": {
        "id": "CKmtTTT51mXO",
        "colab": {
          "base_uri": "https://localhost:8080/"
        },
        "outputId": "ed2a07b0-55b3-4000-d0f4-570769d5bd71"
      },
      "execution_count": 14,
      "outputs": [
        {
          "output_type": "stream",
          "name": "stdout",
          "text": [
            "START_TOKEN의 번호 : [8127]\n",
            "END_TOKEN의 번호 : [8128]\n"
          ]
        }
      ]
    },
    {
      "cell_type": "code",
      "source": [
        "# 시작 토큰과 종료 토큰을 고려하여 +2를 하여 단어장의 크기를 산정합니다.\n",
        "VOCAB_SIZE = tokenizer.vocab_size + 2\n",
        "print(VOCAB_SIZE)"
      ],
      "metadata": {
        "id": "oslfdu5I1ptl",
        "colab": {
          "base_uri": "https://localhost:8080/"
        },
        "outputId": "28e14c56-dbc5-47bd-f182-807ffb8e17a8"
      },
      "execution_count": 15,
      "outputs": [
        {
          "output_type": "stream",
          "name": "stdout",
          "text": [
            "8129\n"
          ]
        }
      ]
    },
    {
      "cell_type": "code",
      "source": [
        "# 임의의 101번째 샘플에 대해서 정수 인코딩 작업을 수행.\n",
        "# 각 토큰을 고유한 정수로 변환\n",
        "print('정수 인코딩 후의 101번째 질문 샘플: {}'.format(tokenizer.encode(question[100])))\n",
        "print('정수 인코딩 후의 101번째 답변 샘플: {}'.format(tokenizer.encode(answer[100])))"
      ],
      "metadata": {
        "id": "BE3uGFJI10vN",
        "colab": {
          "base_uri": "https://localhost:8080/"
        },
        "outputId": "66e06979-4957-4478-85d3-dec0e2b701b7"
      },
      "execution_count": 16,
      "outputs": [
        {
          "output_type": "stream",
          "name": "stdout",
          "text": [
            "정수 인코딩 후의 101번째 질문 샘플: [1940, 460]\n",
            "정수 인코딩 후의 101번째 답변 샘플: [502, 6943, 7903, 689, 2442, 49]\n"
          ]
        }
      ]
    },
    {
      "cell_type": "code",
      "source": [
        "# 샘플의 최대 허용 길이 또는 패딩 후의 최종 길이\n",
        "MAX_LENGTH = 40\n",
        "print(MAX_LENGTH)"
      ],
      "metadata": {
        "id": "SroR3SEeLEzU",
        "colab": {
          "base_uri": "https://localhost:8080/"
        },
        "outputId": "aecae9f9-0781-4497-ecab-3d11b139c51d"
      },
      "execution_count": 17,
      "outputs": [
        {
          "output_type": "stream",
          "name": "stdout",
          "text": [
            "40\n"
          ]
        }
      ]
    },
    {
      "cell_type": "code",
      "source": [
        "# 정수 인코딩, 최대 길이를 초과하는 샘플 제거, 패딩\n",
        "def tokenize_and_filter(inputs, outputs):\n",
        "  tokenized_inputs, tokenized_outputs = [], []\n",
        "  \n",
        "  for (sentence1, sentence2) in zip(inputs, outputs):\n",
        "    # 정수 인코딩 과정에서 시작 토큰과 종료 토큰을 추가\n",
        "    sentence1 = START_TOKEN + tokenizer.encode(sentence1) + END_TOKEN\n",
        "    sentence2 = START_TOKEN + tokenizer.encode(sentence2) + END_TOKEN\n",
        "\n",
        "    # 최대 길이 40 이하인 경우에만 데이터셋으로 허용\n",
        "    if len(sentence1) <= MAX_LENGTH and len(sentence2) <= MAX_LENGTH:\n",
        "      tokenized_inputs.append(sentence1)\n",
        "      tokenized_outputs.append(sentence2)\n",
        "  \n",
        "  # 최대 길이 40으로 모든 데이터셋을 패딩\n",
        "  tokenized_inputs = tf.keras.preprocessing.sequence.pad_sequences(\n",
        "      tokenized_inputs, maxlen=MAX_LENGTH, padding='post')\n",
        "  tokenized_outputs = tf.keras.preprocessing.sequence.pad_sequences(\n",
        "      tokenized_outputs, maxlen=MAX_LENGTH, padding='post')\n",
        "  \n",
        "  return tokenized_inputs, tokenized_outputs"
      ],
      "metadata": {
        "id": "zw2_Blv1pfmi"
      },
      "execution_count": 18,
      "outputs": []
    },
    {
      "cell_type": "code",
      "source": [
        "questions, answers = tokenize_and_filter(question, answer)\n",
        "print('단어장의 크기 :',(VOCAB_SIZE))\n",
        "print('필터링 후의 질문 샘플 개수: {}'.format(len(questions)))\n",
        "print('필터링 후의 답변 샘플 개수: {}'.format(len(answers)))"
      ],
      "metadata": {
        "id": "-iRnRlq1pi8b",
        "colab": {
          "base_uri": "https://localhost:8080/"
        },
        "outputId": "4532d2ab-fa9c-48d3-f258-d74a397ba517"
      },
      "execution_count": 19,
      "outputs": [
        {
          "output_type": "stream",
          "name": "stdout",
          "text": [
            "단어장의 크기 : 8129\n",
            "필터링 후의 질문 샘플 개수: 11823\n",
            "필터링 후의 답변 샘플 개수: 11823\n"
          ]
        }
      ]
    },
    {
      "cell_type": "code",
      "source": [
        "BATCH_SIZE = 64\n",
        "BUFFER_SIZE = 20000\n",
        "\n",
        "# 디코더는 이전의 target을 다음의 input으로 사용합니다.\n",
        "# 이에 따라 outputs에서는 START_TOKEN을 제거하겠습니다.\n",
        "dataset = tf.data.Dataset.from_tensor_slices((\n",
        "    {\n",
        "        'inputs': questions,\n",
        "        'dec_inputs': answers[:, :-1]\n",
        "    },\n",
        "    {\n",
        "        'outputs': answers[:, 1:]\n",
        "    },\n",
        "))\n",
        "\n",
        "dataset = dataset.cache()\n",
        "dataset = dataset.shuffle(BUFFER_SIZE)\n",
        "dataset = dataset.batch(BATCH_SIZE)\n",
        "dataset = dataset.prefetch(tf.data.experimental.AUTOTUNE)"
      ],
      "metadata": {
        "id": "L9_Hhr1i2iMu"
      },
      "execution_count": 20,
      "outputs": []
    },
    {
      "cell_type": "markdown",
      "source": [
        "### Step 4. 모델 구성하기\n",
        "---\n",
        "<br>\n",
        "\n",
        "위 실습 내용을 참고하여 트랜스포머 모델을 구현합니다."
      ],
      "metadata": {
        "id": "k33KHTKYci3i"
      }
    },
    {
      "cell_type": "markdown",
      "source": [
        "##### 포지셔널 인코딩 레이어"
      ],
      "metadata": {
        "id": "dtGxzZ2xcY0W"
      }
    },
    {
      "cell_type": "code",
      "source": [
        "class PositionalEncoding(tf.keras.layers.Layer):\n",
        "\n",
        "  def __init__(self, position, d_model):\n",
        "    super(PositionalEncoding, self).__init__()\n",
        "    self.pos_encoding = self.positional_encoding(position, d_model)\n",
        "\n",
        "  def get_angles(self, position, i, d_model):\n",
        "    angles = 1 / tf.pow(10000, (2 * (i // 2)) / tf.cast(d_model, tf.float32))\n",
        "    return position * angles\n",
        "\n",
        "  def positional_encoding(self, position, d_model):\n",
        "    # 각도 배열 생성\n",
        "    angle_rads = self.get_angles(\n",
        "        position=tf.range(position, dtype=tf.float32)[:, tf.newaxis],\n",
        "        i=tf.range(d_model, dtype=tf.float32)[tf.newaxis, :],\n",
        "        d_model=d_model)\n",
        "\n",
        "    # 배열의 짝수 인덱스에는 sin 함수 적용\n",
        "    sines = tf.math.sin(angle_rads[:, 0::2])\n",
        "    # 배열의 홀수 인덱스에는 cosine 함수 적용\n",
        "    cosines = tf.math.cos(angle_rads[:, 1::2])\n",
        "\n",
        "    # sin과 cosine이 교차되도록 재배열\n",
        "    pos_encoding = tf.stack([sines, cosines], axis=0)\n",
        "    pos_encoding = tf.transpose(pos_encoding,[1, 2, 0]) \n",
        "    pos_encoding = tf.reshape(pos_encoding, [position, d_model])\n",
        "\n",
        "    pos_encoding = pos_encoding[tf.newaxis, ...]\n",
        "    return tf.cast(pos_encoding, tf.float32)\n",
        "\n",
        "  def call(self, inputs):\n",
        "    return inputs + self.pos_encoding[:, :tf.shape(inputs)[1], :]"
      ],
      "metadata": {
        "id": "kusZCzsObgFO"
      },
      "execution_count": 21,
      "outputs": []
    },
    {
      "cell_type": "markdown",
      "source": [
        "##### 스케일드 닷 프로덕트 어텐션 함수"
      ],
      "metadata": {
        "id": "BI0kJ6-qceJ5"
      }
    },
    {
      "cell_type": "code",
      "source": [
        "def scaled_dot_product_attention(query, key, value, mask):\n",
        "  # 어텐션 가중치는 Q와 K의 닷 프로덕트\n",
        "  matmul_qk = tf.matmul(query, key, transpose_b=True)\n",
        "\n",
        "  # 가중치를 정규화\n",
        "  depth = tf.cast(tf.shape(key)[-1], tf.float32)\n",
        "  logits = matmul_qk / tf.math.sqrt(depth)\n",
        "\n",
        "  # 패딩에 마스크 추가\n",
        "  if mask is not None:\n",
        "    logits += (mask * -1e9)\n",
        "\n",
        "  # softmax적용\n",
        "  attention_weights = tf.nn.softmax(logits, axis=-1)\n",
        "\n",
        "  # 최종 어텐션은 가중치와 V의 닷 프로덕트\n",
        "  output = tf.matmul(attention_weights, value)\n",
        "  return output"
      ],
      "metadata": {
        "id": "3EB0GiUTbj6-"
      },
      "execution_count": 22,
      "outputs": []
    },
    {
      "cell_type": "markdown",
      "source": [
        "##### 멀티 헤드 어탠션 함수"
      ],
      "metadata": {
        "id": "OvalLuTRchlf"
      }
    },
    {
      "cell_type": "code",
      "source": [
        "class MultiHeadAttention(tf.keras.layers.Layer):\n",
        "\n",
        "  def __init__(self, d_model, num_heads, name=\"multi_head_attention\"):\n",
        "    super(MultiHeadAttention, self).__init__(name=name)\n",
        "    self.num_heads = num_heads\n",
        "    self.d_model = d_model\n",
        "\n",
        "    assert d_model % self.num_heads == 0\n",
        "\n",
        "    self.depth = d_model // self.num_heads\n",
        "\n",
        "    self.query_dense = tf.keras.layers.Dense(units=d_model)\n",
        "    self.key_dense = tf.keras.layers.Dense(units=d_model)\n",
        "    self.value_dense = tf.keras.layers.Dense(units=d_model)\n",
        "\n",
        "    self.dense = tf.keras.layers.Dense(units=d_model)\n",
        "\n",
        "  def split_heads(self, inputs, batch_size):\n",
        "    inputs = tf.reshape(\n",
        "        inputs, shape=(batch_size, -1, self.num_heads, self.depth))\n",
        "    return tf.transpose(inputs, perm=[0, 2, 1, 3])\n",
        "\n",
        "  def call(self, inputs):\n",
        "    query, key, value, mask = inputs['query'], inputs['key'], inputs[\n",
        "        'value'], inputs['mask']\n",
        "    batch_size = tf.shape(query)[0]\n",
        "\n",
        "    # Q, K, V에 각각 Dense를 적용합니다\n",
        "    query = self.query_dense(query)\n",
        "    key = self.key_dense(key)\n",
        "    value = self.value_dense(value)\n",
        "\n",
        "    # 병렬 연산을 위한 머리를 여러 개 만듭니다\n",
        "    query = self.split_heads(query, batch_size)\n",
        "    key = self.split_heads(key, batch_size)\n",
        "    value = self.split_heads(value, batch_size)\n",
        "\n",
        "    # 스케일드 닷 프로덕트 어텐션 함수\n",
        "    scaled_attention = scaled_dot_product_attention(query, key, value, mask)\n",
        "\n",
        "    scaled_attention = tf.transpose(scaled_attention, perm=[0, 2, 1, 3])\n",
        "\n",
        "    # 어텐션 연산 후에 각 결과를 다시 연결(concatenate)합니다\n",
        "    concat_attention = tf.reshape(scaled_attention,\n",
        "                                  (batch_size, -1, self.d_model))\n",
        "\n",
        "    # 최종 결과에도 Dense를 한 번 더 적용합니다\n",
        "    outputs = self.dense(concat_attention)\n",
        "\n",
        "    return outputs"
      ],
      "metadata": {
        "id": "tjdyDv6abrcF"
      },
      "execution_count": 23,
      "outputs": []
    },
    {
      "cell_type": "markdown",
      "source": [
        "##### 패딩 마스킹"
      ],
      "metadata": {
        "id": "hskQJL_eco6V"
      }
    },
    {
      "cell_type": "code",
      "source": [
        "def create_padding_mask(x):\n",
        "  mask = tf.cast(tf.math.equal(x, 0), tf.float32)\n",
        "  # (batch_size, 1, 1, sequence length)\n",
        "  return mask[:, tf.newaxis, tf.newaxis, :]"
      ],
      "metadata": {
        "id": "9Z7zMHMibv9R"
      },
      "execution_count": 24,
      "outputs": []
    },
    {
      "cell_type": "markdown",
      "source": [
        "##### 룩 어헤드 마스킹(Look-ahead masking, 다음 단어 가리기)"
      ],
      "metadata": {
        "id": "-SpFotjmc2Wt"
      }
    },
    {
      "cell_type": "code",
      "source": [
        "def create_look_ahead_mask(x):\n",
        "  seq_len = tf.shape(x)[1]\n",
        "  look_ahead_mask = 1 - tf.linalg.band_part(tf.ones((seq_len, seq_len)), -1, 0)\n",
        "  padding_mask = create_padding_mask(x)\n",
        "  return tf.maximum(look_ahead_mask, padding_mask)"
      ],
      "metadata": {
        "id": "48T24xIUby3M"
      },
      "execution_count": 25,
      "outputs": []
    },
    {
      "cell_type": "markdown",
      "source": [
        "#### 인코더 구현"
      ],
      "metadata": {
        "id": "WMwPZptfc7K3"
      }
    },
    {
      "cell_type": "code",
      "source": [
        "# 인코더 하나의 레이어를 함수로 구현.\n",
        "# 이 하나의 레이어 안에는 두 개의 서브 레이어가 존재합니다.\n",
        "def encoder_layer(units, d_model, num_heads, dropout, name=\"encoder_layer\"):\n",
        "  inputs = tf.keras.Input(shape=(None, d_model), name=\"inputs\")\n",
        "\n",
        "  # 패딩 마스크 사용\n",
        "  padding_mask = tf.keras.Input(shape=(1, 1, None), name=\"padding_mask\")\n",
        "\n",
        "  # 첫 번째 서브 레이어 : 멀티 헤드 어텐션 수행 (셀프 어텐션)\n",
        "  attention = MultiHeadAttention(\n",
        "      d_model, num_heads, name=\"attention\")({\n",
        "          'query': inputs,\n",
        "          'key': inputs,\n",
        "          'value': inputs,\n",
        "          'mask': padding_mask\n",
        "      })\n",
        "\n",
        "  # 어텐션의 결과는 Dropout과 Layer Normalization이라는 훈련을 돕는 테크닉을 수행\n",
        "  attention = tf.keras.layers.Dropout(rate=dropout)(attention)\n",
        "  attention = tf.keras.layers.LayerNormalization(\n",
        "      epsilon=1e-6)(inputs + attention)\n",
        "\n",
        "  # 두 번째 서브 레이어 : 2개의 완전연결층\n",
        "  outputs = tf.keras.layers.Dense(units=units, activation='relu')(attention)\n",
        "  outputs = tf.keras.layers.Dense(units=d_model)(outputs)\n",
        "\n",
        "  # 완전연결층의 결과는 Dropout과 LayerNormalization이라는 훈련을 돕는 테크닉을 수행\n",
        "  outputs = tf.keras.layers.Dropout(rate=dropout)(outputs)\n",
        "  outputs = tf.keras.layers.LayerNormalization(\n",
        "      epsilon=1e-6)(attention + outputs)\n",
        "\n",
        "  return tf.keras.Model(\n",
        "      inputs=[inputs, padding_mask], outputs=outputs, name=name)"
      ],
      "metadata": {
        "id": "-G9GaYrM3BkK"
      },
      "execution_count": 26,
      "outputs": []
    },
    {
      "cell_type": "code",
      "source": [
        "def encoder(vocab_size,\n",
        "            num_layers,\n",
        "            units,\n",
        "            d_model,\n",
        "            num_heads,\n",
        "            dropout,\n",
        "            name=\"encoder\"):\n",
        "  inputs = tf.keras.Input(shape=(None,), name=\"inputs\")\n",
        "\n",
        "  # 패딩 마스크 사용\n",
        "  padding_mask = tf.keras.Input(shape=(1, 1, None), name=\"padding_mask\")\n",
        "\n",
        "  # 임베딩 레이어\n",
        "  embeddings = tf.keras.layers.Embedding(vocab_size, d_model)(inputs)\n",
        "  embeddings *= tf.math.sqrt(tf.cast(d_model, tf.float32))\n",
        "\n",
        "  # 포지셔널 인코딩\n",
        "  embeddings = PositionalEncoding(vocab_size, d_model)(embeddings)\n",
        "\n",
        "  outputs = tf.keras.layers.Dropout(rate=dropout)(embeddings)\n",
        "\n",
        "  # num_layers만큼 쌓아올린 인코더의 층.\n",
        "  for i in range(num_layers):\n",
        "    outputs = encoder_layer(\n",
        "        units=units,\n",
        "        d_model=d_model,\n",
        "        num_heads=num_heads,\n",
        "        dropout=dropout,\n",
        "        name=\"encoder_layer_{}\".format(i),\n",
        "    )([outputs, padding_mask])\n",
        "\n",
        "  return tf.keras.Model(\n",
        "      inputs=[inputs, padding_mask], outputs=outputs, name=name)"
      ],
      "metadata": {
        "id": "jTBHI1EAbVrZ"
      },
      "execution_count": 27,
      "outputs": []
    },
    {
      "cell_type": "markdown",
      "source": [
        "#### 디코더 구현"
      ],
      "metadata": {
        "id": "d9kMpxSTc_CR"
      }
    },
    {
      "cell_type": "code",
      "source": [
        "# 디코더 하나의 레이어를 함수로 구현.\n",
        "# 이 하나의 레이어 안에는 세 개의 서브 레이어가 존재합니다.\n",
        "def decoder_layer(units, d_model, num_heads, dropout, name=\"decoder_layer\"):\n",
        "  inputs = tf.keras.Input(shape=(None, d_model), name=\"inputs\")\n",
        "  enc_outputs = tf.keras.Input(shape=(None, d_model), name=\"encoder_outputs\")\n",
        "  look_ahead_mask = tf.keras.Input(\n",
        "      shape=(1, None, None), name=\"look_ahead_mask\")\n",
        "  padding_mask = tf.keras.Input(shape=(1, 1, None), name='padding_mask')\n",
        "\n",
        "  # 첫 번째 서브 레이어 : 멀티 헤드 어텐션 수행 (셀프 어텐션)\n",
        "  attention1 = MultiHeadAttention(\n",
        "      d_model, num_heads, name=\"attention_1\")(inputs={\n",
        "          'query': inputs,\n",
        "          'key': inputs,\n",
        "          'value': inputs,\n",
        "          'mask': look_ahead_mask\n",
        "      })\n",
        "\n",
        "  # 멀티 헤드 어텐션의 결과는 LayerNormalization이라는 훈련을 돕는 테크닉을 수행\n",
        "  attention1 = tf.keras.layers.LayerNormalization(\n",
        "      epsilon=1e-6)(attention1 + inputs)\n",
        "\n",
        "  # 두 번째 서브 레이어 : 마스크드 멀티 헤드 어텐션 수행 (인코더-디코더 어텐션)\n",
        "  attention2 = MultiHeadAttention(\n",
        "      d_model, num_heads, name=\"attention_2\")(inputs={\n",
        "          'query': attention1,\n",
        "          'key': enc_outputs,\n",
        "          'value': enc_outputs,\n",
        "          'mask': padding_mask\n",
        "      })\n",
        "\n",
        "  # 마스크드 멀티 헤드 어텐션의 결과는\n",
        "  # Dropout과 LayerNormalization이라는 훈련을 돕는 테크닉을 수행\n",
        "  attention2 = tf.keras.layers.Dropout(rate=dropout)(attention2)\n",
        "  attention2 = tf.keras.layers.LayerNormalization(\n",
        "      epsilon=1e-6)(attention2 + attention1)\n",
        "\n",
        "  # 세 번째 서브 레이어 : 2개의 완전연결층\n",
        "  outputs = tf.keras.layers.Dense(units=units, activation='relu')(attention2)\n",
        "  outputs = tf.keras.layers.Dense(units=d_model)(outputs)\n",
        "\n",
        "  # 완전연결층의 결과는 Dropout과 LayerNormalization 수행\n",
        "  outputs = tf.keras.layers.Dropout(rate=dropout)(outputs)\n",
        "  outputs = tf.keras.layers.LayerNormalization(\n",
        "      epsilon=1e-6)(outputs + attention2)\n",
        "\n",
        "  return tf.keras.Model(\n",
        "      inputs=[inputs, enc_outputs, look_ahead_mask, padding_mask],\n",
        "      outputs=outputs,\n",
        "      name=name)"
      ],
      "metadata": {
        "id": "ZYDmAgE8cDN4"
      },
      "execution_count": 28,
      "outputs": []
    },
    {
      "cell_type": "code",
      "source": [
        "def decoder(vocab_size,\n",
        "            num_layers,\n",
        "            units,\n",
        "            d_model,\n",
        "            num_heads,\n",
        "            dropout,\n",
        "            name='decoder'):\n",
        "  inputs = tf.keras.Input(shape=(None,), name='inputs')\n",
        "  enc_outputs = tf.keras.Input(shape=(None, d_model), name='encoder_outputs')\n",
        "  look_ahead_mask = tf.keras.Input(\n",
        "      shape=(1, None, None), name='look_ahead_mask')\n",
        "\n",
        "  # 패딩 마스크\n",
        "  padding_mask = tf.keras.Input(shape=(1, 1, None), name='padding_mask')\n",
        "  \n",
        "  # 임베딩 레이어\n",
        "  embeddings = tf.keras.layers.Embedding(vocab_size, d_model)(inputs)\n",
        "  embeddings *= tf.math.sqrt(tf.cast(d_model, tf.float32))\n",
        "\n",
        "  # 포지셔널 인코딩\n",
        "  embeddings = PositionalEncoding(vocab_size, d_model)(embeddings)\n",
        "\n",
        "  # Dropout이라는 훈련을 돕는 테크닉을 수행\n",
        "  outputs = tf.keras.layers.Dropout(rate=dropout)(embeddings)\n",
        "\n",
        "  for i in range(num_layers):\n",
        "    outputs = decoder_layer(\n",
        "        units=units,\n",
        "        d_model=d_model,\n",
        "        num_heads=num_heads,\n",
        "        dropout=dropout,\n",
        "        name='decoder_layer_{}'.format(i),\n",
        "    )(inputs=[outputs, enc_outputs, look_ahead_mask, padding_mask])\n",
        "\n",
        "  return tf.keras.Model(\n",
        "      inputs=[inputs, enc_outputs, look_ahead_mask, padding_mask],\n",
        "      outputs=outputs,\n",
        "      name=name)"
      ],
      "metadata": {
        "id": "EWHM1IJjcECy"
      },
      "execution_count": 29,
      "outputs": []
    },
    {
      "cell_type": "markdown",
      "source": [
        "#### 트랜스포머 모델링"
      ],
      "metadata": {
        "id": "hWHzfZATgkT2"
      }
    },
    {
      "cell_type": "code",
      "source": [
        "def transformer(vocab_size,\n",
        "                num_layers,\n",
        "                units,\n",
        "                d_model,\n",
        "                num_heads,\n",
        "                dropout,\n",
        "                name=\"transformer\"):\n",
        "  inputs = tf.keras.Input(shape=(None,), name=\"inputs\")\n",
        "  dec_inputs = tf.keras.Input(shape=(None,), name=\"dec_inputs\")\n",
        "\n",
        "  # 인코더에서 패딩을 위한 마스크\n",
        "  enc_padding_mask = tf.keras.layers.Lambda(\n",
        "      create_padding_mask, output_shape=(1, 1, None),\n",
        "      name='enc_padding_mask')(inputs)\n",
        "\n",
        "  # 디코더에서 미래의 토큰을 마스크 하기 위해서 사용합니다.\n",
        "  # 내부적으로 패딩 마스크도 포함되어져 있습니다.\n",
        "  look_ahead_mask = tf.keras.layers.Lambda(\n",
        "      create_look_ahead_mask,\n",
        "      output_shape=(1, None, None),\n",
        "      name='look_ahead_mask')(dec_inputs)\n",
        "\n",
        "  # 두 번째 어텐션 블록에서 인코더의 벡터들을 마스킹\n",
        "  # 디코더에서 패딩을 위한 마스크\n",
        "  dec_padding_mask = tf.keras.layers.Lambda(\n",
        "      create_padding_mask, output_shape=(1, 1, None),\n",
        "      name='dec_padding_mask')(inputs)\n",
        "\n",
        "  # 인코더\n",
        "  enc_outputs = encoder(\n",
        "      vocab_size=vocab_size,\n",
        "      num_layers=num_layers,\n",
        "      units=units,\n",
        "      d_model=d_model,\n",
        "      num_heads=num_heads,\n",
        "      dropout=dropout,\n",
        "  )(inputs=[inputs, enc_padding_mask])\n",
        "\n",
        "  # 디코더\n",
        "  dec_outputs = decoder(\n",
        "      vocab_size=vocab_size,\n",
        "      num_layers=num_layers,\n",
        "      units=units,\n",
        "      d_model=d_model,\n",
        "      num_heads=num_heads,\n",
        "      dropout=dropout,\n",
        "  )(inputs=[dec_inputs, enc_outputs, look_ahead_mask, dec_padding_mask])\n",
        "\n",
        "  # 완전연결층\n",
        "  outputs = tf.keras.layers.Dense(units=vocab_size, name=\"outputs\")(dec_outputs)\n",
        "\n",
        "  return tf.keras.Model(inputs=[inputs, dec_inputs], outputs=outputs, name=name)"
      ],
      "metadata": {
        "id": "AbgqRgA2ggS5"
      },
      "execution_count": 30,
      "outputs": []
    },
    {
      "cell_type": "markdown",
      "source": [
        "#### 모델 생성"
      ],
      "metadata": {
        "id": "I7YojsrrhNv6"
      }
    },
    {
      "cell_type": "code",
      "source": [
        "tf.keras.backend.clear_session()\n",
        "\n",
        "# 하이퍼파라미터\n",
        "NUM_LAYERS = 6 # 인코더와 디코더의 층의 개수\n",
        "D_MODEL = 512 # 인코더와 디코더 내부의 입, 출력의 고정 차원\n",
        "NUM_HEADS = 8 # 멀티 헤드 어텐션에서의 헤드 수 \n",
        "UNITS = 512 # 피드 포워드 신경망의 은닉층의 크기\n",
        "DROPOUT = 0.1 # 드롭아웃의 비율\n",
        "\n",
        "model = transformer(\n",
        "    vocab_size=VOCAB_SIZE,\n",
        "    num_layers=NUM_LAYERS,\n",
        "    units=UNITS,\n",
        "    d_model=D_MODEL,\n",
        "    num_heads=NUM_HEADS,\n",
        "    dropout=DROPOUT)\n",
        "\n",
        "model.summary()"
      ],
      "metadata": {
        "id": "nubCianHgrZl",
        "colab": {
          "base_uri": "https://localhost:8080/"
        },
        "outputId": "8c671faf-ff59-474a-ac82-a0e72eda078a"
      },
      "execution_count": 31,
      "outputs": [
        {
          "output_type": "stream",
          "name": "stdout",
          "text": [
            "Model: \"transformer\"\n",
            "__________________________________________________________________________________________________\n",
            " Layer (type)                   Output Shape         Param #     Connected to                     \n",
            "==================================================================================================\n",
            " inputs (InputLayer)            [(None, None)]       0           []                               \n",
            "                                                                                                  \n",
            " dec_inputs (InputLayer)        [(None, None)]       0           []                               \n",
            "                                                                                                  \n",
            " enc_padding_mask (Lambda)      (None, 1, 1, None)   0           ['inputs[0][0]']                 \n",
            "                                                                                                  \n",
            " encoder (Functional)           (None, None, 512)    13629952    ['inputs[0][0]',                 \n",
            "                                                                  'enc_padding_mask[0][0]']       \n",
            "                                                                                                  \n",
            " look_ahead_mask (Lambda)       (None, 1, None, Non  0           ['dec_inputs[0][0]']             \n",
            "                                e)                                                                \n",
            "                                                                                                  \n",
            " dec_padding_mask (Lambda)      (None, 1, 1, None)   0           ['inputs[0][0]']                 \n",
            "                                                                                                  \n",
            " decoder (Functional)           (None, None, 512)    19939840    ['dec_inputs[0][0]',             \n",
            "                                                                  'encoder[0][0]',                \n",
            "                                                                  'look_ahead_mask[0][0]',        \n",
            "                                                                  'dec_padding_mask[0][0]']       \n",
            "                                                                                                  \n",
            " outputs (Dense)                (None, None, 8129)   4170177     ['decoder[0][0]']                \n",
            "                                                                                                  \n",
            "==================================================================================================\n",
            "Total params: 37,739,969\n",
            "Trainable params: 37,739,969\n",
            "Non-trainable params: 0\n",
            "__________________________________________________________________________________________________\n"
          ]
        }
      ]
    },
    {
      "cell_type": "code",
      "source": [
        "def loss_function(y_true, y_pred):\n",
        "  y_true = tf.reshape(y_true, shape=(-1, MAX_LENGTH - 1))\n",
        "  \n",
        "  loss = tf.keras.losses.SparseCategoricalCrossentropy(\n",
        "      from_logits=True, reduction='none')(y_true, y_pred)\n",
        "\n",
        "  mask = tf.cast(tf.not_equal(y_true, 0), tf.float32)\n",
        "  loss = tf.multiply(loss, mask)\n",
        "\n",
        "  return tf.reduce_mean(loss)"
      ],
      "metadata": {
        "id": "rsOx2hHRh-p_"
      },
      "execution_count": 32,
      "outputs": []
    },
    {
      "cell_type": "code",
      "source": [
        "class CustomSchedule(tf.keras.optimizers.schedules.LearningRateSchedule):\n",
        "\n",
        "  def __init__(self, d_model, warmup_steps=4000):\n",
        "    super(CustomSchedule, self).__init__()\n",
        "\n",
        "    self.d_model = d_model\n",
        "    self.d_model = tf.cast(self.d_model, tf.float32)\n",
        "\n",
        "    self.warmup_steps = warmup_steps\n",
        "\n",
        "  def __call__(self, step):\n",
        "    arg1 = tf.math.rsqrt(step)\n",
        "    arg2 = step * (self.warmup_steps**-1.5)\n",
        "\n",
        "    return tf.math.rsqrt(self.d_model) * tf.math.minimum(arg1, arg2)"
      ],
      "metadata": {
        "id": "Xz0qgqBRiDK7"
      },
      "execution_count": 33,
      "outputs": []
    },
    {
      "cell_type": "code",
      "source": [
        "learning_rate = CustomSchedule(D_MODEL)\n",
        "\n",
        "optimizer = tf.keras.optimizers.Adam(\n",
        "    learning_rate, beta_1=0.9, beta_2=0.98, epsilon=1e-9)\n",
        "\n",
        "def accuracy(y_true, y_pred):\n",
        "  y_true = tf.reshape(y_true, shape=(-1, MAX_LENGTH - 1))\n",
        "  return tf.keras.metrics.sparse_categorical_accuracy(y_true, y_pred)\n",
        "\n",
        "model.compile(optimizer=optimizer, loss=loss_function, metrics=[accuracy])"
      ],
      "metadata": {
        "id": "mi9zh4Wrkd3g"
      },
      "execution_count": 34,
      "outputs": []
    },
    {
      "cell_type": "code",
      "source": [
        "EPOCHS = 10\n",
        "model.fit(dataset, epochs=EPOCHS, verbose=1)"
      ],
      "metadata": {
        "id": "wzAankQEkgoN",
        "colab": {
          "base_uri": "https://localhost:8080/"
        },
        "outputId": "b5708ab8-5db1-4409-92a4-840a27fbe00b"
      },
      "execution_count": 35,
      "outputs": [
        {
          "output_type": "stream",
          "name": "stdout",
          "text": [
            "Epoch 1/10\n",
            "185/185 [==============================] - 60s 183ms/step - loss: 1.3400 - accuracy: 0.0231\n",
            "Epoch 2/10\n",
            "185/185 [==============================] - 34s 184ms/step - loss: 1.0738 - accuracy: 0.0493\n",
            "Epoch 3/10\n",
            "185/185 [==============================] - 34s 185ms/step - loss: 0.9789 - accuracy: 0.0509\n",
            "Epoch 4/10\n",
            "185/185 [==============================] - 34s 182ms/step - loss: 0.9387 - accuracy: 0.0528\n",
            "Epoch 5/10\n",
            "185/185 [==============================] - 34s 182ms/step - loss: 0.9036 - accuracy: 0.0550\n",
            "Epoch 6/10\n",
            "185/185 [==============================] - 34s 182ms/step - loss: 0.8696 - accuracy: 0.0566\n",
            "Epoch 7/10\n",
            "185/185 [==============================] - 34s 182ms/step - loss: 0.8329 - accuracy: 0.0585\n",
            "Epoch 8/10\n",
            "185/185 [==============================] - 34s 182ms/step - loss: 0.7907 - accuracy: 0.0608\n",
            "Epoch 9/10\n",
            "185/185 [==============================] - 34s 181ms/step - loss: 0.7436 - accuracy: 0.0640\n",
            "Epoch 10/10\n",
            "185/185 [==============================] - 34s 182ms/step - loss: 0.6912 - accuracy: 0.0680\n"
          ]
        },
        {
          "output_type": "execute_result",
          "data": {
            "text/plain": [
              "<keras.callbacks.History at 0x7f6a87985250>"
            ]
          },
          "metadata": {},
          "execution_count": 35
        }
      ]
    },
    {
      "cell_type": "markdown",
      "source": [
        "###Step 5. 모델 평가하기\n",
        "---\n",
        "<br>\n",
        "\n",
        "Step 1에서 선택한 전처리 방법을 고려하여 입력된 문장에 대해서 대답을 얻는 예측 함수를 만듭니다."
      ],
      "metadata": {
        "id": "AJsIicHmcorN"
      }
    },
    {
      "cell_type": "code",
      "source": [
        "def decoder_inference(sentence):\n",
        "  sentence = preprocess_sentence(sentence)\n",
        "\n",
        "  # 입력된 문장을 정수 인코딩 후, 시작 토큰과 종료 토큰을 앞뒤로 추가.\n",
        "  # ex) Where have you been? → [[8331   86   30    5 1059    7 8332]]\n",
        "  sentence = tf.expand_dims(\n",
        "      START_TOKEN + tokenizer.encode(sentence) + END_TOKEN, axis=0)\n",
        "\n",
        "  # 디코더의 현재까지의 예측한 출력 시퀀스가 지속적으로 저장되는 변수.\n",
        "  # 처음에는 예측한 내용이 없음으로 시작 토큰만 별도 저장. ex) 8331\n",
        "  output_sequence = tf.expand_dims(START_TOKEN, 0)\n",
        "\n",
        "  # 디코더의 인퍼런스 단계\n",
        "  for i in range(MAX_LENGTH):\n",
        "    # 디코더는 최대 MAX_LENGTH의 길이만큼 다음 단어 예측을 반복합니다.\n",
        "    predictions = model(inputs=[sentence, output_sequence], training=False)\n",
        "    predictions = predictions[:, -1:, :]\n",
        "\n",
        "    # 현재 예측한 단어의 정수\n",
        "    predicted_id = tf.cast(tf.argmax(predictions, axis=-1), tf.int32)\n",
        "\n",
        "    # 만약 현재 예측한 단어가 종료 토큰이라면 for문을 종료\n",
        "    if tf.equal(predicted_id, END_TOKEN[0]):\n",
        "      break\n",
        "\n",
        "    # 예측한 단어들은 지속적으로 output_sequence에 추가됩니다.\n",
        "    # 이 output_sequence는 다시 디코더의 입력이 됩니다.\n",
        "    output_sequence = tf.concat([output_sequence, predicted_id], axis=-1)\n",
        "\n",
        "  return tf.squeeze(output_sequence, axis=0)"
      ],
      "metadata": {
        "id": "TaOoA8JYn5HW"
      },
      "execution_count": 36,
      "outputs": []
    },
    {
      "cell_type": "code",
      "source": [
        "def sentence_generation(sentence):\n",
        "  # 입력 문장에 대해서 디코더를 동작 시켜 예측된 정수 시퀀스를 리턴받습니다.\n",
        "  prediction = decoder_inference(sentence)\n",
        "\n",
        "  # 정수 시퀀스를 다시 텍스트 시퀀스로 변환합니다.\n",
        "  predicted_sentence = tokenizer.decode(\n",
        "      [i for i in prediction if i < tokenizer.vocab_size])\n",
        "\n",
        "  print('입력 : {}'.format(sentence))\n",
        "  print('출력 : {}'.format(predicted_sentence))\n",
        "\n",
        "  return predicted_sentence"
      ],
      "metadata": {
        "id": "LCOTl3t-pos5"
      },
      "execution_count": 37,
      "outputs": []
    },
    {
      "cell_type": "code",
      "source": [
        "sentence_generation('피곤하네')"
      ],
      "metadata": {
        "id": "lEga895Xprs4",
        "colab": {
          "base_uri": "https://localhost:8080/",
          "height": 71
        },
        "outputId": "f1dd17a0-bd0f-457f-c0e2-e9c66763ea30"
      },
      "execution_count": 38,
      "outputs": [
        {
          "output_type": "stream",
          "name": "stdout",
          "text": [
            "입력 : 피곤하네\n",
            "출력 : 더 많이 지쳤나봐요 .\n"
          ]
        },
        {
          "output_type": "execute_result",
          "data": {
            "text/plain": [
              "'더 많이 지쳤나봐요 .'"
            ],
            "application/vnd.google.colaboratory.intrinsic+json": {
              "type": "string"
            }
          },
          "metadata": {},
          "execution_count": 38
        }
      ]
    },
    {
      "cell_type": "code",
      "source": [
        "sentence_generation(\"뭐할까\")"
      ],
      "metadata": {
        "id": "VFJdfP_oqScI",
        "colab": {
          "base_uri": "https://localhost:8080/",
          "height": 71
        },
        "outputId": "ead3e877-d33f-470b-b6cd-8ce786cc5552"
      },
      "execution_count": 39,
      "outputs": [
        {
          "output_type": "stream",
          "name": "stdout",
          "text": [
            "입력 : 뭐할까\n",
            "출력 : 저도 좋아해요 .\n"
          ]
        },
        {
          "output_type": "execute_result",
          "data": {
            "text/plain": [
              "'저도 좋아해요 .'"
            ],
            "application/vnd.google.colaboratory.intrinsic+json": {
              "type": "string"
            }
          },
          "metadata": {},
          "execution_count": 39
        }
      ]
    },
    {
      "cell_type": "code",
      "source": [
        "sentence_generation(\"놀러갈 곳 있니?\")"
      ],
      "metadata": {
        "id": "ap5gxWROqWWg",
        "colab": {
          "base_uri": "https://localhost:8080/",
          "height": 71
        },
        "outputId": "52fbd870-86e9-412e-f165-8ba3ac4a2962"
      },
      "execution_count": 40,
      "outputs": [
        {
          "output_type": "stream",
          "name": "stdout",
          "text": [
            "입력 : 놀러갈 곳 있니?\n",
            "출력 : 저는 가는 거예요 .\n"
          ]
        },
        {
          "output_type": "execute_result",
          "data": {
            "text/plain": [
              "'저는 가는 거예요 .'"
            ],
            "application/vnd.google.colaboratory.intrinsic+json": {
              "type": "string"
            }
          },
          "metadata": {},
          "execution_count": 40
        }
      ]
    },
    {
      "cell_type": "code",
      "source": [
        "EPOCHS = 100\n",
        "model.fit(dataset, epochs=EPOCHS, verbose=1)"
      ],
      "metadata": {
        "colab": {
          "base_uri": "https://localhost:8080/"
        },
        "id": "6meyltu5hv5p",
        "outputId": "25e4c8a0-4c84-416f-9ea5-c71790777b73"
      },
      "execution_count": 41,
      "outputs": [
        {
          "output_type": "stream",
          "name": "stdout",
          "text": [
            "Epoch 1/100\n",
            "185/185 [==============================] - 34s 182ms/step - loss: 0.6365 - accuracy: 0.0732\n",
            "Epoch 2/100\n",
            "185/185 [==============================] - 34s 182ms/step - loss: 0.5798 - accuracy: 0.0791\n",
            "Epoch 3/100\n",
            "185/185 [==============================] - 34s 182ms/step - loss: 0.5237 - accuracy: 0.0859\n",
            "Epoch 4/100\n",
            "185/185 [==============================] - 34s 182ms/step - loss: 0.4720 - accuracy: 0.0925\n",
            "Epoch 5/100\n",
            "185/185 [==============================] - 34s 182ms/step - loss: 0.4231 - accuracy: 0.0992\n",
            "Epoch 6/100\n",
            "185/185 [==============================] - 35s 187ms/step - loss: 0.3791 - accuracy: 0.1050\n",
            "Epoch 7/100\n",
            "185/185 [==============================] - 34s 182ms/step - loss: 0.3436 - accuracy: 0.1097\n",
            "Epoch 8/100\n",
            "185/185 [==============================] - 34s 182ms/step - loss: 0.3146 - accuracy: 0.1135\n",
            "Epoch 9/100\n",
            "185/185 [==============================] - 34s 182ms/step - loss: 0.2916 - accuracy: 0.1165\n",
            "Epoch 10/100\n",
            "185/185 [==============================] - 34s 182ms/step - loss: 0.2738 - accuracy: 0.1187\n",
            "Epoch 11/100\n",
            "185/185 [==============================] - 34s 185ms/step - loss: 0.2590 - accuracy: 0.1210\n",
            "Epoch 12/100\n",
            "185/185 [==============================] - 34s 183ms/step - loss: 0.2466 - accuracy: 0.1227\n",
            "Epoch 13/100\n",
            "185/185 [==============================] - 34s 184ms/step - loss: 0.2291 - accuracy: 0.1257\n",
            "Epoch 14/100\n",
            "185/185 [==============================] - 34s 182ms/step - loss: 0.2116 - accuracy: 0.1286\n",
            "Epoch 15/100\n",
            "185/185 [==============================] - 34s 183ms/step - loss: 0.1951 - accuracy: 0.1312\n",
            "Epoch 16/100\n",
            "185/185 [==============================] - 34s 182ms/step - loss: 0.1825 - accuracy: 0.1334\n",
            "Epoch 17/100\n",
            "185/185 [==============================] - 34s 182ms/step - loss: 0.1673 - accuracy: 0.1362\n",
            "Epoch 18/100\n",
            "185/185 [==============================] - 34s 182ms/step - loss: 0.1542 - accuracy: 0.1384\n",
            "Epoch 19/100\n",
            "185/185 [==============================] - 34s 182ms/step - loss: 0.1456 - accuracy: 0.1399\n",
            "Epoch 20/100\n",
            "185/185 [==============================] - 34s 182ms/step - loss: 0.1373 - accuracy: 0.1416\n",
            "Epoch 21/100\n",
            "185/185 [==============================] - 34s 182ms/step - loss: 0.1287 - accuracy: 0.1431\n",
            "Epoch 22/100\n",
            "185/185 [==============================] - 34s 182ms/step - loss: 0.1207 - accuracy: 0.1447\n",
            "Epoch 23/100\n",
            "185/185 [==============================] - 34s 182ms/step - loss: 0.1132 - accuracy: 0.1462\n",
            "Epoch 24/100\n",
            "185/185 [==============================] - 34s 182ms/step - loss: 0.1069 - accuracy: 0.1476\n",
            "Epoch 25/100\n",
            "185/185 [==============================] - 34s 182ms/step - loss: 0.1014 - accuracy: 0.1487\n",
            "Epoch 26/100\n",
            "185/185 [==============================] - 34s 182ms/step - loss: 0.0947 - accuracy: 0.1500\n",
            "Epoch 27/100\n",
            "185/185 [==============================] - 34s 182ms/step - loss: 0.0912 - accuracy: 0.1509\n",
            "Epoch 28/100\n",
            "185/185 [==============================] - 34s 182ms/step - loss: 0.0862 - accuracy: 0.1520\n",
            "Epoch 29/100\n",
            "185/185 [==============================] - 34s 182ms/step - loss: 0.0815 - accuracy: 0.1534\n",
            "Epoch 30/100\n",
            "185/185 [==============================] - 34s 182ms/step - loss: 0.0775 - accuracy: 0.1542\n",
            "Epoch 31/100\n",
            "185/185 [==============================] - 34s 182ms/step - loss: 0.0747 - accuracy: 0.1548\n",
            "Epoch 32/100\n",
            "185/185 [==============================] - 34s 182ms/step - loss: 0.0696 - accuracy: 0.1560\n",
            "Epoch 33/100\n",
            "185/185 [==============================] - 34s 182ms/step - loss: 0.0667 - accuracy: 0.1567\n",
            "Epoch 34/100\n",
            "185/185 [==============================] - 34s 182ms/step - loss: 0.0629 - accuracy: 0.1575\n",
            "Epoch 35/100\n",
            "185/185 [==============================] - 34s 182ms/step - loss: 0.0601 - accuracy: 0.1582\n",
            "Epoch 36/100\n",
            "185/185 [==============================] - 34s 182ms/step - loss: 0.0566 - accuracy: 0.1592\n",
            "Epoch 37/100\n",
            "185/185 [==============================] - 34s 182ms/step - loss: 0.0554 - accuracy: 0.1594\n",
            "Epoch 38/100\n",
            "185/185 [==============================] - 34s 182ms/step - loss: 0.0533 - accuracy: 0.1602\n",
            "Epoch 39/100\n",
            "185/185 [==============================] - 34s 182ms/step - loss: 0.0496 - accuracy: 0.1610\n",
            "Epoch 40/100\n",
            "185/185 [==============================] - 34s 182ms/step - loss: 0.0480 - accuracy: 0.1616\n",
            "Epoch 41/100\n",
            "185/185 [==============================] - 34s 182ms/step - loss: 0.0468 - accuracy: 0.1618\n",
            "Epoch 42/100\n",
            "185/185 [==============================] - 34s 182ms/step - loss: 0.0438 - accuracy: 0.1625\n",
            "Epoch 43/100\n",
            "185/185 [==============================] - 34s 182ms/step - loss: 0.0430 - accuracy: 0.1627\n",
            "Epoch 44/100\n",
            "185/185 [==============================] - 34s 182ms/step - loss: 0.0404 - accuracy: 0.1635\n",
            "Epoch 45/100\n",
            "185/185 [==============================] - 34s 182ms/step - loss: 0.0394 - accuracy: 0.1639\n",
            "Epoch 46/100\n",
            "185/185 [==============================] - 34s 182ms/step - loss: 0.0376 - accuracy: 0.1643\n",
            "Epoch 47/100\n",
            "185/185 [==============================] - 34s 182ms/step - loss: 0.0364 - accuracy: 0.1645\n",
            "Epoch 48/100\n",
            "185/185 [==============================] - 34s 182ms/step - loss: 0.0366 - accuracy: 0.1646\n",
            "Epoch 49/100\n",
            "185/185 [==============================] - 34s 182ms/step - loss: 0.0346 - accuracy: 0.1651\n",
            "Epoch 50/100\n",
            "185/185 [==============================] - 34s 182ms/step - loss: 0.0322 - accuracy: 0.1657\n",
            "Epoch 51/100\n",
            "185/185 [==============================] - 34s 182ms/step - loss: 0.0310 - accuracy: 0.1663\n",
            "Epoch 52/100\n",
            "185/185 [==============================] - 34s 183ms/step - loss: 0.0300 - accuracy: 0.1665\n",
            "Epoch 53/100\n",
            "185/185 [==============================] - 34s 182ms/step - loss: 0.0294 - accuracy: 0.1667\n",
            "Epoch 54/100\n",
            "185/185 [==============================] - 34s 182ms/step - loss: 0.0283 - accuracy: 0.1669\n",
            "Epoch 55/100\n",
            "185/185 [==============================] - 34s 182ms/step - loss: 0.0275 - accuracy: 0.1671\n",
            "Epoch 56/100\n",
            "185/185 [==============================] - 34s 182ms/step - loss: 0.0270 - accuracy: 0.1672\n",
            "Epoch 57/100\n",
            "185/185 [==============================] - 34s 182ms/step - loss: 0.0262 - accuracy: 0.1675\n",
            "Epoch 58/100\n",
            "185/185 [==============================] - 34s 182ms/step - loss: 0.0257 - accuracy: 0.1676\n",
            "Epoch 59/100\n",
            "185/185 [==============================] - 34s 182ms/step - loss: 0.0240 - accuracy: 0.1681\n",
            "Epoch 60/100\n",
            "185/185 [==============================] - 34s 182ms/step - loss: 0.0240 - accuracy: 0.1681\n",
            "Epoch 61/100\n",
            "185/185 [==============================] - 34s 183ms/step - loss: 0.0229 - accuracy: 0.1684\n",
            "Epoch 62/100\n",
            "185/185 [==============================] - 34s 182ms/step - loss: 0.0227 - accuracy: 0.1685\n",
            "Epoch 63/100\n",
            "185/185 [==============================] - 34s 183ms/step - loss: 0.0215 - accuracy: 0.1689\n",
            "Epoch 64/100\n",
            "185/185 [==============================] - 34s 182ms/step - loss: 0.0212 - accuracy: 0.1689\n",
            "Epoch 65/100\n",
            "185/185 [==============================] - 34s 182ms/step - loss: 0.0216 - accuracy: 0.1689\n",
            "Epoch 66/100\n",
            "185/185 [==============================] - 34s 182ms/step - loss: 0.0204 - accuracy: 0.1691\n",
            "Epoch 67/100\n",
            "185/185 [==============================] - 34s 182ms/step - loss: 0.0195 - accuracy: 0.1693\n",
            "Epoch 68/100\n",
            "185/185 [==============================] - 34s 182ms/step - loss: 0.0194 - accuracy: 0.1693\n",
            "Epoch 69/100\n",
            "185/185 [==============================] - 34s 182ms/step - loss: 0.0190 - accuracy: 0.1695\n",
            "Epoch 70/100\n",
            "185/185 [==============================] - 34s 183ms/step - loss: 0.0177 - accuracy: 0.1699\n",
            "Epoch 71/100\n",
            "185/185 [==============================] - 34s 182ms/step - loss: 0.0176 - accuracy: 0.1699\n",
            "Epoch 72/100\n",
            "185/185 [==============================] - 34s 182ms/step - loss: 0.0175 - accuracy: 0.1700\n",
            "Epoch 73/100\n",
            "185/185 [==============================] - 34s 182ms/step - loss: 0.0174 - accuracy: 0.1700\n",
            "Epoch 74/100\n",
            "185/185 [==============================] - 34s 182ms/step - loss: 0.0168 - accuracy: 0.1702\n",
            "Epoch 75/100\n",
            "185/185 [==============================] - 34s 182ms/step - loss: 0.0170 - accuracy: 0.1702\n",
            "Epoch 76/100\n",
            "185/185 [==============================] - 34s 182ms/step - loss: 0.0160 - accuracy: 0.1703\n",
            "Epoch 77/100\n",
            "185/185 [==============================] - 34s 182ms/step - loss: 0.0152 - accuracy: 0.1707\n",
            "Epoch 78/100\n",
            "185/185 [==============================] - 34s 182ms/step - loss: 0.0156 - accuracy: 0.1705\n",
            "Epoch 79/100\n",
            "185/185 [==============================] - 34s 182ms/step - loss: 0.0151 - accuracy: 0.1707\n",
            "Epoch 80/100\n",
            "185/185 [==============================] - 34s 182ms/step - loss: 0.0156 - accuracy: 0.1706\n",
            "Epoch 81/100\n",
            "185/185 [==============================] - 34s 182ms/step - loss: 0.0146 - accuracy: 0.1709\n",
            "Epoch 82/100\n",
            "185/185 [==============================] - 34s 182ms/step - loss: 0.0143 - accuracy: 0.1709\n",
            "Epoch 83/100\n",
            "185/185 [==============================] - 34s 182ms/step - loss: 0.0137 - accuracy: 0.1712\n",
            "Epoch 84/100\n",
            "185/185 [==============================] - 34s 182ms/step - loss: 0.0137 - accuracy: 0.1711\n",
            "Epoch 85/100\n",
            "185/185 [==============================] - 34s 182ms/step - loss: 0.0136 - accuracy: 0.1711\n",
            "Epoch 86/100\n",
            "185/185 [==============================] - 34s 182ms/step - loss: 0.0127 - accuracy: 0.1712\n",
            "Epoch 87/100\n",
            "185/185 [==============================] - 34s 182ms/step - loss: 0.0130 - accuracy: 0.1713\n",
            "Epoch 88/100\n",
            "185/185 [==============================] - 34s 182ms/step - loss: 0.0129 - accuracy: 0.1714\n",
            "Epoch 89/100\n",
            "185/185 [==============================] - 34s 183ms/step - loss: 0.0139 - accuracy: 0.1710\n",
            "Epoch 90/100\n",
            "185/185 [==============================] - 34s 181ms/step - loss: 0.0112 - accuracy: 0.1717\n",
            "Epoch 91/100\n",
            "185/185 [==============================] - 34s 182ms/step - loss: 0.0118 - accuracy: 0.1716\n",
            "Epoch 92/100\n",
            "185/185 [==============================] - 34s 182ms/step - loss: 0.0119 - accuracy: 0.1716\n",
            "Epoch 93/100\n",
            "185/185 [==============================] - 34s 182ms/step - loss: 0.0116 - accuracy: 0.1716\n",
            "Epoch 94/100\n",
            "185/185 [==============================] - 34s 182ms/step - loss: 0.0122 - accuracy: 0.1715\n",
            "Epoch 95/100\n",
            "185/185 [==============================] - 34s 182ms/step - loss: 0.0109 - accuracy: 0.1718\n",
            "Epoch 96/100\n",
            "185/185 [==============================] - 34s 182ms/step - loss: 0.0108 - accuracy: 0.1719\n",
            "Epoch 97/100\n",
            "185/185 [==============================] - 34s 182ms/step - loss: 0.0112 - accuracy: 0.1719\n",
            "Epoch 98/100\n",
            "185/185 [==============================] - 34s 183ms/step - loss: 0.0108 - accuracy: 0.1719\n",
            "Epoch 99/100\n",
            "185/185 [==============================] - 34s 182ms/step - loss: 0.0109 - accuracy: 0.1719\n",
            "Epoch 100/100\n",
            "185/185 [==============================] - 34s 182ms/step - loss: 0.0102 - accuracy: 0.1721\n"
          ]
        },
        {
          "output_type": "execute_result",
          "data": {
            "text/plain": [
              "<keras.callbacks.History at 0x7f69cd97b410>"
            ]
          },
          "metadata": {},
          "execution_count": 41
        }
      ]
    },
    {
      "cell_type": "code",
      "source": [
        "sentence_generation('피곤하네')"
      ],
      "metadata": {
        "colab": {
          "base_uri": "https://localhost:8080/",
          "height": 71
        },
        "id": "omaNWH4Wu3nE",
        "outputId": "581caca1-15b6-4320-88a8-e2ae4df9a809"
      },
      "execution_count": 42,
      "outputs": [
        {
          "output_type": "stream",
          "name": "stdout",
          "text": [
            "입력 : 피곤하네\n",
            "출력 : 나 자신에 집중하세요 . 언제나 순위에 자신을 두세요 .\n"
          ]
        },
        {
          "output_type": "execute_result",
          "data": {
            "text/plain": [
              "'나 자신에 집중하세요 . 언제나 순위에 자신을 두세요 .'"
            ],
            "application/vnd.google.colaboratory.intrinsic+json": {
              "type": "string"
            }
          },
          "metadata": {},
          "execution_count": 42
        }
      ]
    },
    {
      "cell_type": "code",
      "source": [
        "sentence_generation(\"뭐할까\")"
      ],
      "metadata": {
        "colab": {
          "base_uri": "https://localhost:8080/",
          "height": 71
        },
        "id": "ZGNrFXdCu8cI",
        "outputId": "3847f368-fa05-47b2-823c-d1655358542a"
      },
      "execution_count": 43,
      "outputs": [
        {
          "output_type": "stream",
          "name": "stdout",
          "text": [
            "입력 : 뭐할까\n",
            "출력 : 저랑 놀아요 .\n"
          ]
        },
        {
          "output_type": "execute_result",
          "data": {
            "text/plain": [
              "'저랑 놀아요 .'"
            ],
            "application/vnd.google.colaboratory.intrinsic+json": {
              "type": "string"
            }
          },
          "metadata": {},
          "execution_count": 43
        }
      ]
    },
    {
      "cell_type": "code",
      "source": [
        "sentence_generation(\"놀러갈 곳 있니?\")"
      ],
      "metadata": {
        "colab": {
          "base_uri": "https://localhost:8080/",
          "height": 71
        },
        "id": "eGGB4H4Su_5L",
        "outputId": "3e65decc-3cda-4a41-da52-09aee2b4cbe1"
      },
      "execution_count": 44,
      "outputs": [
        {
          "output_type": "stream",
          "name": "stdout",
          "text": [
            "입력 : 놀러갈 곳 있니?\n",
            "출력 : 다니면서 준비해보세요 .\n"
          ]
        },
        {
          "output_type": "execute_result",
          "data": {
            "text/plain": [
              "'다니면서 준비해보세요 .'"
            ],
            "application/vnd.google.colaboratory.intrinsic+json": {
              "type": "string"
            }
          },
          "metadata": {},
          "execution_count": 44
        }
      ]
    },
    {
      "cell_type": "markdown",
      "source": [
        "# 회고\n",
        "- 이번 프로젝트에서 어려웠던 점\n",
        "  - 학습을 시키는데 accuracy가 너무 느리게 증가하는 것이 가슴아팠습니다...\n",
        "\n",
        "epoch를 10으로 설정하고 한 결과는 입력 문장과 비교해 문맥이 맞지 않는 결과를 내보냈고 epoch 100으로 설정하고 나온 결과는 10일 때와 비교해 조금 더 나은 결과를 보여주지만, 입력 문장이 '피곤하네'일 때 나온 결과와 accuracy의 증가하는 경향을 보아 과적합되었다고 추측합니다."
      ],
      "metadata": {
        "id": "NqZ60laA66Wh"
      }
    }
  ]
}