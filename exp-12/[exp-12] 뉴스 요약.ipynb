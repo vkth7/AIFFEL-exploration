{
  "nbformat": 4,
  "nbformat_minor": 0,
  "metadata": {
    "colab": {
      "provenance": [],
      "machine_shape": "hm",
      "collapsed_sections": [],
      "mount_file_id": "1ffi-VMcWfrRKppb_pUrgR6Y_g2e-fChf",
      "authorship_tag": "ABX9TyPWBLEr6LSAmQLt6by+/uET",
      "include_colab_link": true
    },
    "kernelspec": {
      "name": "python3",
      "display_name": "Python 3"
    },
    "language_info": {
      "name": "python"
    },
    "gpuClass": "standard",
    "accelerator": "GPU"
  },
  "cells": [
    {
      "cell_type": "markdown",
      "metadata": {
        "id": "view-in-github",
        "colab_type": "text"
      },
      "source": [
        "<a href=\"https://colab.research.google.com/github/vkth7/AIFFEL-exploration/blob/main/exp-12/%5Bexp-12%5D%20%EB%89%B4%EC%8A%A4%20%EC%9A%94%EC%95%BD.ipynb\" target=\"_parent\"><img src=\"https://colab.research.google.com/assets/colab-badge.svg\" alt=\"Open In Colab\"/></a>"
      ]
    },
    {
      "cell_type": "markdown",
      "source": [
        "# 12-13. 프로젝트: 뉴스기사 요약해보기"
      ],
      "metadata": {
        "id": "szrlzKZIR808"
      }
    },
    {
      "cell_type": "code",
      "source": [
        "!pip install summa"
      ],
      "metadata": {
        "colab": {
          "base_uri": "https://localhost:8080/"
        },
        "id": "fkhgaXqiIPSk",
        "outputId": "6331a7e3-a6d4-415c-e699-4480e4423e39"
      },
      "execution_count": null,
      "outputs": [
        {
          "output_type": "stream",
          "name": "stdout",
          "text": [
            "Looking in indexes: https://pypi.org/simple, https://us-python.pkg.dev/colab-wheels/public/simple/\n",
            "Requirement already satisfied: summa in /usr/local/lib/python3.7/dist-packages (1.2.0)\n",
            "Requirement already satisfied: scipy>=0.19 in /usr/local/lib/python3.7/dist-packages (from summa) (1.7.3)\n",
            "Requirement already satisfied: numpy<1.23.0,>=1.16.5 in /usr/local/lib/python3.7/dist-packages (from scipy>=0.19->summa) (1.21.6)\n"
          ]
        }
      ]
    },
    {
      "cell_type": "code",
      "source": [
        "import nltk\n",
        "nltk.download('stopwords')\n",
        "\n",
        "import numpy as np\n",
        "import pandas as pd\n",
        "import os\n",
        "import re\n",
        "import matplotlib.pyplot as plt\n",
        "from nltk.corpus import stopwords\n",
        "from bs4 import BeautifulSoup \n",
        "import requests\n",
        "from summa.summarizer import summarize\n",
        "from tensorflow.keras.preprocessing.text import Tokenizer \n",
        "from tensorflow.keras.preprocessing.sequence import pad_sequences\n",
        "from tensorflow.keras.layers import Input, LSTM, Embedding, Dense, Concatenate, TimeDistributed\n",
        "from tensorflow.keras.models import Model\n",
        "from tensorflow.keras.callbacks import EarlyStopping, ModelCheckpoint\n",
        "from tensorflow.keras.layers import AdditiveAttention\n",
        "import urllib.request\n",
        "import warnings\n",
        "warnings.filterwarnings(\"ignore\", category=UserWarning, module='bs4')"
      ],
      "metadata": {
        "colab": {
          "base_uri": "https://localhost:8080/"
        },
        "id": "nqSdXeQQSKog",
        "outputId": "c8bdaa53-ff51-4db2-8396-d3512bc18df7"
      },
      "execution_count": null,
      "outputs": [
        {
          "output_type": "stream",
          "name": "stderr",
          "text": [
            "[nltk_data] Downloading package stopwords to /root/nltk_data...\n",
            "[nltk_data]   Package stopwords is already up-to-date!\n"
          ]
        }
      ]
    },
    {
      "cell_type": "markdown",
      "source": [
        "## Step 1. 데이터 수집하기\n",
        "데이터는 아래 링크에 있는 뉴스 기사 데이터(news_summary_more.csv)를 사용하세요.\n",
        "\n",
        "[sunnysai12345/News_Summary](https://github.com/sunnysai12345/News_Summary)\n",
        "아래의 코드로 데이터를 다운로드할 수 있어요."
      ],
      "metadata": {
        "id": "tqnr7d9VSA5Q"
      }
    },
    {
      "cell_type": "code",
      "execution_count": null,
      "metadata": {
        "colab": {
          "base_uri": "https://localhost:8080/",
          "height": 363
        },
        "id": "HdZMRS6gR0Eh",
        "outputId": "419f4474-b837-4a70-ab52-781794f95af1"
      },
      "outputs": [
        {
          "output_type": "execute_result",
          "data": {
            "text/plain": [
              "                                               headlines  \\\n",
              "41135  India seeks exemption from Trump's steel, alum...   \n",
              "40879  Women who wear jeans have transgender kids: Ke...   \n",
              "12427  Candidates won't be allowed to change seats in...   \n",
              "44103  Caffeinated personal care startup MCaffeine ra...   \n",
              "5718   I should've been from Pak, at least I'd get wo...   \n",
              "41096  Channing Tatum, Jenna Dewan split after 9 yrs ...   \n",
              "64433  US begins 'missile tracking drill' over Korean...   \n",
              "78519  SBI left banking data of millions of users unp...   \n",
              "20565  Delhi-based food startup Sattviko raises strat...   \n",
              "62513  New theory explains how two boulders got atop ...   \n",
              "\n",
              "                                                    text  \n",
              "41135  Union Minister CR Chaudhary has said the gover...  \n",
              "40879  During a counselling session at Kerala's Kasar...  \n",
              "12427  Addressing a press conference ahead of the Raj...  \n",
              "44103  Mumbai-based caffeinated personal care startup...  \n",
              "5718   At Agenda Aaj Tak 2018, Sonu Nigam took a dig ...  \n",
              "41096  Hollywood actor Channing Tatum and his wife Je...  \n",
              "64433  The US, South Korea, and Japan on Tuesday star...  \n",
              "78519  A TechCrunch report has claimed that IndiaÃ¢Â...  \n",
              "20565  Delhi-based food startup Sattviko has raised a...  \n",
              "62513  Researchers have proposed a new theory explain...  "
            ],
            "text/html": [
              "\n",
              "  <div id=\"df-5beba401-d26c-427d-9cfe-70b43272b97f\">\n",
              "    <div class=\"colab-df-container\">\n",
              "      <div>\n",
              "<style scoped>\n",
              "    .dataframe tbody tr th:only-of-type {\n",
              "        vertical-align: middle;\n",
              "    }\n",
              "\n",
              "    .dataframe tbody tr th {\n",
              "        vertical-align: top;\n",
              "    }\n",
              "\n",
              "    .dataframe thead th {\n",
              "        text-align: right;\n",
              "    }\n",
              "</style>\n",
              "<table border=\"1\" class=\"dataframe\">\n",
              "  <thead>\n",
              "    <tr style=\"text-align: right;\">\n",
              "      <th></th>\n",
              "      <th>headlines</th>\n",
              "      <th>text</th>\n",
              "    </tr>\n",
              "  </thead>\n",
              "  <tbody>\n",
              "    <tr>\n",
              "      <th>41135</th>\n",
              "      <td>India seeks exemption from Trump's steel, alum...</td>\n",
              "      <td>Union Minister CR Chaudhary has said the gover...</td>\n",
              "    </tr>\n",
              "    <tr>\n",
              "      <th>40879</th>\n",
              "      <td>Women who wear jeans have transgender kids: Ke...</td>\n",
              "      <td>During a counselling session at Kerala's Kasar...</td>\n",
              "    </tr>\n",
              "    <tr>\n",
              "      <th>12427</th>\n",
              "      <td>Candidates won't be allowed to change seats in...</td>\n",
              "      <td>Addressing a press conference ahead of the Raj...</td>\n",
              "    </tr>\n",
              "    <tr>\n",
              "      <th>44103</th>\n",
              "      <td>Caffeinated personal care startup MCaffeine ra...</td>\n",
              "      <td>Mumbai-based caffeinated personal care startup...</td>\n",
              "    </tr>\n",
              "    <tr>\n",
              "      <th>5718</th>\n",
              "      <td>I should've been from Pak, at least I'd get wo...</td>\n",
              "      <td>At Agenda Aaj Tak 2018, Sonu Nigam took a dig ...</td>\n",
              "    </tr>\n",
              "    <tr>\n",
              "      <th>41096</th>\n",
              "      <td>Channing Tatum, Jenna Dewan split after 9 yrs ...</td>\n",
              "      <td>Hollywood actor Channing Tatum and his wife Je...</td>\n",
              "    </tr>\n",
              "    <tr>\n",
              "      <th>64433</th>\n",
              "      <td>US begins 'missile tracking drill' over Korean...</td>\n",
              "      <td>The US, South Korea, and Japan on Tuesday star...</td>\n",
              "    </tr>\n",
              "    <tr>\n",
              "      <th>78519</th>\n",
              "      <td>SBI left banking data of millions of users unp...</td>\n",
              "      <td>A TechCrunch report has claimed that IndiaÃ¢Â...</td>\n",
              "    </tr>\n",
              "    <tr>\n",
              "      <th>20565</th>\n",
              "      <td>Delhi-based food startup Sattviko raises strat...</td>\n",
              "      <td>Delhi-based food startup Sattviko has raised a...</td>\n",
              "    </tr>\n",
              "    <tr>\n",
              "      <th>62513</th>\n",
              "      <td>New theory explains how two boulders got atop ...</td>\n",
              "      <td>Researchers have proposed a new theory explain...</td>\n",
              "    </tr>\n",
              "  </tbody>\n",
              "</table>\n",
              "</div>\n",
              "      <button class=\"colab-df-convert\" onclick=\"convertToInteractive('df-5beba401-d26c-427d-9cfe-70b43272b97f')\"\n",
              "              title=\"Convert this dataframe to an interactive table.\"\n",
              "              style=\"display:none;\">\n",
              "        \n",
              "  <svg xmlns=\"http://www.w3.org/2000/svg\" height=\"24px\"viewBox=\"0 0 24 24\"\n",
              "       width=\"24px\">\n",
              "    <path d=\"M0 0h24v24H0V0z\" fill=\"none\"/>\n",
              "    <path d=\"M18.56 5.44l.94 2.06.94-2.06 2.06-.94-2.06-.94-.94-2.06-.94 2.06-2.06.94zm-11 1L8.5 8.5l.94-2.06 2.06-.94-2.06-.94L8.5 2.5l-.94 2.06-2.06.94zm10 10l.94 2.06.94-2.06 2.06-.94-2.06-.94-.94-2.06-.94 2.06-2.06.94z\"/><path d=\"M17.41 7.96l-1.37-1.37c-.4-.4-.92-.59-1.43-.59-.52 0-1.04.2-1.43.59L10.3 9.45l-7.72 7.72c-.78.78-.78 2.05 0 2.83L4 21.41c.39.39.9.59 1.41.59.51 0 1.02-.2 1.41-.59l7.78-7.78 2.81-2.81c.8-.78.8-2.07 0-2.86zM5.41 20L4 18.59l7.72-7.72 1.47 1.35L5.41 20z\"/>\n",
              "  </svg>\n",
              "      </button>\n",
              "      \n",
              "  <style>\n",
              "    .colab-df-container {\n",
              "      display:flex;\n",
              "      flex-wrap:wrap;\n",
              "      gap: 12px;\n",
              "    }\n",
              "\n",
              "    .colab-df-convert {\n",
              "      background-color: #E8F0FE;\n",
              "      border: none;\n",
              "      border-radius: 50%;\n",
              "      cursor: pointer;\n",
              "      display: none;\n",
              "      fill: #1967D2;\n",
              "      height: 32px;\n",
              "      padding: 0 0 0 0;\n",
              "      width: 32px;\n",
              "    }\n",
              "\n",
              "    .colab-df-convert:hover {\n",
              "      background-color: #E2EBFA;\n",
              "      box-shadow: 0px 1px 2px rgba(60, 64, 67, 0.3), 0px 1px 3px 1px rgba(60, 64, 67, 0.15);\n",
              "      fill: #174EA6;\n",
              "    }\n",
              "\n",
              "    [theme=dark] .colab-df-convert {\n",
              "      background-color: #3B4455;\n",
              "      fill: #D2E3FC;\n",
              "    }\n",
              "\n",
              "    [theme=dark] .colab-df-convert:hover {\n",
              "      background-color: #434B5C;\n",
              "      box-shadow: 0px 1px 3px 1px rgba(0, 0, 0, 0.15);\n",
              "      filter: drop-shadow(0px 1px 2px rgba(0, 0, 0, 0.3));\n",
              "      fill: #FFFFFF;\n",
              "    }\n",
              "  </style>\n",
              "\n",
              "      <script>\n",
              "        const buttonEl =\n",
              "          document.querySelector('#df-5beba401-d26c-427d-9cfe-70b43272b97f button.colab-df-convert');\n",
              "        buttonEl.style.display =\n",
              "          google.colab.kernel.accessAllowed ? 'block' : 'none';\n",
              "\n",
              "        async function convertToInteractive(key) {\n",
              "          const element = document.querySelector('#df-5beba401-d26c-427d-9cfe-70b43272b97f');\n",
              "          const dataTable =\n",
              "            await google.colab.kernel.invokeFunction('convertToInteractive',\n",
              "                                                     [key], {});\n",
              "          if (!dataTable) return;\n",
              "\n",
              "          const docLinkHtml = 'Like what you see? Visit the ' +\n",
              "            '<a target=\"_blank\" href=https://colab.research.google.com/notebooks/data_table.ipynb>data table notebook</a>'\n",
              "            + ' to learn more about interactive tables.';\n",
              "          element.innerHTML = '';\n",
              "          dataTable['output_type'] = 'display_data';\n",
              "          await google.colab.output.renderOutput(dataTable, element);\n",
              "          const docLink = document.createElement('div');\n",
              "          docLink.innerHTML = docLinkHtml;\n",
              "          element.appendChild(docLink);\n",
              "        }\n",
              "      </script>\n",
              "    </div>\n",
              "  </div>\n",
              "  "
            ]
          },
          "metadata": {},
          "execution_count": 3
        }
      ],
      "source": [
        "urllib.request.urlretrieve(\"https://raw.githubusercontent.com/sunnysai12345/News_Summary/master/news_summary_more.csv\", filename=\"news_summary_more.csv\")\n",
        "data = pd.read_csv('news_summary_more.csv', encoding='iso-8859-1')\n",
        "data.sample(10)"
      ]
    },
    {
      "cell_type": "markdown",
      "source": [
        "이 데이터는 기사의 본문에 해당되는 text와 headlines 두 가지 열로 구성되어져 있습니다.\n",
        "\n",
        "추상적 요약을 하는 경우에는 text를 본문, headlines를 이미 요약된 데이터로 삼아서 모델을 학습할 수 있어요. 추출적 요약을 하는 경우에는 오직 text열만을 사용하세요."
      ],
      "metadata": {
        "id": "hVYj7ubJSSu5"
      }
    },
    {
      "cell_type": "markdown",
      "source": [
        "## Step 2. 데이터 전처리하기 (추상적 요약)\n",
        "실습에서 사용된 전처리를 참고하여 각자 필요하다고 생각하는 전처리를 추가 사용하여 텍스트를 정규화 또는 정제해 보세요. 만약, 불용어 제거를 선택한다면 상대적으로 길이가 짧은 요약 데이터에 대해서도 불용어를 제거하는 것이 좋을지 고민해 보세요."
      ],
      "metadata": {
        "id": "Uv7ZR_e4STjj"
      }
    },
    {
      "cell_type": "code",
      "source": [
        "# 데이터의 중복 샘플 유무 확인\n",
        "print('headlines 열에서 중복을 배제한 유일한 샘플의 수 :', data['headlines'].nunique())\n",
        "print('text 열에서 중복을 배제한 유일한 샘플의 수 :', data['text'].nunique())"
      ],
      "metadata": {
        "colab": {
          "base_uri": "https://localhost:8080/"
        },
        "id": "0mRkVNuzWsue",
        "outputId": "eca5e621-3707-40b4-af5b-a1f93b6ce919"
      },
      "execution_count": null,
      "outputs": [
        {
          "output_type": "stream",
          "name": "stdout",
          "text": [
            "headlines 열에서 중복을 배제한 유일한 샘플의 수 : 98280\n",
            "text 열에서 중복을 배제한 유일한 샘플의 수 : 98360\n"
          ]
        }
      ]
    },
    {
      "cell_type": "code",
      "source": [
        "print('전체 샘플수 :', (len(data)))"
      ],
      "metadata": {
        "colab": {
          "base_uri": "https://localhost:8080/"
        },
        "id": "mtO63E1JbIYM",
        "outputId": "481be997-9bfd-49dd-f311-49cd31b63eee"
      },
      "execution_count": null,
      "outputs": [
        {
          "output_type": "stream",
          "name": "stdout",
          "text": [
            "전체 샘플수 : 98401\n"
          ]
        }
      ]
    },
    {
      "cell_type": "markdown",
      "source": [
        "headlines가 중복돼도 text가 다른 경우는 괜찮지만 text가 중복되면 내용이 같은 경우이므로 text 중복을 제거합니다."
      ],
      "metadata": {
        "id": "Wkl5bU6ibuB3"
      }
    },
    {
      "cell_type": "code",
      "source": [
        "# text 중복 샘플 제거\n",
        "data.drop_duplicates(subset = ['text'], inplace=True)\n",
        "\n",
        "print('전체 샘플수 :', (len(data)))"
      ],
      "metadata": {
        "colab": {
          "base_uri": "https://localhost:8080/"
        },
        "id": "hp0kje-CSO8O",
        "outputId": "93550c4e-5e6f-486d-aa78-928d11958ee6"
      },
      "execution_count": null,
      "outputs": [
        {
          "output_type": "stream",
          "name": "stdout",
          "text": [
            "전체 샘플수 : 98360\n"
          ]
        }
      ]
    },
    {
      "cell_type": "code",
      "source": [
        "# 결측치 찾기\n",
        "print(data.isnull().sum())"
      ],
      "metadata": {
        "colab": {
          "base_uri": "https://localhost:8080/"
        },
        "id": "Q30FhlVFhtev",
        "outputId": "4ddd0777-5409-4bf3-b205-9c30a2986df0"
      },
      "execution_count": null,
      "outputs": [
        {
          "output_type": "stream",
          "name": "stdout",
          "text": [
            "headlines    0\n",
            "text         0\n",
            "dtype: int64\n"
          ]
        }
      ]
    },
    {
      "cell_type": "code",
      "source": [
        "# 정규화 사전\n",
        "contractions = {\"isn't\": \"is not\", \"aren't\": \"are not\",\"can't\": \"cannot\", \"'cause\": \"because\", \"could've\": \"could have\", \"couldn't\": \"could not\",\n",
        "                           \"didn't\": \"did not\",  \"doesn't\": \"does not\", \"don't\": \"do not\", \"hadn't\": \"had not\", \"hasn't\": \"has not\", \"haven't\": \"have not\",\n",
        "                           \"he'd\": \"he would\",\"he'll\": \"he will\", \"he's\": \"he is\", \"how'd\": \"how did\", \"how'd'y\": \"how do you\", \"how'll\": \"how will\", \"how's\": \"how is\",\n",
        "                           \"I'd\": \"I would\", \"I'd've\": \"I would have\", \"I'll\": \"I will\", \"I'll've\": \"I will have\",\"I'm\": \"I am\", \"I've\": \"I have\", \"i'd\": \"i would\",\n",
        "                           \"i'd've\": \"i would have\", \"i'll\": \"i will\",  \"i'll've\": \"i will have\",\"i'm\": \"i am\", \"i've\": \"i have\", \"isn't\": \"is not\", \"it'd\": \"it would\",\n",
        "                           \"it'd've\": \"it would have\", \"it'll\": \"it will\", \"it'll've\": \"it will have\",\"it's\": \"it is\", \"let's\": \"let us\", \"ma'am\": \"madam\",\n",
        "                           \"mayn't\": \"may not\", \"might've\": \"might have\",\"mightn't\": \"might not\",\"mightn't've\": \"might not have\", \"must've\": \"must have\",\n",
        "                           \"mustn't\": \"must not\", \"mustn't've\": \"must not have\", \"needn't\": \"need not\", \"needn't've\": \"need not have\",\"o'clock\": \"of the clock\",\n",
        "                           \"oughtn't\": \"ought not\", \"oughtn't've\": \"ought not have\", \"shan't\": \"shall not\", \"sha'n't\": \"shall not\", \"shan't've\": \"shall not have\",\n",
        "                           \"she'd\": \"she would\", \"she'd've\": \"she would have\", \"she'll\": \"she will\", \"she'll've\": \"she will have\", \"she's\": \"she is\",\n",
        "                           \"should've\": \"should have\", \"shouldn't\": \"should not\", \"shouldn't've\": \"should not have\", \"so've\": \"so have\",\"so's\": \"so as\",\n",
        "                           \"this's\": \"this is\",\"that'd\": \"that would\", \"that'd've\": \"that would have\", \"that's\": \"that is\", \"there'd\": \"there would\",\n",
        "                           \"there'd've\": \"there would have\", \"there's\": \"there is\", \"here's\": \"here is\",\"they'd\": \"they would\", \"they'd've\": \"they would have\",\n",
        "                           \"they'll\": \"they will\", \"they'll've\": \"they will have\", \"they're\": \"they are\", \"they've\": \"they have\", \"to've\": \"to have\",\n",
        "                           \"wasn't\": \"was not\", \"we'd\": \"we would\", \"we'd've\": \"we would have\", \"we'll\": \"we will\", \"we'll've\": \"we will have\", \"we're\": \"we are\",\n",
        "                           \"we've\": \"we have\", \"weren't\": \"were not\", \"what'll\": \"what will\", \"what'll've\": \"what will have\", \"what're\": \"what are\",\n",
        "                           \"what's\": \"what is\", \"what've\": \"what have\", \"when's\": \"when is\", \"when've\": \"when have\", \"where'd\": \"where did\", \"where's\": \"where is\",\n",
        "                           \"where've\": \"where have\", \"who'll\": \"who will\", \"who'll've\": \"who will have\", \"who's\": \"who is\", \"who've\": \"who have\",\n",
        "                           \"why's\": \"why is\", \"why've\": \"why have\", \"will've\": \"will have\", \"won't\": \"will not\", \"won't've\": \"will not have\",\n",
        "                           \"would've\": \"would have\", \"wouldn't\": \"would not\", \"wouldn't've\": \"would not have\", \"y'all\": \"you all\",\n",
        "                           \"y'all'd\": \"you all would\",\"y'all'd've\": \"you all would have\",\"y'all're\": \"you all are\",\"y'all've\": \"you all have\",\n",
        "                           \"you'd\": \"you would\", \"you'd've\": \"you would have\", \"you'll\": \"you will\", \"you'll've\": \"you will have\",\n",
        "                           \"you're\": \"you are\", \"you've\": \"you have\"}\n",
        "\n",
        "print(\"정규화 사전의 수: \", len(contractions))"
      ],
      "metadata": {
        "colab": {
          "base_uri": "https://localhost:8080/"
        },
        "id": "srK0a3GPh5RB",
        "outputId": "47021b54-b99e-4086-c1b2-dba429714fda"
      },
      "execution_count": null,
      "outputs": [
        {
          "output_type": "stream",
          "name": "stdout",
          "text": [
            "정규화 사전의 수:  119\n"
          ]
        }
      ]
    },
    {
      "cell_type": "code",
      "source": [
        "print('불용어 개수 :', len(stopwords.words('english') ))\n",
        "print(stopwords.words('english'))"
      ],
      "metadata": {
        "colab": {
          "base_uri": "https://localhost:8080/"
        },
        "id": "ACcZsr4iiK59",
        "outputId": "a19a4653-925f-4497-98fe-27fbc498c3ec"
      },
      "execution_count": null,
      "outputs": [
        {
          "output_type": "stream",
          "name": "stdout",
          "text": [
            "불용어 개수 : 179\n",
            "['i', 'me', 'my', 'myself', 'we', 'our', 'ours', 'ourselves', 'you', \"you're\", \"you've\", \"you'll\", \"you'd\", 'your', 'yours', 'yourself', 'yourselves', 'he', 'him', 'his', 'himself', 'she', \"she's\", 'her', 'hers', 'herself', 'it', \"it's\", 'its', 'itself', 'they', 'them', 'their', 'theirs', 'themselves', 'what', 'which', 'who', 'whom', 'this', 'that', \"that'll\", 'these', 'those', 'am', 'is', 'are', 'was', 'were', 'be', 'been', 'being', 'have', 'has', 'had', 'having', 'do', 'does', 'did', 'doing', 'a', 'an', 'the', 'and', 'but', 'if', 'or', 'because', 'as', 'until', 'while', 'of', 'at', 'by', 'for', 'with', 'about', 'against', 'between', 'into', 'through', 'during', 'before', 'after', 'above', 'below', 'to', 'from', 'up', 'down', 'in', 'out', 'on', 'off', 'over', 'under', 'again', 'further', 'then', 'once', 'here', 'there', 'when', 'where', 'why', 'how', 'all', 'any', 'both', 'each', 'few', 'more', 'most', 'other', 'some', 'such', 'no', 'nor', 'not', 'only', 'own', 'same', 'so', 'than', 'too', 'very', 's', 't', 'can', 'will', 'just', 'don', \"don't\", 'should', \"should've\", 'now', 'd', 'll', 'm', 'o', 're', 've', 'y', 'ain', 'aren', \"aren't\", 'couldn', \"couldn't\", 'didn', \"didn't\", 'doesn', \"doesn't\", 'hadn', \"hadn't\", 'hasn', \"hasn't\", 'haven', \"haven't\", 'isn', \"isn't\", 'ma', 'mightn', \"mightn't\", 'mustn', \"mustn't\", 'needn', \"needn't\", 'shan', \"shan't\", 'shouldn', \"shouldn't\", 'wasn', \"wasn't\", 'weren', \"weren't\", 'won', \"won't\", 'wouldn', \"wouldn't\"]\n"
          ]
        }
      ]
    },
    {
      "cell_type": "code",
      "source": [
        "# 데이터 전처리 함수\n",
        "def preprocess_sentence(sentence, remove_stopwords=True):\n",
        "    sentence = sentence.lower() # 텍스트 소문자화\n",
        "    sentence = re.sub(r'\\([^)]*\\)', '', sentence) # 괄호로 닫힌 문자열 (...) 제거 Ex) my husband (and myself!) for => my husband for\n",
        "    sentence = re.sub('\"','', sentence) # 쌍따옴표 \" 제거\n",
        "    sentence = ' '.join([contractions[t] if t in contractions else t for t in sentence.split(\" \")]) # 약어 정규화\n",
        "    sentence = re.sub(r\"'s\\b\",\"\", sentence) # 소유격 제거. Ex) roland's -> roland\n",
        "    sentence = re.sub(\"[^a-zA-Z]\", \" \", sentence) # 영어 외 문자(숫자, 특수문자 등) 공백으로 변환\n",
        "    sentence = re.sub('[m]{2,}', 'mm', sentence) # m이 3개 이상이면 2개로 변경. Ex) ummmmmmm yeah -> umm yeah\n",
        "    \n",
        "    # 불용어 제거 (text)\n",
        "    if remove_stopwords:\n",
        "        tokens = ' '.join(word for word in sentence.split() if not word in stopwords.words('english') if len(word) > 1)\n",
        "    # 불용어 미제거 (headlines)\n",
        "    else:\n",
        "        tokens = ' '.join(word for word in sentence.split() if len(word) > 1)\n",
        "    return tokens"
      ],
      "metadata": {
        "id": "Z1e_su8ojDRE"
      },
      "execution_count": null,
      "outputs": []
    },
    {
      "cell_type": "code",
      "source": [
        "clean_text = []\n",
        "# 전체 Text 데이터에 대한 전처리 : 10분 이상 시간이 걸릴 수 있습니다. \n",
        "for s in data['text']:\n",
        "    clean_text.append(preprocess_sentence(s))\n",
        "\n",
        "# 전처리 후 출력\n",
        "print(\"Text 전처리 후 결과: \", clean_text[:5])"
      ],
      "metadata": {
        "id": "jGZhAhveI6e8",
        "colab": {
          "base_uri": "https://localhost:8080/"
        },
        "outputId": "8ae99ee0-4c80-41d0-f009-f02aee269340"
      },
      "execution_count": null,
      "outputs": [
        {
          "output_type": "stream",
          "name": "stdout",
          "text": [
            "Text 전처리 후 결과:  ['saurav kant alumnus upgrad iiit pg program machine learning artificial intelligence sr systems engineer infosys almost years work experience program upgrad degree career support helped transition data scientist tech mahindra salary hike upgrad online power learning powered lakh careers', 'kunal shah credit card bill payment platform cred gave users chance win free food swiggy one year pranav kaushik delhi techie bagged reward spending cred coins users get one cred coin per rupee bill paid used avail rewards brands like ixigo bookmyshow ubereats cult fit', 'new zealand defeated india wickets fourth odi hamilton thursday win first match five match odi series india lost international match rohit sharma captaincy consecutive victories dating back march match witnessed india getting seventh lowest total odi cricket history', 'aegon life iterm insurance plan customers enjoy tax benefits premiums paid save taxes plan provides life cover age years also customers options insure critical illnesses disability accidental death benefit rider life cover age years', 'speaking sexual harassment allegations rajkumar hirani sonam kapoor said known hirani many years true metoo movement get derailed metoo movement always believe woman case need reserve judgment added hirani accused assistant worked sanju']\n"
          ]
        }
      ]
    },
    {
      "cell_type": "code",
      "source": [
        "clean_headlines = []\n",
        "# 전체 Summary 데이터에 대한 전처리 : 5분 이상 시간이 걸릴 수 있습니다. \n",
        "for s in data['headlines']:\n",
        "    clean_headlines.append(preprocess_sentence(s, False))\n",
        "\n",
        "print(\"Summary 전처리 후 결과: \", clean_headlines[:5])"
      ],
      "metadata": {
        "id": "heMP34nGJLZi",
        "colab": {
          "base_uri": "https://localhost:8080/"
        },
        "outputId": "88c1ef4f-7ba3-4063-f143-37493d96fc15"
      },
      "execution_count": null,
      "outputs": [
        {
          "output_type": "stream",
          "name": "stdout",
          "text": [
            "Summary 전처리 후 결과:  ['upgrad learner switches to career in ml al with salary hike', 'delhi techie wins free food from swiggy for one year on cred', 'new zealand end rohit sharma led india match winning streak', 'aegon life iterm insurance plan helps customers save tax', 'have known hirani for yrs what if metoo claims are not true sonam']\n"
          ]
        }
      ]
    },
    {
      "cell_type": "markdown",
      "source": [
        "## Step 3. 어텐션 메커니즘 사용하기 (추상적 요약)\n",
        "일반적인 seq2seq보다는 어텐션 메커니즘을 사용한 seq2seq를 사용하는 것이 더 나은 성능을 얻을 수 있어요. 실습 내용을 참고하여 어텐션 메커니즘을 사용한 seq2seq를 설계해 보세요."
      ],
      "metadata": {
        "id": "xGJtUKqBSWv-"
      }
    },
    {
      "cell_type": "code",
      "source": [
        "text_len = [len(s.split()) for s in data['text']]\n",
        "headlines_len = [len(s.split()) for s in data['headlines']]\n",
        "\n",
        "print('텍스트의 최소 길이 : {}'.format(np.min(text_len)))\n",
        "print('텍스트의 최대 길이 : {}'.format(np.max(text_len)))\n",
        "print('텍스트의 평균 길이 : {}'.format(np.mean(text_len)))\n",
        "print('요약의 최소 길이 : {}'.format(np.min(headlines_len)))\n",
        "print('요약의 최대 길이 : {}'.format(np.max(headlines_len)))\n",
        "print('요약의 평균 길이 : {}'.format(np.mean(headlines_len)))\n",
        "\n",
        "plt.subplot(1,2,1)\n",
        "plt.boxplot(text_len)\n",
        "plt.title('Text')\n",
        "plt.subplot(1,2,2)\n",
        "plt.boxplot(headlines_len)\n",
        "plt.title('Headline')\n",
        "plt.tight_layout()\n",
        "plt.show()\n",
        "\n",
        "plt.title('Text')\n",
        "plt.hist(text_len, bins = 40)\n",
        "plt.xlabel('length of samples')\n",
        "plt.ylabel('number of samples')\n",
        "plt.show()\n",
        "\n",
        "plt.title('Headline')\n",
        "plt.hist(headlines_len, bins = 40)\n",
        "plt.xlabel('length of samples')\n",
        "plt.ylabel('number of samples')\n",
        "plt.show()"
      ],
      "metadata": {
        "id": "JR9T0WnWSY7W",
        "colab": {
          "base_uri": "https://localhost:8080/",
          "height": 963
        },
        "outputId": "166cd10e-c99b-4cb9-88d8-73c135810a51"
      },
      "execution_count": null,
      "outputs": [
        {
          "output_type": "stream",
          "name": "stdout",
          "text": [
            "텍스트의 최소 길이 : 1\n",
            "텍스트의 최대 길이 : 91\n",
            "텍스트의 평균 길이 : 58.23813542090281\n",
            "요약의 최소 길이 : 1\n",
            "요약의 최대 길이 : 18\n",
            "요약의 평균 길이 : 9.553660024400163\n"
          ]
        },
        {
          "output_type": "display_data",
          "data": {
            "text/plain": [
              "<Figure size 432x288 with 2 Axes>"
            ],
            "image/png": "[encoded data removed]"
          },
          "metadata": {
            "needs_background": "light"
          }
        },
        {
          "output_type": "display_data",
          "data": {
            "text/plain": [
              "<Figure size 432x288 with 1 Axes>"
            ],
            "image/png": "[encoded data removed]"
          },
          "metadata": {
            "needs_background": "light"
          }
        },
        {
          "output_type": "display_data",
          "data": {
            "text/plain": [
              "<Figure size 432x288 with 1 Axes>"
            ],
            "image/png": "[encoded data removed]"
          },
          "metadata": {
            "needs_background": "light"
          }
        }
      ]
    },
    {
      "cell_type": "code",
      "source": [
        "text_max_len = 60\n",
        "headlines_max_len = 11"
      ],
      "metadata": {
        "id": "L_yWbf8O-WhX"
      },
      "execution_count": null,
      "outputs": []
    },
    {
      "cell_type": "code",
      "source": [
        "def below_threshold_len(max_len, nested_list):\n",
        "  cnt = 0\n",
        "  for s in nested_list:\n",
        "    if(len(s.split()) <= max_len):\n",
        "        cnt = cnt + 1\n",
        "  print('전체 샘플 중 길이가 %s 이하인 샘플의 비율: %s'%(max_len, (cnt / len(nested_list))))"
      ],
      "metadata": {
        "id": "LaHUklTg-d_1"
      },
      "execution_count": null,
      "outputs": []
    },
    {
      "cell_type": "code",
      "source": [
        "below_threshold_len(text_max_len, data['text'])\n",
        "below_threshold_len(headlines_max_len,  data['headlines'])"
      ],
      "metadata": {
        "id": "SbRdhpOo-lzx",
        "colab": {
          "base_uri": "https://localhost:8080/"
        },
        "outputId": "4a6e83d6-4699-4157-a215-cc97be9f60a9"
      },
      "execution_count": null,
      "outputs": [
        {
          "output_type": "stream",
          "name": "stdout",
          "text": [
            "전체 샘플 중 길이가 60 이하인 샘플의 비율: 0.997448149654331\n",
            "전체 샘플 중 길이가 11 이하인 샘플의 비율: 0.9121492476616511\n"
          ]
        }
      ]
    },
    {
      "cell_type": "code",
      "source": [
        "data = data[data['text'].apply(lambda x: len(x.split()) <= text_max_len)]\n",
        "data = data[data['headlines'].apply(lambda x: len(x.split()) <= headlines_max_len)]\n",
        "print('전체 샘플수 :', (len(data)))"
      ],
      "metadata": {
        "id": "k_sa04EQ-pyY",
        "colab": {
          "base_uri": "https://localhost:8080/"
        },
        "outputId": "b884b83a-551f-4026-c57f-d3d1dfed2d3a"
      },
      "execution_count": null,
      "outputs": [
        {
          "output_type": "stream",
          "name": "stdout",
          "text": [
            "전체 샘플수 : 89498\n"
          ]
        }
      ]
    },
    {
      "cell_type": "code",
      "source": [
        "# 요약 데이터에는 시작 토큰과 종료 토큰을 추가한다.\n",
        "data['decoder_input'] = data['headlines'].apply(lambda x : 'sostoken '+ x)\n",
        "data['decoder_target'] = data['headlines'].apply(lambda x : x + ' eostoken')\n",
        "data.head()"
      ],
      "metadata": {
        "id": "tdA8-CpmAztG",
        "colab": {
          "base_uri": "https://localhost:8080/",
          "height": 406
        },
        "outputId": "b7d81fe9-b26d-4209-e0f6-e1ed7d11df0c"
      },
      "execution_count": null,
      "outputs": [
        {
          "output_type": "execute_result",
          "data": {
            "text/plain": [
              "                                            headlines  \\\n",
              "2   New Zealand end Rohit Sharma-led India's 12-ma...   \n",
              "3   Aegon life iTerm insurance plan helps customer...   \n",
              "5   Rahat Fateh Ali Khan denies getting notice for...   \n",
              "9   Cong wins Ramgarh bypoll in Rajasthan, takes t...   \n",
              "10  UP cousins fed human excreta for friendship wi...   \n",
              "\n",
              "                                                 text  \\\n",
              "2   New Zealand defeated India by 8 wickets in the...   \n",
              "3   With Aegon Life iTerm Insurance plan, customer...   \n",
              "5   Pakistani singer Rahat Fateh Ali Khan has deni...   \n",
              "9   Congress candidate Shafia Zubair won the Ramga...   \n",
              "10  Two minor cousins in Uttar Pradesh's Gorakhpur...   \n",
              "\n",
              "                                        decoder_input  \\\n",
              "2   sostoken New Zealand end Rohit Sharma-led Indi...   \n",
              "3   sostoken Aegon life iTerm insurance plan helps...   \n",
              "5   sostoken Rahat Fateh Ali Khan denies getting n...   \n",
              "9   sostoken Cong wins Ramgarh bypoll in Rajasthan...   \n",
              "10  sostoken UP cousins fed human excreta for frie...   \n",
              "\n",
              "                                       decoder_target  \n",
              "2   New Zealand end Rohit Sharma-led India's 12-ma...  \n",
              "3   Aegon life iTerm insurance plan helps customer...  \n",
              "5   Rahat Fateh Ali Khan denies getting notice for...  \n",
              "9   Cong wins Ramgarh bypoll in Rajasthan, takes t...  \n",
              "10  UP cousins fed human excreta for friendship wi...  "
            ],
            "text/html": [
              "\n",
              "  <div id=\"df-dc45f996-a894-476e-b381-a99abdc18109\">\n",
              "    <div class=\"colab-df-container\">\n",
              "      <div>\n",
              "<style scoped>\n",
              "    .dataframe tbody tr th:only-of-type {\n",
              "        vertical-align: middle;\n",
              "    }\n",
              "\n",
              "    .dataframe tbody tr th {\n",
              "        vertical-align: top;\n",
              "    }\n",
              "\n",
              "    .dataframe thead th {\n",
              "        text-align: right;\n",
              "    }\n",
              "</style>\n",
              "<table border=\"1\" class=\"dataframe\">\n",
              "  <thead>\n",
              "    <tr style=\"text-align: right;\">\n",
              "      <th></th>\n",
              "      <th>headlines</th>\n",
              "      <th>text</th>\n",
              "      <th>decoder_input</th>\n",
              "      <th>decoder_target</th>\n",
              "    </tr>\n",
              "  </thead>\n",
              "  <tbody>\n",
              "    <tr>\n",
              "      <th>2</th>\n",
              "      <td>New Zealand end Rohit Sharma-led India's 12-ma...</td>\n",
              "      <td>New Zealand defeated India by 8 wickets in the...</td>\n",
              "      <td>sostoken New Zealand end Rohit Sharma-led Indi...</td>\n",
              "      <td>New Zealand end Rohit Sharma-led India's 12-ma...</td>\n",
              "    </tr>\n",
              "    <tr>\n",
              "      <th>3</th>\n",
              "      <td>Aegon life iTerm insurance plan helps customer...</td>\n",
              "      <td>With Aegon Life iTerm Insurance plan, customer...</td>\n",
              "      <td>sostoken Aegon life iTerm insurance plan helps...</td>\n",
              "      <td>Aegon life iTerm insurance plan helps customer...</td>\n",
              "    </tr>\n",
              "    <tr>\n",
              "      <th>5</th>\n",
              "      <td>Rahat Fateh Ali Khan denies getting notice for...</td>\n",
              "      <td>Pakistani singer Rahat Fateh Ali Khan has deni...</td>\n",
              "      <td>sostoken Rahat Fateh Ali Khan denies getting n...</td>\n",
              "      <td>Rahat Fateh Ali Khan denies getting notice for...</td>\n",
              "    </tr>\n",
              "    <tr>\n",
              "      <th>9</th>\n",
              "      <td>Cong wins Ramgarh bypoll in Rajasthan, takes t...</td>\n",
              "      <td>Congress candidate Shafia Zubair won the Ramga...</td>\n",
              "      <td>sostoken Cong wins Ramgarh bypoll in Rajasthan...</td>\n",
              "      <td>Cong wins Ramgarh bypoll in Rajasthan, takes t...</td>\n",
              "    </tr>\n",
              "    <tr>\n",
              "      <th>10</th>\n",
              "      <td>UP cousins fed human excreta for friendship wi...</td>\n",
              "      <td>Two minor cousins in Uttar Pradesh's Gorakhpur...</td>\n",
              "      <td>sostoken UP cousins fed human excreta for frie...</td>\n",
              "      <td>UP cousins fed human excreta for friendship wi...</td>\n",
              "    </tr>\n",
              "  </tbody>\n",
              "</table>\n",
              "</div>\n",
              "      <button class=\"colab-df-convert\" onclick=\"convertToInteractive('df-dc45f996-a894-476e-b381-a99abdc18109')\"\n",
              "              title=\"Convert this dataframe to an interactive table.\"\n",
              "              style=\"display:none;\">\n",
              "        \n",
              "  <svg xmlns=\"http://www.w3.org/2000/svg\" height=\"24px\"viewBox=\"0 0 24 24\"\n",
              "       width=\"24px\">\n",
              "    <path d=\"M0 0h24v24H0V0z\" fill=\"none\"/>\n",
              "    <path d=\"M18.56 5.44l.94 2.06.94-2.06 2.06-.94-2.06-.94-.94-2.06-.94 2.06-2.06.94zm-11 1L8.5 8.5l.94-2.06 2.06-.94-2.06-.94L8.5 2.5l-.94 2.06-2.06.94zm10 10l.94 2.06.94-2.06 2.06-.94-2.06-.94-.94-2.06-.94 2.06-2.06.94z\"/><path d=\"M17.41 7.96l-1.37-1.37c-.4-.4-.92-.59-1.43-.59-.52 0-1.04.2-1.43.59L10.3 9.45l-7.72 7.72c-.78.78-.78 2.05 0 2.83L4 21.41c.39.39.9.59 1.41.59.51 0 1.02-.2 1.41-.59l7.78-7.78 2.81-2.81c.8-.78.8-2.07 0-2.86zM5.41 20L4 18.59l7.72-7.72 1.47 1.35L5.41 20z\"/>\n",
              "  </svg>\n",
              "      </button>\n",
              "      \n",
              "  <style>\n",
              "    .colab-df-container {\n",
              "      display:flex;\n",
              "      flex-wrap:wrap;\n",
              "      gap: 12px;\n",
              "    }\n",
              "\n",
              "    .colab-df-convert {\n",
              "      background-color: #E8F0FE;\n",
              "      border: none;\n",
              "      border-radius: 50%;\n",
              "      cursor: pointer;\n",
              "      display: none;\n",
              "      fill: #1967D2;\n",
              "      height: 32px;\n",
              "      padding: 0 0 0 0;\n",
              "      width: 32px;\n",
              "    }\n",
              "\n",
              "    .colab-df-convert:hover {\n",
              "      background-color: #E2EBFA;\n",
              "      box-shadow: 0px 1px 2px rgba(60, 64, 67, 0.3), 0px 1px 3px 1px rgba(60, 64, 67, 0.15);\n",
              "      fill: #174EA6;\n",
              "    }\n",
              "\n",
              "    [theme=dark] .colab-df-convert {\n",
              "      background-color: #3B4455;\n",
              "      fill: #D2E3FC;\n",
              "    }\n",
              "\n",
              "    [theme=dark] .colab-df-convert:hover {\n",
              "      background-color: #434B5C;\n",
              "      box-shadow: 0px 1px 3px 1px rgba(0, 0, 0, 0.15);\n",
              "      filter: drop-shadow(0px 1px 2px rgba(0, 0, 0, 0.3));\n",
              "      fill: #FFFFFF;\n",
              "    }\n",
              "  </style>\n",
              "\n",
              "      <script>\n",
              "        const buttonEl =\n",
              "          document.querySelector('#df-dc45f996-a894-476e-b381-a99abdc18109 button.colab-df-convert');\n",
              "        buttonEl.style.display =\n",
              "          google.colab.kernel.accessAllowed ? 'block' : 'none';\n",
              "\n",
              "        async function convertToInteractive(key) {\n",
              "          const element = document.querySelector('#df-dc45f996-a894-476e-b381-a99abdc18109');\n",
              "          const dataTable =\n",
              "            await google.colab.kernel.invokeFunction('convertToInteractive',\n",
              "                                                     [key], {});\n",
              "          if (!dataTable) return;\n",
              "\n",
              "          const docLinkHtml = 'Like what you see? Visit the ' +\n",
              "            '<a target=\"_blank\" href=https://colab.research.google.com/notebooks/data_table.ipynb>data table notebook</a>'\n",
              "            + ' to learn more about interactive tables.';\n",
              "          element.innerHTML = '';\n",
              "          dataTable['output_type'] = 'display_data';\n",
              "          await google.colab.output.renderOutput(dataTable, element);\n",
              "          const docLink = document.createElement('div');\n",
              "          docLink.innerHTML = docLinkHtml;\n",
              "          element.appendChild(docLink);\n",
              "        }\n",
              "      </script>\n",
              "    </div>\n",
              "  </div>\n",
              "  "
            ]
          },
          "metadata": {},
          "execution_count": 18
        }
      ]
    },
    {
      "cell_type": "code",
      "source": [
        "encoder_input = np.array(data['text']) # 인코더의 입력\n",
        "decoder_input = np.array(data['decoder_input']) # 디코더의 입력\n",
        "decoder_target = np.array(data['decoder_target']) # 디코더의 레이블"
      ],
      "metadata": {
        "id": "HLLdrIVoA6nn"
      },
      "execution_count": null,
      "outputs": []
    },
    {
      "cell_type": "code",
      "source": [
        "indices = np.arange(encoder_input.shape[0])\n",
        "np.random.shuffle(indices)\n",
        "print(indices)"
      ],
      "metadata": {
        "id": "BwpOZC70BBtZ",
        "colab": {
          "base_uri": "https://localhost:8080/"
        },
        "outputId": "ac072d84-1510-4451-a01a-ad4f38a1574b"
      },
      "execution_count": null,
      "outputs": [
        {
          "output_type": "stream",
          "name": "stdout",
          "text": [
            "[25274  3205 80086 ...  1660 33362 54303]\n"
          ]
        }
      ]
    },
    {
      "cell_type": "code",
      "source": [
        "encoder_input = encoder_input[indices]\n",
        "decoder_input = decoder_input[indices]\n",
        "decoder_target = decoder_target[indices]"
      ],
      "metadata": {
        "id": "U5iE3JVBBElU"
      },
      "execution_count": null,
      "outputs": []
    },
    {
      "cell_type": "code",
      "source": [
        "n_of_val = int(len(encoder_input)*0.2)\n",
        "print('테스트 데이터의 수 :', n_of_val)"
      ],
      "metadata": {
        "id": "WrzmGrNJBGNc",
        "colab": {
          "base_uri": "https://localhost:8080/"
        },
        "outputId": "ef234723-349b-408c-e11b-c4a8f7e78050"
      },
      "execution_count": null,
      "outputs": [
        {
          "output_type": "stream",
          "name": "stdout",
          "text": [
            "테스트 데이터의 수 : 17899\n"
          ]
        }
      ]
    },
    {
      "cell_type": "code",
      "source": [
        "encoder_input_train = encoder_input[:-n_of_val]\n",
        "decoder_input_train = decoder_input[:-n_of_val]\n",
        "decoder_target_train = decoder_target[:-n_of_val]\n",
        "\n",
        "encoder_input_test = encoder_input[-n_of_val:]\n",
        "decoder_input_test = decoder_input[-n_of_val:]\n",
        "decoder_target_test = decoder_target[-n_of_val:]\n",
        "\n",
        "print('훈련 데이터의 개수 :', len(encoder_input_train))\n",
        "print('훈련 레이블의 개수 :', len(decoder_input_train))\n",
        "print('테스트 데이터의 개수 :', len(encoder_input_test))\n",
        "print('테스트 레이블의 개수 :', len(decoder_input_test))"
      ],
      "metadata": {
        "id": "erFFPN-KBIAh",
        "colab": {
          "base_uri": "https://localhost:8080/"
        },
        "outputId": "15706671-3234-40a4-cfa8-1495c7aca53a"
      },
      "execution_count": null,
      "outputs": [
        {
          "output_type": "stream",
          "name": "stdout",
          "text": [
            "훈련 데이터의 개수 : 71599\n",
            "훈련 레이블의 개수 : 71599\n",
            "테스트 데이터의 개수 : 17899\n",
            "테스트 레이블의 개수 : 17899\n"
          ]
        }
      ]
    },
    {
      "cell_type": "code",
      "source": [
        "src_tokenizer = Tokenizer() # 토크나이저 정의\n",
        "src_tokenizer.fit_on_texts(encoder_input_train) # 입력된 데이터로부터 단어 집합 생성"
      ],
      "metadata": {
        "id": "69T6FmbvBKFs"
      },
      "execution_count": null,
      "outputs": []
    },
    {
      "cell_type": "code",
      "source": [
        "threshold = 7\n",
        "total_cnt = len(src_tokenizer.word_index) # 단어의 수\n",
        "rare_cnt = 0 # 등장 빈도수가 threshold보다 작은 단어의 개수를 카운트\n",
        "total_freq = 0 # 훈련 데이터의 전체 단어 빈도수 총 합\n",
        "rare_freq = 0 # 등장 빈도수가 threshold보다 작은 단어의 등장 빈도수의 총 합\n",
        "\n",
        "# 단어와 빈도수의 쌍(pair)을 key와 value로 받는다.\n",
        "for key, value in src_tokenizer.word_counts.items():\n",
        "    total_freq = total_freq + value\n",
        "\n",
        "    # 단어의 등장 빈도수가 threshold보다 작으면\n",
        "    if(value < threshold):\n",
        "        rare_cnt = rare_cnt + 1\n",
        "        rare_freq = rare_freq + value\n",
        "\n",
        "print('단어 집합(vocabulary)의 크기 :', total_cnt)\n",
        "print('등장 빈도가 %s번 이하인 희귀 단어의 수: %s'%(threshold - 1, rare_cnt))\n",
        "print('단어 집합에서 희귀 단어를 제외시킬 경우의 단어 집합의 크기 %s'%(total_cnt - rare_cnt))\n",
        "print(\"단어 집합에서 희귀 단어의 비율:\", (rare_cnt / total_cnt)*100)\n",
        "print(\"전체 등장 빈도에서 희귀 단어 등장 빈도 비율:\", (rare_freq / total_freq)*100)"
      ],
      "metadata": {
        "id": "Bjb_d4NwBMsK",
        "colab": {
          "base_uri": "https://localhost:8080/"
        },
        "outputId": "827c0a5e-fb80-4c1d-a0e7-bcacb47a91c9"
      },
      "execution_count": null,
      "outputs": [
        {
          "output_type": "stream",
          "name": "stdout",
          "text": [
            "단어 집합(vocabulary)의 크기 : 88158\n",
            "등장 빈도가 6번 이하인 희귀 단어의 수: 64369\n",
            "단어 집합에서 희귀 단어를 제외시킬 경우의 단어 집합의 크기 23789\n",
            "단어 집합에서 희귀 단어의 비율: 73.01549490687177\n",
            "전체 등장 빈도에서 희귀 단어 등장 빈도 비율: 2.900772599406516\n"
          ]
        }
      ]
    },
    {
      "cell_type": "code",
      "source": [
        "src_vocab = 88000\n",
        "src_tokenizer = Tokenizer(num_words=src_vocab) # 단어 집합의 크기를 80,000으로 제한\n",
        "src_tokenizer.fit_on_texts(encoder_input_train) # 단어 집합 재생성"
      ],
      "metadata": {
        "id": "I3zLc257BPwf"
      },
      "execution_count": null,
      "outputs": []
    },
    {
      "cell_type": "code",
      "source": [
        "# 텍스트 시퀀스를 정수 시퀀스로 변환\n",
        "encoder_input_train = src_tokenizer.texts_to_sequences(encoder_input_train) \n",
        "encoder_input_test = src_tokenizer.texts_to_sequences(encoder_input_test)\n",
        "\n",
        "# 잘 진행되었는지 샘플 출력\n",
        "print(encoder_input_train[:3])"
      ],
      "metadata": {
        "id": "kkK_Mwk5BUgK",
        "colab": {
          "base_uri": "https://localhost:8080/"
        },
        "outputId": "1d3cca1c-79ef-4095-d612-d3a9f4a3dd07"
      },
      "execution_count": null,
      "outputs": [
        {
          "output_type": "stream",
          "name": "stdout",
          "text": [
            "[[1385, 116, 5507, 16077, 8, 1422, 19, 76, 99, 5, 452, 791, 6, 4651, 1978, 14, 516, 162, 1199, 28, 3359, 224, 87, 8, 1094, 16, 224, 3359, 548, 38, 1181, 23790, 8029, 18513, 87, 15446, 203, 1199, 1066, 22093, 10, 5507, 45, 3261, 2, 1199, 28, 1744, 7064, 87, 17618, 11, 12, 449, 135, 7065, 1, 1345, 31, 56, 116, 33], [3, 258, 31, 56, 4, 8587, 164, 3184, 563, 18, 648, 3141, 14, 234, 6011, 5836, 2, 2741, 1, 102, 606, 2, 17619, 61, 1, 28727, 763, 11005, 2, 1, 624, 81, 72, 15, 704, 1, 99, 934, 1, 624, 6, 11569, 17, 8865, 4, 3, 290, 1, 624, 14299, 1, 51644, 901, 719, 17, 271, 6, 2055, 2, 17, 9703, 338], [3, 3142, 31, 56, 52, 102, 28, 12, 1525, 14, 40, 3262, 6, 3334, 1992, 1620, 285, 9, 38, 8588, 2633, 3262, 1489, 46, 2303, 1, 140, 360, 4, 1862, 22, 24, 12207, 278, 497, 11, 14854, 4, 35, 1862, 42, 25935, 3745, 1, 1620, 33, 11, 15, 12, 1, 3838, 2086, 28, 360, 4, 35, 1862, 4, 1, 1781, 31, 211]]\n"
          ]
        }
      ]
    },
    {
      "cell_type": "code",
      "source": [
        "tar_tokenizer = Tokenizer()\n",
        "tar_tokenizer.fit_on_texts(decoder_input_train)"
      ],
      "metadata": {
        "id": "mNz7ulaDBWo9"
      },
      "execution_count": null,
      "outputs": []
    },
    {
      "cell_type": "code",
      "source": [
        "threshold = 6\n",
        "total_cnt = len(tar_tokenizer.word_index) # 단어의 수\n",
        "rare_cnt = 0 # 등장 빈도수가 threshold보다 작은 단어의 개수를 카운트\n",
        "total_freq = 0 # 훈련 데이터의 전체 단어 빈도수 총 합\n",
        "rare_freq = 0 # 등장 빈도수가 threshold보다 작은 단어의 등장 빈도수의 총 합\n",
        "\n",
        "# 단어와 빈도수의 쌍(pair)을 key와 value로 받는다.\n",
        "for key, value in tar_tokenizer.word_counts.items():\n",
        "    total_freq = total_freq + value\n",
        "\n",
        "    # 단어의 등장 빈도수가 threshold보다 작으면\n",
        "    if(value < threshold):\n",
        "        rare_cnt = rare_cnt + 1\n",
        "        rare_freq = rare_freq + value\n",
        "\n",
        "print('단어 집합(vocabulary)의 크기 :', total_cnt)\n",
        "print('등장 빈도가 %s번 이하인 희귀 단어의 수: %s'%(threshold - 1, rare_cnt))\n",
        "print('단어 집합에서 희귀 단어를 제외시킬 경우의 단어 집합의 크기 %s'%(total_cnt - rare_cnt))\n",
        "print(\"단어 집합에서 희귀 단어의 비율:\", (rare_cnt / total_cnt)*100)\n",
        "print(\"전체 등장 빈도에서 희귀 단어 등장 빈도 비율:\", (rare_freq / total_freq)*100)"
      ],
      "metadata": {
        "id": "85TlvFO5BZ3h",
        "colab": {
          "base_uri": "https://localhost:8080/"
        },
        "outputId": "9d1cbd5e-d84d-41a7-fde7-8c87fb1a0469"
      },
      "execution_count": null,
      "outputs": [
        {
          "output_type": "stream",
          "name": "stdout",
          "text": [
            "단어 집합(vocabulary)의 크기 : 39578\n",
            "등장 빈도가 5번 이하인 희귀 단어의 수: 28735\n",
            "단어 집합에서 희귀 단어를 제외시킬 경우의 단어 집합의 크기 10843\n",
            "단어 집합에서 희귀 단어의 비율: 72.60346657233818\n",
            "전체 등장 빈도에서 희귀 단어 등장 빈도 비율: 6.7195886840507955\n"
          ]
        }
      ]
    },
    {
      "cell_type": "code",
      "source": [
        "tar_vocab = 39000\n",
        "tar_tokenizer = Tokenizer(num_words=tar_vocab) \n",
        "tar_tokenizer.fit_on_texts(decoder_input_train)\n",
        "tar_tokenizer.fit_on_texts(decoder_target_train)\n",
        "\n",
        "# 텍스트 시퀀스를 정수 시퀀스로 변환\n",
        "decoder_input_train = tar_tokenizer.texts_to_sequences(decoder_input_train) \n",
        "decoder_target_train = tar_tokenizer.texts_to_sequences(decoder_target_train)\n",
        "decoder_input_test = tar_tokenizer.texts_to_sequences(decoder_input_test)\n",
        "decoder_target_test = tar_tokenizer.texts_to_sequences(decoder_target_test)\n",
        "\n",
        "# 잘 변환되었는지 확인\n",
        "print('input')\n",
        "print('input ',decoder_input_train[:5])\n",
        "print('target')\n",
        "print('decoder ',decoder_target_train[:5])"
      ],
      "metadata": {
        "id": "AQMfm3TIBaV8",
        "colab": {
          "base_uri": "https://localhost:8080/"
        },
        "outputId": "b5bcbeb6-4280-4b83-a392-e5a5a6d09669"
      },
      "execution_count": null,
      "outputs": [
        {
          "output_type": "stream",
          "name": "stdout",
          "text": [
            "input\n",
            "input  [[1, 4452, 10845, 526, 11, 229, 320, 168], [1, 212, 60, 25, 399, 716, 5351, 10846, 3, 1925, 12, 16881, 4, 55], [1, 4956, 60, 25, 27, 1256, 10, 14064, 187, 185, 4, 1992], [1, 259, 971, 1044, 411, 3127, 2507, 294, 90, 6, 739, 440], [1, 4453, 548, 22337, 16882, 3812, 16883, 4799, 92, 279]]\n",
            "target\n",
            "decoder  [[4452, 10845, 526, 11, 229, 320, 168, 2], [212, 60, 25, 399, 716, 5351, 10846, 3, 1925, 12, 16881, 4, 55, 2], [4956, 60, 25, 27, 1256, 10, 14064, 187, 185, 4, 1992, 2], [259, 971, 1044, 411, 3127, 2507, 294, 90, 6, 739, 440, 2], [4453, 548, 22337, 16882, 3812, 16883, 4799, 92, 279, 2]]\n"
          ]
        }
      ]
    },
    {
      "cell_type": "code",
      "source": [
        "drop_train = [index for index, sentence in enumerate(decoder_input_train) if len(sentence) == 1]\n",
        "drop_test = [index for index, sentence in enumerate(decoder_input_test) if len(sentence) == 1]\n",
        "\n",
        "print('삭제할 훈련 데이터의 개수 :', len(drop_train))\n",
        "print('삭제할 테스트 데이터의 개수 :', len(drop_test))\n",
        "\n",
        "encoder_input_train = [sentence for index, sentence in enumerate(encoder_input_train) if index not in drop_train]\n",
        "decoder_input_train = [sentence for index, sentence in enumerate(decoder_input_train) if index not in drop_train]\n",
        "decoder_target_train = [sentence for index, sentence in enumerate(decoder_target_train) if index not in drop_train]\n",
        "\n",
        "encoder_input_test = [sentence for index, sentence in enumerate(encoder_input_test) if index not in drop_test]\n",
        "decoder_input_test = [sentence for index, sentence in enumerate(decoder_input_test) if index not in drop_test]\n",
        "decoder_target_test = [sentence for index, sentence in enumerate(decoder_target_test) if index not in drop_test]\n",
        "\n",
        "print('훈련 데이터의 개수 :', len(encoder_input_train))\n",
        "print('훈련 레이블의 개수 :', len(decoder_input_train))\n",
        "print('테스트 데이터의 개수 :', len(encoder_input_test))\n",
        "print('테스트 레이블의 개수 :', len(decoder_input_test))"
      ],
      "metadata": {
        "id": "28iYtQaUBesP",
        "colab": {
          "base_uri": "https://localhost:8080/"
        },
        "outputId": "90cebb2a-9601-4bb4-eb9e-e581aab7ae83"
      },
      "execution_count": null,
      "outputs": [
        {
          "output_type": "stream",
          "name": "stdout",
          "text": [
            "삭제할 훈련 데이터의 개수 : 0\n",
            "삭제할 테스트 데이터의 개수 : 0\n",
            "훈련 데이터의 개수 : 71599\n",
            "훈련 레이블의 개수 : 71599\n",
            "테스트 데이터의 개수 : 17899\n",
            "테스트 레이블의 개수 : 17899\n"
          ]
        }
      ]
    },
    {
      "cell_type": "code",
      "source": [
        "encoder_input_train = pad_sequences(encoder_input_train, maxlen=text_max_len, padding='post')\n",
        "encoder_input_test = pad_sequences(encoder_input_test, maxlen=text_max_len, padding='post')\n",
        "decoder_input_train = pad_sequences(decoder_input_train, maxlen=headlines_max_len, padding='post')\n",
        "decoder_target_train = pad_sequences(decoder_target_train, maxlen=headlines_max_len, padding='post')\n",
        "decoder_input_test = pad_sequences(decoder_input_test, maxlen=headlines_max_len, padding='post')\n",
        "decoder_target_test = pad_sequences(decoder_target_test, maxlen=headlines_max_len, padding='post')"
      ],
      "metadata": {
        "id": "jhb7RimJBgyf"
      },
      "execution_count": null,
      "outputs": []
    },
    {
      "cell_type": "code",
      "source": [
        "# 인코더 설계 시작\n",
        "embedding_dim = 128\n",
        "hidden_size = 256\n",
        "\n",
        "# 인코더\n",
        "encoder_inputs = Input(shape=(text_max_len,))\n",
        "\n",
        "# 인코더의 임베딩 층\n",
        "enc_emb = Embedding(src_vocab, embedding_dim)(encoder_inputs)\n",
        "\n",
        "# 인코더의 LSTM 1\n",
        "# encoder_lstm1 = LSTM(hidden_size, return_sequences=True, return_state=True ,dropout = 0.4, recurrent_dropout = 0.4)\n",
        "encoder_lstm1 = LSTM(hidden_size, return_sequences=True, return_state=True ,dropout = 0.4)\n",
        "encoder_output1, state_h1, state_c1 = encoder_lstm1(enc_emb)\n",
        "\n",
        "# 인코더의 LSTM 2\n",
        "# encoder_lstm2 = LSTM(hidden_size, return_sequences=True, return_state=True, dropout=0.4, recurrent_dropout=0.4)\n",
        "encoder_lstm2 = LSTM(hidden_size, return_sequences=True, return_state=True, dropout=0.4)\n",
        "encoder_output2, state_h2, state_c2 = encoder_lstm2(encoder_output1)\n",
        "\n",
        "# 인코더의 LSTM 3\n",
        "# encoder_lstm3 = LSTM(hidden_size, return_state=True, return_sequences=True, dropout=0.4, recurrent_dropout=0.4)\n",
        "encoder_lstm3 = LSTM(hidden_size, return_state=True, return_sequences=True, dropout=0.4)\n",
        "encoder_outputs, state_h, state_c= encoder_lstm3(encoder_output2)"
      ],
      "metadata": {
        "id": "9VwssMp5BrNS"
      },
      "execution_count": null,
      "outputs": []
    },
    {
      "cell_type": "code",
      "source": [
        "# 디코더 설계\n",
        "decoder_inputs = Input(shape=(None,))\n",
        "\n",
        "# 디코더의 임베딩 층\n",
        "dec_emb_layer = Embedding(tar_vocab, embedding_dim)\n",
        "dec_emb = dec_emb_layer(decoder_inputs)\n",
        "\n",
        "# 디코더의 LSTM\n",
        "# decoder_lstm = LSTM(hidden_size, return_sequences=True, return_state=True, dropout=0.4, recurrent_dropout=0.2)\n",
        "decoder_lstm = LSTM(hidden_size, return_sequences=True, return_state=True, dropout=0.4)\n",
        "decoder_outputs, _, _ = decoder_lstm(dec_emb, initial_state=[state_h, state_c])"
      ],
      "metadata": {
        "id": "OEm-ILBfBvo_"
      },
      "execution_count": null,
      "outputs": []
    },
    {
      "cell_type": "code",
      "source": [
        "# 디코더의 출력층\n",
        "decoder_softmax_layer = Dense(tar_vocab, activation='softmax')\n",
        "decoder_softmax_outputs = decoder_softmax_layer(decoder_outputs) \n",
        "\n",
        "# 모델 정의\n",
        "model = Model([encoder_inputs, decoder_inputs], decoder_softmax_outputs)\n",
        "model.summary()"
      ],
      "metadata": {
        "id": "wEfisoMmByzd",
        "colab": {
          "base_uri": "https://localhost:8080/"
        },
        "outputId": "8901b59e-71de-4a0f-c13b-6643d6dec966"
      },
      "execution_count": null,
      "outputs": [
        {
          "output_type": "stream",
          "name": "stdout",
          "text": [
            "Model: \"model\"\n",
            "__________________________________________________________________________________________________\n",
            " Layer (type)                   Output Shape         Param #     Connected to                     \n",
            "==================================================================================================\n",
            " input_1 (InputLayer)           [(None, 60)]         0           []                               \n",
            "                                                                                                  \n",
            " embedding (Embedding)          (None, 60, 128)      11264000    ['input_1[0][0]']                \n",
            "                                                                                                  \n",
            " lstm (LSTM)                    [(None, 60, 256),    394240      ['embedding[0][0]']              \n",
            "                                 (None, 256),                                                     \n",
            "                                 (None, 256)]                                                     \n",
            "                                                                                                  \n",
            " input_2 (InputLayer)           [(None, None)]       0           []                               \n",
            "                                                                                                  \n",
            " lstm_1 (LSTM)                  [(None, 60, 256),    525312      ['lstm[0][0]']                   \n",
            "                                 (None, 256),                                                     \n",
            "                                 (None, 256)]                                                     \n",
            "                                                                                                  \n",
            " embedding_1 (Embedding)        (None, None, 128)    4992000     ['input_2[0][0]']                \n",
            "                                                                                                  \n",
            " lstm_2 (LSTM)                  [(None, 60, 256),    525312      ['lstm_1[0][0]']                 \n",
            "                                 (None, 256),                                                     \n",
            "                                 (None, 256)]                                                     \n",
            "                                                                                                  \n",
            " lstm_3 (LSTM)                  [(None, None, 256),  394240      ['embedding_1[0][0]',            \n",
            "                                 (None, 256),                     'lstm_2[0][1]',                 \n",
            "                                 (None, 256)]                     'lstm_2[0][2]']                 \n",
            "                                                                                                  \n",
            " dense (Dense)                  (None, None, 39000)  10023000    ['lstm_3[0][0]']                 \n",
            "                                                                                                  \n",
            "==================================================================================================\n",
            "Total params: 28,118,104\n",
            "Trainable params: 28,118,104\n",
            "Non-trainable params: 0\n",
            "__________________________________________________________________________________________________\n"
          ]
        }
      ]
    },
    {
      "cell_type": "code",
      "source": [
        "# 어텐션 층(어텐션 함수)\n",
        "attn_layer = AdditiveAttention(name='attention_layer')\n",
        "\n",
        "# 인코더와 디코더의 모든 time step의 hidden state를 어텐션 층에 전달하고 결과를 리턴\n",
        "attn_out = attn_layer([decoder_outputs, encoder_outputs])\n",
        "\n",
        "\n",
        "# 어텐션의 결과와 디코더의 hidden state들을 연결\n",
        "decoder_concat_input = Concatenate(axis=-1, name='concat_layer')([decoder_outputs, attn_out])\n",
        "\n",
        "# 디코더의 출력층\n",
        "decoder_softmax_layer = Dense(tar_vocab, activation='softmax')\n",
        "decoder_softmax_outputs = decoder_softmax_layer(decoder_concat_input)\n",
        "\n",
        "# 모델 정의\n",
        "model = Model([encoder_inputs, decoder_inputs], decoder_softmax_outputs)\n",
        "model.summary()"
      ],
      "metadata": {
        "id": "_iw7deg7B0hl",
        "colab": {
          "base_uri": "https://localhost:8080/"
        },
        "outputId": "75eeb1a5-9256-4f91-aa75-aefd76c4ba63"
      },
      "execution_count": null,
      "outputs": [
        {
          "output_type": "stream",
          "name": "stdout",
          "text": [
            "Model: \"model_1\"\n",
            "__________________________________________________________________________________________________\n",
            " Layer (type)                   Output Shape         Param #     Connected to                     \n",
            "==================================================================================================\n",
            " input_1 (InputLayer)           [(None, 60)]         0           []                               \n",
            "                                                                                                  \n",
            " embedding (Embedding)          (None, 60, 128)      11264000    ['input_1[0][0]']                \n",
            "                                                                                                  \n",
            " lstm (LSTM)                    [(None, 60, 256),    394240      ['embedding[0][0]']              \n",
            "                                 (None, 256),                                                     \n",
            "                                 (None, 256)]                                                     \n",
            "                                                                                                  \n",
            " input_2 (InputLayer)           [(None, None)]       0           []                               \n",
            "                                                                                                  \n",
            " lstm_1 (LSTM)                  [(None, 60, 256),    525312      ['lstm[0][0]']                   \n",
            "                                 (None, 256),                                                     \n",
            "                                 (None, 256)]                                                     \n",
            "                                                                                                  \n",
            " embedding_1 (Embedding)        (None, None, 128)    4992000     ['input_2[0][0]']                \n",
            "                                                                                                  \n",
            " lstm_2 (LSTM)                  [(None, 60, 256),    525312      ['lstm_1[0][0]']                 \n",
            "                                 (None, 256),                                                     \n",
            "                                 (None, 256)]                                                     \n",
            "                                                                                                  \n",
            " lstm_3 (LSTM)                  [(None, None, 256),  394240      ['embedding_1[0][0]',            \n",
            "                                 (None, 256),                     'lstm_2[0][1]',                 \n",
            "                                 (None, 256)]                     'lstm_2[0][2]']                 \n",
            "                                                                                                  \n",
            " attention_layer (AdditiveAtten  (None, None, 256)   256         ['lstm_3[0][0]',                 \n",
            " tion)                                                            'lstm_2[0][0]']                 \n",
            "                                                                                                  \n",
            " concat_layer (Concatenate)     (None, None, 512)    0           ['lstm_3[0][0]',                 \n",
            "                                                                  'attention_layer[0][0]']        \n",
            "                                                                                                  \n",
            " dense_1 (Dense)                (None, None, 39000)  20007000    ['concat_layer[0][0]']           \n",
            "                                                                                                  \n",
            "==================================================================================================\n",
            "Total params: 38,102,360\n",
            "Trainable params: 38,102,360\n",
            "Non-trainable params: 0\n",
            "__________________________________________________________________________________________________\n"
          ]
        }
      ]
    },
    {
      "cell_type": "code",
      "source": [
        "model.compile(optimizer='rmsprop', loss='sparse_categorical_crossentropy')\n",
        "es = EarlyStopping(monitor='val_loss', patience=2, verbose=1)\n",
        "history = model.fit(x=[encoder_input_train, decoder_input_train], y=decoder_target_train, \\\n",
        "                    validation_data=([encoder_input_test, decoder_input_test], decoder_target_test), \\\n",
        "                    batch_size=256, callbacks=[es], epochs=50)"
      ],
      "metadata": {
        "id": "CrzsuQ4nB7kM",
        "colab": {
          "base_uri": "https://localhost:8080/"
        },
        "outputId": "388a27bd-3f70-47a7-f258-d307a48d22d6"
      },
      "execution_count": null,
      "outputs": [
        {
          "output_type": "stream",
          "name": "stdout",
          "text": [
            "Epoch 1/50\n",
            "280/280 [==============================] - 45s 136ms/step - loss: 7.0532 - val_loss: 6.4128\n",
            "Epoch 2/50\n",
            "280/280 [==============================] - 37s 131ms/step - loss: 6.4802 - val_loss: 6.1001\n",
            "Epoch 3/50\n",
            "280/280 [==============================] - 37s 131ms/step - loss: 6.0991 - val_loss: 5.7644\n",
            "Epoch 4/50\n",
            "280/280 [==============================] - 37s 131ms/step - loss: 5.7812 - val_loss: 5.5525\n",
            "Epoch 5/50\n",
            "280/280 [==============================] - 37s 131ms/step - loss: 5.5375 - val_loss: 5.4044\n",
            "Epoch 6/50\n",
            "280/280 [==============================] - 37s 131ms/step - loss: 5.3331 - val_loss: 5.2527\n",
            "Epoch 7/50\n",
            "280/280 [==============================] - 37s 131ms/step - loss: 5.1529 - val_loss: 5.1624\n",
            "Epoch 8/50\n",
            "280/280 [==============================] - 37s 131ms/step - loss: 4.9895 - val_loss: 5.0709\n",
            "Epoch 9/50\n",
            "280/280 [==============================] - 37s 131ms/step - loss: 4.8467 - val_loss: 5.0164\n",
            "Epoch 10/50\n",
            "280/280 [==============================] - 37s 131ms/step - loss: 4.7215 - val_loss: 4.9434\n",
            "Epoch 11/50\n",
            "280/280 [==============================] - 37s 131ms/step - loss: 4.6068 - val_loss: 4.8918\n",
            "Epoch 12/50\n",
            "280/280 [==============================] - 37s 131ms/step - loss: 4.5017 - val_loss: 4.8556\n",
            "Epoch 13/50\n",
            "280/280 [==============================] - 37s 132ms/step - loss: 4.4003 - val_loss: 4.8225\n",
            "Epoch 14/50\n",
            "280/280 [==============================] - 37s 131ms/step - loss: 4.3076 - val_loss: 4.8100\n",
            "Epoch 15/50\n",
            "280/280 [==============================] - 37s 131ms/step - loss: 4.2262 - val_loss: 4.7858\n",
            "Epoch 16/50\n",
            "280/280 [==============================] - 37s 131ms/step - loss: 4.1426 - val_loss: 4.7713\n",
            "Epoch 17/50\n",
            "280/280 [==============================] - 37s 131ms/step - loss: 4.0618 - val_loss: 4.7571\n",
            "Epoch 18/50\n",
            "280/280 [==============================] - 37s 131ms/step - loss: 3.9971 - val_loss: 4.7464\n",
            "Epoch 19/50\n",
            "280/280 [==============================] - 37s 131ms/step - loss: 3.9295 - val_loss: 4.7312\n",
            "Epoch 20/50\n",
            "280/280 [==============================] - 37s 131ms/step - loss: 3.8681 - val_loss: 4.7331\n",
            "Epoch 21/50\n",
            "280/280 [==============================] - 37s 131ms/step - loss: 3.8135 - val_loss: 4.7418\n",
            "Epoch 21: early stopping\n"
          ]
        }
      ]
    },
    {
      "cell_type": "code",
      "source": [
        "plt.plot(history.history['loss'], label='train')\n",
        "plt.plot(history.history['val_loss'], label='test')\n",
        "plt.legend()\n",
        "plt.show()"
      ],
      "metadata": {
        "id": "rDLtvJYTCAjm",
        "colab": {
          "base_uri": "https://localhost:8080/",
          "height": 265
        },
        "outputId": "2bcbaa7f-5a39-4f3c-b23e-c780ee3b2ad7"
      },
      "execution_count": null,
      "outputs": [
        {
          "output_type": "display_data",
          "data": {
            "text/plain": [
              "<Figure size 432x288 with 1 Axes>"
            ],
            "image/png": "[encoded data removed]"
          },
          "metadata": {
            "needs_background": "light"
          }
        }
      ]
    },
    {
      "cell_type": "markdown",
      "source": [
        "## Step 4. 실제 결과와 요약문 비교하기 (추상적 요약)\n",
        "원래의 요약문(headlines 열)과 학습을 통해 얻은 추상적 요약의 결과를 비교해 보세요."
      ],
      "metadata": {
        "id": "cWzm8xP-SaQT"
      }
    },
    {
      "cell_type": "code",
      "source": [
        "src_index_to_word = src_tokenizer.index_word # 원문 단어 집합에서 정수 -> 단어를 얻음\n",
        "tar_word_to_index = tar_tokenizer.word_index # 요약 단어 집합에서 단어 -> 정수를 얻음\n",
        "tar_index_to_word = tar_tokenizer.index_word # 요약 단어 집합에서 정수 -> 단어를 얻음"
      ],
      "metadata": {
        "id": "ztrfNO08CFGf"
      },
      "execution_count": null,
      "outputs": []
    },
    {
      "cell_type": "code",
      "source": [
        "# 인코더 설계\n",
        "encoder_model = Model(inputs=encoder_inputs, outputs=[encoder_outputs, state_h, state_c])\n",
        "\n",
        "# 이전 시점의 상태들을 저장하는 텐서\n",
        "decoder_state_input_h = Input(shape=(hidden_size,))\n",
        "decoder_state_input_c = Input(shape=(hidden_size,))\n",
        "\n",
        "dec_emb2 = dec_emb_layer(decoder_inputs)\n",
        "\n",
        "# 문장의 다음 단어를 예측하기 위해서 초기 상태(initial_state)를 이전 시점의 상태로 사용. 이는 뒤의 함수 decode_sequence()에 구현\n",
        "# 훈련 과정에서와 달리 LSTM의 리턴하는 은닉 상태와 셀 상태인 state_h와 state_c를 버리지 않음.\n",
        "decoder_outputs2, state_h2, state_c2 = decoder_lstm(dec_emb2, initial_state=[decoder_state_input_h, decoder_state_input_c])"
      ],
      "metadata": {
        "id": "b9wXYxSSCHvF"
      },
      "execution_count": null,
      "outputs": []
    },
    {
      "cell_type": "code",
      "source": [
        "# 어텐션 함수\n",
        "decoder_hidden_state_input = Input(shape=(text_max_len, hidden_size))\n",
        "attn_out_inf = attn_layer([decoder_outputs2, decoder_hidden_state_input])\n",
        "decoder_inf_concat = Concatenate(axis=-1, name='concat')([decoder_outputs2, attn_out_inf])\n",
        "\n",
        "# 디코더의 출력층\n",
        "decoder_outputs2 = decoder_softmax_layer(decoder_inf_concat) \n",
        "\n",
        "# 최종 디코더 모델\n",
        "decoder_model = Model(\n",
        "    [decoder_inputs] + [decoder_hidden_state_input,decoder_state_input_h, decoder_state_input_c],\n",
        "    [decoder_outputs2] + [state_h2, state_c2])"
      ],
      "metadata": {
        "id": "YukgSlhFCJ3c"
      },
      "execution_count": null,
      "outputs": []
    },
    {
      "cell_type": "code",
      "source": [
        "def decode_sequence(input_seq):\n",
        "    # 입력으로부터 인코더의 상태를 얻음\n",
        "    e_out, e_h, e_c = encoder_model.predict(input_seq)\n",
        "\n",
        "     # <SOS>에 해당하는 토큰 생성\n",
        "    target_seq = np.zeros((1,1))\n",
        "    target_seq[0, 0] = tar_word_to_index['sostoken']\n",
        "\n",
        "    stop_condition = False\n",
        "    decoded_sentence = ''\n",
        "    while not stop_condition: # stop_condition이 True가 될 때까지 루프 반복\n",
        "\n",
        "        output_tokens, h, c = decoder_model.predict([target_seq] + [e_out, e_h, e_c])\n",
        "        sampled_token_index = np.argmax(output_tokens[0, -1, :])\n",
        "        sampled_token = tar_index_to_word[sampled_token_index]\n",
        "\n",
        "        if (sampled_token!='eostoken'):\n",
        "            decoded_sentence += ' '+sampled_token\n",
        "\n",
        "        #  <eos>에 도달하거나 최대 길이를 넘으면 중단.\n",
        "        if (sampled_token == 'eostoken'  or len(decoded_sentence.split()) >= (headlines_max_len-1)):\n",
        "            stop_condition = True\n",
        "\n",
        "        # 길이가 1인 타겟 시퀀스를 업데이트\n",
        "        target_seq = np.zeros((1,1))\n",
        "        target_seq[0, 0] = sampled_token_index\n",
        "\n",
        "        # 상태를 업데이트 합니다.\n",
        "        e_h, e_c = h, c\n",
        "\n",
        "    return decoded_sentence"
      ],
      "metadata": {
        "id": "UOlMx2izCNot"
      },
      "execution_count": null,
      "outputs": []
    },
    {
      "cell_type": "code",
      "source": [
        "# 원문의 정수 시퀀스를 텍스트 시퀀스로 변환\n",
        "def seq2text(input_seq):\n",
        "    temp=''\n",
        "    for i in input_seq:\n",
        "        if (i!=0):\n",
        "            temp = temp + src_index_to_word[i]+' '\n",
        "    return temp\n",
        "\n",
        "# 요약문의 정수 시퀀스를 텍스트 시퀀스로 변환\n",
        "def seq2summary(input_seq):\n",
        "    temp=''\n",
        "    for i in input_seq:\n",
        "        if ((i!=0 and i!=tar_word_to_index['sostoken']) and i!=tar_word_to_index['eostoken']):\n",
        "            temp = temp + tar_index_to_word[i] + ' '\n",
        "    return temp"
      ],
      "metadata": {
        "id": "ZMw6PWS6COwo"
      },
      "execution_count": null,
      "outputs": []
    },
    {
      "cell_type": "code",
      "source": [
        "for i in range(50, 100):\n",
        "    print(\"원문 :\", seq2text(encoder_input_test[i]))\n",
        "    print(\"실제 요약 :\", seq2summary(decoder_input_test[i]))\n",
        "    print(\"예측 요약 :\", decode_sequence(encoder_input_test[i].reshape(1, text_max_len)))\n",
        "    print(\"\\n\")"
      ],
      "metadata": {
        "id": "VYTdj8mLSepw",
        "colab": {
          "base_uri": "https://localhost:8080/"
        },
        "outputId": "7a4425b6-b673-4fa3-e043-2cfe5ab85545"
      },
      "execution_count": null,
      "outputs": [
        {
          "output_type": "stream",
          "name": "stdout",
          "text": [
            "원문 : juventus forward cristiano ronaldo's former girlfriend has said she will give evidence in favour of the footballer in the rape case against him he was never ever aggressive towards me not even near i can't see him forcing or holding down someone she added an american woman has alleged ronaldo raped her in a hotel in 2009 \n",
            "실제 요약 : can't see ronaldo forcing someone ex girlfriend on rape claims \n",
            "예측 요약 :  ronaldo calls me ronaldo ronaldo ronaldo\n",
            "\n",
            "\n",
            "원문 : at least 15 patients died after more than 500 junior doctors at the patna medical college and hospital went on a strike on thursday to protest assault by a deceased patient's attendants further 36 surgeries were deferred and dozens of patients were refused admission officials said the doctors are demanding adequate security and action against those who attacked their colleagues \n",
            "실제 요약 : 15 patients die after patna hospital's doctors go on strike \n",
            "예측 요약 :  doctors go on hospital after being denied treatment in hospital\n",
            "\n",
            "\n",
            "원문 : us army whistleblower chelsea manning has said president donald trump is not an aberration but the inevitable conclusion of the us political system further talking about surveillance of us citizens manning said she is concerned about the fact that a single person us president has the power to do these things why do we even have a president manning questioned \n",
            "실제 요약 : trump inevitable of us political system manning \n",
            "예측 요약 :  trump defends trump's decision to make its own comment\n",
            "\n",
            "\n",
            "원문 : an ahmedabad man filed for divorce claiming that his wife has a beard and manly voice he further said that the woman tricked him by covering her face and he couldn't see her before marriage as it was against the tradition the woman defended herself saying that the facial hair were due to a hormonal imbalance and could be treated \n",
            "실제 요약 : wife has beard voice ahmedabad man in divorce plea \n",
            "예측 요약 :  woman claims wife says him to have been her\n",
            "\n",
            "\n",
            "원문 : brazilian football club chapecoense won the santa state championship on sunday five months after 19 of its players died in a plane crash in colombia in november the club which had only three surviving players signed 25 new footballers before the season began in january the club also had to find replacements for scouts medics and other backroom staff \n",
            "실제 요약 : chapecoense win title 5 months after air crash killed team \n",
            "예측 요약 :  india's 1st ever footballer wins race after crash\n",
            "\n",
            "\n",
            "원문 : nominated former india captain mahendra singh dhoni for the country's third highest civilian award the padma bhushan for his contribution to the game the 36 year old is the board's only nomination for the award this year the other cricketers to have been bestowed with the honour in the past include kapil dev sunil gavaskar rahul dravid and lala amarnath \n",
            "실제 요약 : bcci nominates ms dhoni for padma bhushan award \n",
            "예측 요약 :  bcci named india's best cricketer award for padma bhushan\n",
            "\n",
            "\n",
            "원문 : more educated live longer according to a study by the organisation for economic cooperation and development oecd the study said a 25 year old man with a university education is expected to live 7 5 years longer on average than his low educated counterpart the study adds that the gap between life expectancy and education decreases as the population ages \n",
            "실제 요약 : more educated people live longer oecd study \n",
            "예측 요약 :  indian origin woman to have hiv cancer than cancer study\n",
            "\n",
            "\n",
            "원문 : a video of a filipino couple exchanging vows in a flooded church has gone viral even if it floods or it rains nothing can stop me you only get married once will you postpone it i was marrying the man i love the bride said southwest monsoon has caused heavy rains that resulted in flooding across the philippines \n",
            "실제 요약 : video of couple getting married in flooded church goes viral \n",
            "예측 요약 :  video shows couple who married alone alone on wedding goes\n",
            "\n",
            "\n",
            "원문 : television actress pankhuri has tweeted a picture of her handwritten poem on rape victims in the poem she has mentioned recent news reports of how a woman was gang raped while her eight month old child was killed and about children being molested by teachers earlier pankhuri had talked about how she slapped a guy who touched her thigh \n",
            "실제 요약 : tv actress pankhuri pens poem on rape victims \n",
            "예측 요약 :  singer slams her rape victim for rape victim claims girl\n",
            "\n",
            "\n",
            "원문 : facebook is working on a feature called 'your time on facebook' which will track how much time users spend on an average on the app it will also offer users an option to set a daily time limit to reduce app usage a company spokesperson confirmed the same but did not reveal when or if the feature would be launched \n",
            "실제 요약 : facebook working on tool to track users' time spent on app \n",
            "예측 요약 :  facebook working on facebook working with messenger report\n",
            "\n",
            "\n",
            "원문 : 35 muslim women who suffered due to nikah halala and triple talaq in uttar pradesh's bareilly urged the government to take stronger steps to end the practices this comes after the centre announced it will oppose nikah halala in the supreme court the practice allows a muslim man to remarry his ex wife after she consummate marriage with another man \n",
            "실제 요약 : 35 muslim women urge govt to end triple talaq nikah halala \n",
            "예측 요약 :  triple talaq bill should be triple talaq in law owaisi\n",
            "\n",
            "\n",
            "원문 : a 25 year old man was detained by the police on the intervening night of friday and saturday for allegedly stealing women's clothes including undergarments from a residential society in noida police officers said the man appeared to be mentally ill and was intoxicated at the time of the incident no case has been filed against him so far \n",
            "실제 요약 : man steals women's undergarments in noida arrested \n",
            "예측 요약 :  man arrested for stealing driving in delhi\n",
            "\n",
            "\n",
            "원문 : late united states president john f kennedy kept during his days as a journalist after world war ii sold for 718 750 ã¢ââ¹4 6 crore at an auction on wednesday in the 61 page diary kennedy had suspected hitler was not dead and had in him the stuff of which legends are made while expressing doubts about united nations' effectiveness \n",
            "실제 요약 : john f kennedy's diary as journalist sells for ã¢ââ¹4 6 crore \n",
            "예측 요약 :  russian billionaire billionaire wins hong kong office\n",
            "\n",
            "\n",
            "원문 : industries chairman mukesh ambani has topped forbes india's 100 richest people list for the 11th straight year with a net worth of 47 3 billion he is the biggest gainer on the list this year adding 9 3 billion to his net worth amid reliance jio's success however he saw a 15 3 billion rise in his wealth in 2017 \n",
            "실제 요약 : mukesh ambani tops forbes richest indians' list for 11th year \n",
            "예측 요약 :  mukesh ambani named world's richest person in the world\n",
            "\n",
            "\n",
            "원문 : year old uttar pradesh policeman bhupendra tomar recently went on to save a man's life despite getting a call about his daughter's sudden demise even though his team insisted on him going back home tomar stayed and took the injured man to a hospital leave the dead behind and save those alive is the credo that i follow tomar said \n",
            "실제 요약 : up cop saves man despite getting call about death \n",
            "예측 요약 :  up woman forced to stop woman's video after being forced\n",
            "\n",
            "\n",
            "원문 : veteran actress asha parekh has said that rishi kapoor is right in getting upset with younger generation of actors for skipping late actor vinod khanna's funeral she added youngsters need to respect veterans it's very sad to know they didn't turn up rishi had slammed actors as they skipped the funeral but many attended priyanka chopra's party a night before \n",
            "실제 요약 : asha backs rishi on young stars' absence in vinod's funeral \n",
            "예측 요약 :  i am not an films for films bhansali kapoor\n",
            "\n",
            "\n",
            "원문 : actors soha ali khan and kunal kemmu who became parents to a baby girl on september 29 have named their daughter inaaya naumi kemmu sharing the news on twitter kunal wrote little inaaya is happy and healthy and she thanks all of you for your love and blessings this is soha's first child with kunal whom she married in 2015 \n",
            "실제 요약 : soha ali khan kunal kemmu name their baby girl inaaya \n",
            "예측 요약 :  sunny leone shares picture with baby boy in a baby\n",
            "\n",
            "\n",
            "원문 : 21 year old taxi driver from tamil nadu's chennai on wednesday set fire to himself after he was allegedly physically assaulted by traffic police officials for not wearing a seat belt the man who reportedly suffered over 50 burns was rushed to the hospital by the accused cops action will be taken against the guilty police commissioner ak viswanathan said \n",
            "실제 요약 : tn driver burns self after cops assault him over seat belt \n",
            "예측 요약 :  man dies after being hit by driver in mumbai\n",
            "\n",
            "\n",
            "원문 : bindra after he won independent india's first individual olympic gold on august 11 2008 he then said it's alright i suppose i think i'd like to use the washroom then 25 year old bindra shot a near perfect final score of 10 8 to emerge champion four years after he missed the gold due to dodgy wooden flooring at athens \n",
            "실제 요약 : i'd like to use the washroom bindra said after olympic gold \n",
            "예측 요약 :  i'm not having any time gold winning athlete usain bolt\n",
            "\n",
            "\n",
            "원문 : player bernard tomic faked injury to get a time out in his first round match at wimbledon as he felt bad and bored the 24 year old who lost to mischa zverev confessed that tennis did not satisfy him any more and he is aiming to play the sport for another decade so that he won't have to work again \n",
            "실제 요약 : player takes time out in wimbledon match after getting bored \n",
            "예측 요약 :  i was a tennis player in tennis match tournament\n",
            "\n",
            "\n",
            "원문 : union minister jitendra singh on friday blamed former pm jawaharlal nehru for the situation in jammu and kashmir saying that the crisis in the state began with blunder if nehru had not intervened in the functioning of sardar patel the situation would have been different he added singh further attacked congress by calling it ki party party of kitchen ã¢ââ \n",
            "실제 요약 : blunder responsible for j k crisis union minister \n",
            "예측 요약 :  j k govt is terrorists in kashmir rajnath\n",
            "\n",
            "\n",
            "원문 : accepting sachin tendulkar's suggestion after eight years the cricket club of india renamed its gate after former bcci president raj singh dungarpur in 2009 at condolence meet sachin had suggested renaming the gate after the former chairman of selectors cci and bcci chief sachin inaugurated the renamed gate at the brabourne stadium which houses cci on friday \n",
            "실제 요약 : cci accepts sachin's suggestion after 8 yrs to rename gate \n",
            "예측 요약 :  dravid named as india's best cricketer to be awarded\n",
            "\n",
            "\n",
            "원문 : a 31 year old woman's husband has sued kolkata's columbia asia hospital after its staff allegedly infused the blood of a wrong group while performing surgery causing her to take support a case of pregnancy she was reportedly infused with blood of group of ab instead of a her lungs and kidneys were damaged after the wrong blood infusion \n",
            "실제 요약 : woman on ventilator after hospital allegedly gives blood of wrong group \n",
            "예측 요약 :  woman finds woman's body found in woman's bag\n",
            "\n",
            "\n",
            "원문 : district magistrate of maharashtra's gondia abhimanyu kale has claimed that several vvpat machines started malfunctioning due to scorching heat during the lok sabha bypolls on monday he added that most machines were repaired and other machines were immediately replaced voting at 35 polling booths in the bhandara gondia constituency was temporarily suspended over the technical glitches \n",
            "실제 요약 : vvpat glitch due to heat maha district magistrate \n",
            "예측 요약 :  why are the biggest machines of the biggest day\n",
            "\n",
            "\n",
            "원문 : the uttar pradesh government on monday transferred farrukhabad district magistrate chief medical superintendent and chief medical officer of the district after 49 children died within a month in rml district hospital an fir has also been lodged against the cmo cms and the doctors at the hospital reportedly the children had died due to lack of oxygen and medicine \n",
            "실제 요약 : dm transferred after 49 kids die in hospital \n",
            "예측 요약 :  up govt orders probe into hospital after gorakhpur death\n",
            "\n",
            "\n",
            "원문 : british foreign secretary boris johnson has said it was overwhelmingly likely that russian president vladimir putin ordered to carry out a nerve agent attack in the country the statement comes in the wake of the poisoning of former spy sergei skripal using a nerve agent officials said 131 people may have been exposed to the chemical used in the attack \n",
            "실제 요약 : putin likely ordered nerve agent attack on ex spy uk secy \n",
            "예측 요약 :  putin putin putin russia resigns\n",
            "\n",
            "\n",
            "원문 : a pregnant woman in andhra pradesh's vizianagaram district delivered on the way while being carried to a hospital on tuesday her relatives were carrying her on a makeshift cloth stretcher in the absence of proper road connectivity the hospital was 7 km away but she delivered the baby 4 km into the journey and decided to return home \n",
            "실제 요약 : pregnant lady being taken to hospital on cloth delivers on way \n",
            "예측 요약 :  woman gives birth to hospital after being denied ambulance\n",
            "\n",
            "\n",
            "원문 : the reserve bank of india rbi will soon introduce new ã¢ââ¹20 currency notes with additional features reported pti citing an rbi document on tuesday despite the new notes coming into circulation the old ã¢ââ¹20 notes will not be withdrawn the report added according to rbi data about 10 billion pieces of ã¢ââ¹20 banknotes were in circulation in march 2018 \n",
            "실제 요약 : reserve bank of india to soon introduce new ã¢ââ¹20 banknotes report \n",
            "예측 요약 :  rbi to introduce new notes with rbi notes\n",
            "\n",
            "\n",
            "원문 : the vatican is launching an exorcism training course for priests amid a three fold rise in the demand for services of exorcists in italy priests attributed the increase in exorcism cases to a growing number of people seeking the services of fortune tellers and tarot readers pope francis officially recognised exorcism under canon law in 2014 \n",
            "실제 요약 : vatican launches course for exorcism \n",
            "예측 요약 :  australia to hold its first ever navy\n",
            "\n",
            "\n",
            "원문 : actor akshay kumar has announced his upcoming film titled 'good news' in which he will be paired opposite kareena kapoor they will reportedly be playing a married couple trying to have a child in the raj mehta directorial 'good news' which will be produced by karan johar will also star diljit dosanjh and kiara advani \n",
            "실제 요약 : akshay announces new film 'good news' opposite kareena \n",
            "예측 요약 :  akshay to play her film in upcoming film report\n",
            "\n",
            "\n",
            "원문 : venezuela has urged citizens to see rabbits as more than cute pets and instead breed and eat them amid a chronic food shortage in the nation discussing the rabbit plan the government said a rabbit is not a pet it's two and a half kilos of meat that is high in protein with no cholesterol '' \n",
            "실제 요약 : venezuela asks people to eat rabbits to end hunger \n",
            "예측 요약 :  us government calls for removing dogs from vatican\n",
            "\n",
            "\n",
            "원문 : director ali abbas zafar while talking about his upcoming film 'bharat' has said that salman khan and katrina kaif's chemistry is in the film while talking about the shoot of the film ali added we shot a romantic song with them salman and katrina and one featuring nora fatehi along with some elaborate action sequence \n",
            "실제 요약 : salman katrina's chemistry is in 'bharat' maker \n",
            "예측 요약 :  salman khan denies rumours of salman khan's 'race 3'\n",
            "\n",
            "\n",
            "원문 : the first look of actor salman khan from the upcoming film 'race 3' has been unveiled sharing his look salman tweeted is hoon race3 ki family se mera naam hai sikander selfless over selfish directed by remo d'souza the film is scheduled to release on june 15 as an eid release \n",
            "실제 요약 : first look of salman khan from 'race 3' unveiled \n",
            "예측 요약 :  salman khan to star in salman khan's 'race 3'\n",
            "\n",
            "\n",
            "원문 : union minister jitendra singh on saturday said the congress is habitual of putting the blame of defeat on the electronic voting machines evms this came after congress leader arjun modhwadia claimed that three evms in gujarat's porbandar were rigged using bluetooth singh added that this time congress has grown wiser and started accusing the evms even before the results \n",
            "실제 요약 : congress is habitual of blaming evms union minister \n",
            "예측 요약 :  evms not evms in evms have been evms ec\n",
            "\n",
            "\n",
            "원문 : england football club southend united's striker nile ranger celebrated his first goal after returning from jail by imitating a gun celebration ranger converted a penalty and took off his shoe pretending it to be a gun and imitated shooting the crowd the 26 year old was released last month after serving 10 weeks in jail for online banking fraud \n",
            "실제 요약 : player released from jail celebrates goal with gun action \n",
            "예측 요약 :  player who survived football match arrested at his own home\n",
            "\n",
            "\n",
            "원문 : president ram nath kovind on tuesday launched a logo and a web portal to commemorate 150th birth anniversary of mahatma gandhi which is celebrated on october 2 the portal has a feature which is a repository of gandhian knowledge there's also a button that allows individuals and organisations to upload their activities regarding the commemoration on the website \n",
            "실제 요약 : prez kovind launches logo web portal for gandhi jayanti \n",
            "예측 요약 :  president unveils 1st ever birthday president\n",
            "\n",
            "\n",
            "원문 : after bsp and sp announced that they'll contest the lok sabha polls together bsp supremo mayawati seemingly took a jibe at pm narendra modi and bjp chief amit shah stating yeh guru ki neend wali press conference hai claiming the alliance will lead to a new political revolution mayawati added the alliance was made keeping public interest in mind \n",
            "실제 요약 : bsp sp alliance will give pm modi sleepless nights mayawati \n",
            "예측 요약 :  bjp leader calls pm modi for supporting ram mandir party\n",
            "\n",
            "\n",
            "원문 : the un human rights committee on tuesday said that france's ban on full face veil was a violation of human rights and ordered the country to review the legislation the un committee said france had 180 days to report back the committee's findings come after complaints by two french women who were convicted in 2012 for violating the ban \n",
            "실제 요약 : france's ban on islamic veil violates human rights un panel \n",
            "예측 요약 :  un bans muslim religious rights in law\n",
            "\n",
            "\n",
            "원문 : a 9 year old girl from uttarakhand has filed a petition against the government for failing to take action on climate change the petition asks the national green tribunal to order the government to prepare a carbon budget and climate recovery plan the tribunal has asked the ministry of environment and central pollution control board to respond within two weeks \n",
            "실제 요약 : 9 year old sues indian govt over inaction on climate change \n",
            "예측 요약 :  haryana govt bans use of plastic on private field\n",
            "\n",
            "\n",
            "원문 : ex australia captain michael clarke called journalist gerard a headline chasing coward saying attacked his leadership and blamed him for ball tampering scandal gerard accused clarke of not understanding australia's problem after clarke asked the team to play tough cricket if he was talented to make it onto a cricket pitch he'd have a better perspective clarke added \n",
            "실제 요약 : headline chasing clarke to journalist who criticised him \n",
            "예측 요약 :  i was not playing cricket australia australia pacer clarke\n",
            "\n",
            "\n",
            "원문 : cm captain amarinder singh on sunday said that he is not at loggerheads with congress leader navjot singh sidhu sidhu always speaks in a forthright manner his only problem is that sometimes he shoots before he thinks singh added this comes days after sidhu had remarked that congress president rahul gandhi was his captain while singh was an army captain \n",
            "실제 요약 : sidhu and i are not at loggerheads amarinder singh \n",
            "예측 요약 :  i am not an sidhu cm on sidhu sidhu\n",
            "\n",
            "\n",
            "원문 : 19 year old youth's ear was bitten off and then spat out on the street in a road rage case in delhi the youth's motorcycle had brushed past a scooter carrying two people leading to a physical altercation during the altercation the two accused thrashed the boy and at one point one held his arms while another bit his ear \n",
            "실제 요약 : old man's ear bitten off spat out in delhi road rage \n",
            "예측 요약 :  delhi teen jumps to death by car while taking selfie\n",
            "\n",
            "\n",
            "원문 : a mumbai bengaluru indigo flight returned to the mumbai airport after pilots declared a full emergency shortly after takeoff on tuesday night the emergency was declared due to an engine failure an indigo spokesperson said the flight landed safely at the airport and another plane was arranged for the passengers \n",
            "실제 요약 : indigo plane suffers engine failure declares full emergency \n",
            "예측 요약 :  delhi airport plane catches fire at delhi airport\n",
            "\n",
            "\n",
            "원문 : congress vice president rahul gandhi on wednesday said that the performance of india and china will determine fundamental shaping of the world there are two large taking place one is completely free and the other is centrally controlled it's not my place to say that china should be democratic or not they have chosen their path rahul added \n",
            "실제 요약 : india china performance to decide of world rahul \n",
            "예측 요약 :  india will become a indian economy by india rahul\n",
            "\n",
            "\n",
            "원문 : flipkart owned fashion retailer myntra's losses have reduced by 25 to ã¢ââ¹655 crore in the fiscal year 2017 as compared to crore in the previous financial year myntra also posted a total revenue of ã¢ââ¹2 000 crore in the same fiscal flipkart which was recently acquired by us based walmart bought myntra in 2014 \n",
            "실제 요약 : flipkart's myntra reduces losses by 25 to ã¢ââ¹655 cr in fy17 \n",
            "예측 요약 :  flipkart losses in 2017 quarter widens to ã¢ââ¹1 5 crore\n",
            "\n",
            "\n",
            "원문 : karnataka cm hd kumaraswamy told us ambassador to india kenneth juster us should open its consulate in bengaluru at the earliest to facilitate among other things granting of its visas to the citizens of our state kumaraswamy also assured infrastructure including land building and support system to set up the consulate the cm's office said in a statement \n",
            "실제 요약 : karnataka cm urges us to open consulate in bengaluru \n",
            "예측 요약 :  india to work with china for peace in india china\n",
            "\n",
            "\n",
            "원문 : mobile advertising startup inmobi's co founder mohit saxena has announced his decision to step down as its chief technology officer saxena along with iit graduates naveen tewari abhay singhal and amit gupta had co founded inmobi in 2007 inmobi is one of the first india based firms that japanese telecommunications major softbank invested in \n",
            "실제 요약 : inmobi co founder mohit saxena to step down as cto \n",
            "예측 요약 :  former co founder appoints startup singh as new york\n",
            "\n",
            "\n",
            "원문 : rounder hardik pandya who was named man of the match against kolkata knight riders on sunday revealed that he has stopped practising batting pandya who scored a 20 ball 35 and took two wickets to become the purple cap holder added it's all about one hit obviously if people bowl well i have to respect them and can't do anything \n",
            "실제 요약 : have stopped practising batting hardik pandya \n",
            "예측 요약 :  hardik pandya shares his catch with his bowling in mumbai\n",
            "\n",
            "\n",
            "원문 : the brihanmumbai municipal corporation has partially cleared a proposal seeking to hike prices of medical services by 25 at civic hospitals while mumbai residents will face a 25 hike people from other cities will have to pay 35 more the hike will be applicable at all 16 civic hospitals and is expected to be implemented from april \n",
            "실제 요약 : mumbai body to hike treatment cost at civic hospitals by 25 \n",
            "예측 요약 :  delhi civic body to get free fee hike for free\n",
            "\n",
            "\n",
            "원문 : actress alia bhatt's pictures as a kashmiri girl from the sets of her upcoming film 'raazi' have surfaced online the film is based on harinder sikka's novel 'calling sehmat' and also stars vicky kaushal in the lead role earlier alia revealed that she is learning urdu for the film which is being directed by meghna gulzar \n",
            "실제 요약 : alia's pics as kashmiri girl from 'raazi' sets emerge online \n",
            "예측 요약 :  alia bhatt shares picture of sets of daughter in film\n",
            "\n",
            "\n"
          ]
        }
      ]
    },
    {
      "cell_type": "code",
      "source": [
        "data2 = pd.read_csv('news_summary_more.csv', encoding='iso-8859-1')\n",
        "data2 = data2[['text', 'headlines']]"
      ],
      "metadata": {
        "id": "N7b5wiLWUzUt"
      },
      "execution_count": null,
      "outputs": []
    },
    {
      "cell_type": "code",
      "source": [],
      "metadata": {
        "id": "edFpIxgmU5In"
      },
      "execution_count": null,
      "outputs": []
    },
    {
      "cell_type": "markdown",
      "source": [
        "## Step 5. Summa을 이용해서 추출적 요약해보기\n",
        "추상적 요약은 추출적 요약과는 달리 문장의 표현력을 다양하게 가져갈 수 있지만, 추출적 요약에 비해서 난이도가 높아요. 반대로 말하면 추출적 요약은 추상적 요약에 비해 난이도가 낮고 기존 문장에서 문장을 꺼내오는 것이므로 잘못된 요약이 나올 가능성이 낮아요."
      ],
      "metadata": {
        "id": "r5udOPejSgVr"
      }
    },
    {
      "cell_type": "markdown",
      "source": [
        "Summa의 summarize를 사용하여 추출적 요약을 해보세요."
      ],
      "metadata": {
        "id": "7wN9pQbVSiQv"
      }
    },
    {
      "cell_type": "code",
      "source": [
        "data3 = pd.read_csv('news_summary_more.csv', encoding='iso-8859-1')"
      ],
      "metadata": {
        "id": "o-3yQpYpSHTq"
      },
      "execution_count": null,
      "outputs": []
    },
    {
      "cell_type": "code",
      "source": [
        "data3 = data3[['text', 'headlines']]"
      ],
      "metadata": {
        "id": "ol8Kv_GZTies"
      },
      "execution_count": null,
      "outputs": []
    },
    {
      "cell_type": "code",
      "source": [
        "print('Summary:')\n",
        "print(summarize(data3['text'].apply(str).iloc[10], ratio=0.5))"
      ],
      "metadata": {
        "id": "lQygoogVCw5S",
        "colab": {
          "base_uri": "https://localhost:8080/"
        },
        "outputId": "651cc9e2-ed8b-407b-c72c-fe00191d6ee4"
      },
      "execution_count": null,
      "outputs": [
        {
          "output_type": "stream",
          "name": "stdout",
          "text": [
            "Summary:\n",
            "Two minor cousins in Uttar Pradesh's Gorakhpur were allegedly repeatedly burnt with tongs and forced to eat human excreta by their family for being friends with two boys from the same school.\n"
          ]
        }
      ]
    },
    {
      "cell_type": "code",
      "source": [
        "data3['text'].apply(str).iloc[10]"
      ],
      "metadata": {
        "colab": {
          "base_uri": "https://localhost:8080/",
          "height": 90
        },
        "id": "qWH16KW4UOXk",
        "outputId": "eb5b8a95-21bf-4cd5-9256-2dda89007441"
      },
      "execution_count": null,
      "outputs": [
        {
          "output_type": "execute_result",
          "data": {
            "text/plain": [
              "\"Two minor cousins in Uttar Pradesh's Gorakhpur were allegedly repeatedly burnt with tongs and forced to eat human excreta by their family for being friends with two boys from the same school. The cousins revealed their ordeal to the police and Child Welfare Committee after being brought back to Gorakhpur from Nepal, where they had fled to escape the torture.\""
            ],
            "application/vnd.google.colaboratory.intrinsic+json": {
              "type": "string"
            }
          },
          "metadata": {},
          "execution_count": 59
        }
      ]
    },
    {
      "cell_type": "code",
      "source": [
        "def summarize_news(idx):\n",
        "    for i in idx:\n",
        "        print('원문\\n',data3['text'].apply(str).iloc[i], '\\n')\n",
        "        print('요약\\n',summarize(data3['text'].apply(str).iloc[i], ratio=0.5),'\\n\\n')\n",
        "        print('======================================================================================')"
      ],
      "metadata": {
        "id": "QX669MN9UXiF"
      },
      "execution_count": null,
      "outputs": []
    },
    {
      "cell_type": "code",
      "source": [
        "summarize_news([50, 200, 3560, 41000, 54000])"
      ],
      "metadata": {
        "colab": {
          "base_uri": "https://localhost:8080/"
        },
        "id": "l0XcP_JhUfPl",
        "outputId": "ab464f6e-21c4-4dc7-a783-4ed10bd74d49"
      },
      "execution_count": null,
      "outputs": [
        {
          "output_type": "stream",
          "name": "stdout",
          "text": [
            "원문\n",
            " Former Finance Minister Yashwant Sinha on Tuesday demanded a probe into the alleged diversion of loans worth Ã¢ÂÂ¹31,000 crore by Dewan Housing Finance (DHFL). All agencies including regulators of the government have failed to track nefarious deals, he said. This comes after a media report on Tuesday accused DHFL's controlling shareholders of diverting funds to shell companies to buy assets. \n",
            "\n",
            "요약\n",
            " Former Finance Minister Yashwant Sinha on Tuesday demanded a probe into the alleged diversion of loans worth Ã¢ÂÂ¹31,000 crore by Dewan Housing Finance (DHFL). \n",
            "\n",
            "\n",
            "======================================================================================\n",
            "원문\n",
            " Australia's wicketkeeper-batswoman Alyssa Healy has said that the Australian team needs to be wary of India's women's T20I team captain Harmanpreet Kaur at the ICC Women's T20 World Cup next year. Harmanpreet, who was named in the ICC Team of the Year 2018, helped India reach the semi-finals of the ICC Women's World T20 2018 last November. \n",
            "\n",
            "요약\n",
            " Australia's wicketkeeper-batswoman Alyssa Healy has said that the Australian team needs to be wary of India's women's T20I team captain Harmanpreet Kaur at the ICC Women's T20 World Cup next year. \n",
            "\n",
            "\n",
            "======================================================================================\n",
            "원문\n",
            " Ex-India captain Sunil Gavaskar, while commentating in the fourth Australia-India Test, trolled Australian commentator Kerry O'Keeffe, who was dubbed 'racist' for insulting Indians. \"LabuschagneÃ¢ÂÂ the bowler whose name only O'Keeffe can pronounce,\" said Gavaskar when Australia's Marnus Labuschagne came to bowl. During the third Test, O'Keeffe had said, \"Why'd you name your kid Cheteshwar Jadeja?\" \n",
            "\n",
            "요약\n",
            " \"LabuschagneÃ¢ÂÂ the bowler whose name only O'Keeffe can pronounce,\" said Gavaskar when Australia's Marnus Labuschagne came to bowl. \n",
            "\n",
            "\n",
            "======================================================================================\n",
            "원문\n",
            " The Indian contingent has been handed a warning by the Commonwealth Games for breaching the Games' 'no needle' policy. A doctor travelling alongside the Indian boxing contingent will also be handed a \"strongly written reprimand\" by the Commonwealth Games Federation (CGF), alongside a recommendation to immediately familiarise himself with the policies of the CGF. \n",
            "\n",
            "요약\n",
            " The Indian contingent has been handed a warning by the Commonwealth Games for breaching the Games' 'no needle' policy. \n",
            "\n",
            "\n",
            "======================================================================================\n",
            "원문\n",
            " Chinese scientists have claimed to hear sounds from the Mariana Trench, which houses the deepest known point on Earth. The experiment involved sending and retrieving an acoustic probe to Challenger Deep, nearly 11 kilometres below sea level. Researchers aim to understand how creatures deep in the sea communicate using sound considering the absence of light down there. \n",
            "\n",
            "요약\n",
            " Researchers aim to understand how creatures deep in the sea communicate using sound considering the absence of light down there. \n",
            "\n",
            "\n",
            "======================================================================================\n"
          ]
        }
      ]
    }
  ]
}