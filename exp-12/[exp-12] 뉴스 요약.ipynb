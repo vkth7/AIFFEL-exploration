{
  "nbformat": 4,
  "nbformat_minor": 0,
  "metadata": {
    "colab": {
      "provenance": [],
      "machine_shape": "hm",
      "collapsed_sections": [],
      "mount_file_id": "1ffi-VMcWfrRKppb_pUrgR6Y_g2e-fChf",
      "authorship_tag": "ABX9TyPBTSmg3UWMdPkEEHvh4ld+",
      "include_colab_link": true
    },
    "kernelspec": {
      "name": "python3",
      "display_name": "Python 3"
    },
    "language_info": {
      "name": "python"
    },
    "gpuClass": "standard",
    "accelerator": "GPU"
  },
  "cells": [
    {
      "cell_type": "markdown",
      "metadata": {
        "id": "view-in-github",
        "colab_type": "text"
      },
      "source": [
        "<a href=\"https://colab.research.google.com/github/vkth7/AIFFEL-exploration/blob/main/exp-12/%5Bexp-12%5D%20%EB%89%B4%EC%8A%A4%20%EC%9A%94%EC%95%BD.ipynb\" target=\"_parent\"><img src=\"https://colab.research.google.com/assets/colab-badge.svg\" alt=\"Open In Colab\"/></a>"
      ]
    },
    {
      "cell_type": "markdown",
      "source": [
        "# 12-13. 프로젝트: 뉴스기사 요약해보기"
      ],
      "metadata": {
        "id": "szrlzKZIR808"
      }
    },
    {
      "cell_type": "code",
      "source": [
        "!pip install summa"
      ],
      "metadata": {
        "colab": {
          "base_uri": "https://localhost:8080/"
        },
        "id": "fkhgaXqiIPSk",
        "outputId": "4f30e976-6609-4997-cff6-7c54117ed082"
      },
      "execution_count": 1,
      "outputs": [
        {
          "output_type": "stream",
          "name": "stdout",
          "text": [
            "Looking in indexes: https://pypi.org/simple, https://us-python.pkg.dev/colab-wheels/public/simple/\n",
            "Requirement already satisfied: summa in /usr/local/lib/python3.7/dist-packages (1.2.0)\n",
            "Requirement already satisfied: scipy>=0.19 in /usr/local/lib/python3.7/dist-packages (from summa) (1.7.3)\n",
            "Requirement already satisfied: numpy<1.23.0,>=1.16.5 in /usr/local/lib/python3.7/dist-packages (from scipy>=0.19->summa) (1.21.6)\n"
          ]
        }
      ]
    },
    {
      "cell_type": "code",
      "source": [
        "import nltk\n",
        "nltk.download('stopwords')\n",
        "\n",
        "import numpy as np\n",
        "import pandas as pd\n",
        "import os\n",
        "import re\n",
        "import matplotlib.pyplot as plt\n",
        "from nltk.corpus import stopwords\n",
        "from bs4 import BeautifulSoup \n",
        "import requests\n",
        "from summa.summarizer import summarize\n",
        "from tensorflow.keras.preprocessing.text import Tokenizer \n",
        "from tensorflow.keras.preprocessing.sequence import pad_sequences\n",
        "from tensorflow.keras.layers import Input, LSTM, Embedding, Dense, Concatenate, TimeDistributed\n",
        "from tensorflow.keras.models import Model\n",
        "from tensorflow.keras.callbacks import EarlyStopping, ModelCheckpoint\n",
        "from tensorflow.keras.layers import AdditiveAttention\n",
        "import urllib.request\n",
        "import warnings\n",
        "warnings.filterwarnings(\"ignore\", category=UserWarning, module='bs4')"
      ],
      "metadata": {
        "colab": {
          "base_uri": "https://localhost:8080/"
        },
        "id": "nqSdXeQQSKog",
        "outputId": "4c58d355-3f4b-40ff-eca1-b852c2c95bc6"
      },
      "execution_count": 2,
      "outputs": [
        {
          "output_type": "stream",
          "name": "stderr",
          "text": [
            "[nltk_data] Downloading package stopwords to /root/nltk_data...\n",
            "[nltk_data]   Package stopwords is already up-to-date!\n"
          ]
        }
      ]
    },
    {
      "cell_type": "markdown",
      "source": [
        "## Step 1. 데이터 수집하기\n",
        "데이터는 아래 링크에 있는 뉴스 기사 데이터(news_summary_more.csv)를 사용하세요.\n",
        "\n",
        "[sunnysai12345/News_Summary](https://github.com/sunnysai12345/News_Summary)\n",
        "아래의 코드로 데이터를 다운로드할 수 있어요."
      ],
      "metadata": {
        "id": "tqnr7d9VSA5Q"
      }
    },
    {
      "cell_type": "code",
      "execution_count": 3,
      "metadata": {
        "colab": {
          "base_uri": "https://localhost:8080/",
          "height": 363
        },
        "id": "HdZMRS6gR0Eh",
        "outputId": "5f9396b7-455f-47f5-fcff-d03a0c9f1fcc"
      },
      "outputs": [
        {
          "output_type": "execute_result",
          "data": {
            "text/plain": [
              "                                               headlines  \\\n",
              "36579  Cash vans should have CCTV, GPS, wireless sets...   \n",
              "49149  When 2 adults get married, no third party can ...   \n",
              "97597  87 lakh fake, duplicate job cards removed from...   \n",
              "89884  Delhi Metro hikes fares after 8 yrs, maximum f...   \n",
              "71314  Hurricane damages airport where planes fly ove...   \n",
              "661    Zero plus zero makes zero: Yogi on Priyanka jo...   \n",
              "3598   US House passes bill to end shutdown, excludes...   \n",
              "35026  Nepal natural area for cooperation with India:...   \n",
              "28496  Indian shooter Saurabh sets junior world recor...   \n",
              "48444  Won't let channels with offensive content earn...   \n",
              "\n",
              "                                                    text  \n",
              "36579  The Reserve Bank of India (RBI) has said that ...  \n",
              "49149  While hearing a petition seeking ban on honour...  \n",
              "97597  To check the \"misuse\" of funds under MGNREGA, ...  \n",
              "89884  The Delhi Metro Rail Corporation board has acc...  \n",
              "71314  The Princess Juliana International Airport, kn...  \n",
              "661    Talking about Priyanka Gandhi entering active ...  \n",
              "3598   The US House of Representatives, where Democra...  \n",
              "35026  Nepal is a natural area for cooperation betwee...  \n",
              "28496  Sixteen-year-old Indian shooter Saurabh Chaudh...  \n",
              "48444  YouTube has outlined the steps it might take w...  "
            ],
            "text/html": [
              "\n",
              "  <div id=\"df-7deb3ddb-e794-4fe3-9545-917b31a06aa3\">\n",
              "    <div class=\"colab-df-container\">\n",
              "      <div>\n",
              "<style scoped>\n",
              "    .dataframe tbody tr th:only-of-type {\n",
              "        vertical-align: middle;\n",
              "    }\n",
              "\n",
              "    .dataframe tbody tr th {\n",
              "        vertical-align: top;\n",
              "    }\n",
              "\n",
              "    .dataframe thead th {\n",
              "        text-align: right;\n",
              "    }\n",
              "</style>\n",
              "<table border=\"1\" class=\"dataframe\">\n",
              "  <thead>\n",
              "    <tr style=\"text-align: right;\">\n",
              "      <th></th>\n",
              "      <th>headlines</th>\n",
              "      <th>text</th>\n",
              "    </tr>\n",
              "  </thead>\n",
              "  <tbody>\n",
              "    <tr>\n",
              "      <th>36579</th>\n",
              "      <td>Cash vans should have CCTV, GPS, wireless sets...</td>\n",
              "      <td>The Reserve Bank of India (RBI) has said that ...</td>\n",
              "    </tr>\n",
              "    <tr>\n",
              "      <th>49149</th>\n",
              "      <td>When 2 adults get married, no third party can ...</td>\n",
              "      <td>While hearing a petition seeking ban on honour...</td>\n",
              "    </tr>\n",
              "    <tr>\n",
              "      <th>97597</th>\n",
              "      <td>87 lakh fake, duplicate job cards removed from...</td>\n",
              "      <td>To check the \"misuse\" of funds under MGNREGA, ...</td>\n",
              "    </tr>\n",
              "    <tr>\n",
              "      <th>89884</th>\n",
              "      <td>Delhi Metro hikes fares after 8 yrs, maximum f...</td>\n",
              "      <td>The Delhi Metro Rail Corporation board has acc...</td>\n",
              "    </tr>\n",
              "    <tr>\n",
              "      <th>71314</th>\n",
              "      <td>Hurricane damages airport where planes fly ove...</td>\n",
              "      <td>The Princess Juliana International Airport, kn...</td>\n",
              "    </tr>\n",
              "    <tr>\n",
              "      <th>661</th>\n",
              "      <td>Zero plus zero makes zero: Yogi on Priyanka jo...</td>\n",
              "      <td>Talking about Priyanka Gandhi entering active ...</td>\n",
              "    </tr>\n",
              "    <tr>\n",
              "      <th>3598</th>\n",
              "      <td>US House passes bill to end shutdown, excludes...</td>\n",
              "      <td>The US House of Representatives, where Democra...</td>\n",
              "    </tr>\n",
              "    <tr>\n",
              "      <th>35026</th>\n",
              "      <td>Nepal natural area for cooperation with India:...</td>\n",
              "      <td>Nepal is a natural area for cooperation betwee...</td>\n",
              "    </tr>\n",
              "    <tr>\n",
              "      <th>28496</th>\n",
              "      <td>Indian shooter Saurabh sets junior world recor...</td>\n",
              "      <td>Sixteen-year-old Indian shooter Saurabh Chaudh...</td>\n",
              "    </tr>\n",
              "    <tr>\n",
              "      <th>48444</th>\n",
              "      <td>Won't let channels with offensive content earn...</td>\n",
              "      <td>YouTube has outlined the steps it might take w...</td>\n",
              "    </tr>\n",
              "  </tbody>\n",
              "</table>\n",
              "</div>\n",
              "      <button class=\"colab-df-convert\" onclick=\"convertToInteractive('df-7deb3ddb-e794-4fe3-9545-917b31a06aa3')\"\n",
              "              title=\"Convert this dataframe to an interactive table.\"\n",
              "              style=\"display:none;\">\n",
              "        \n",
              "  <svg xmlns=\"http://www.w3.org/2000/svg\" height=\"24px\"viewBox=\"0 0 24 24\"\n",
              "       width=\"24px\">\n",
              "    <path d=\"M0 0h24v24H0V0z\" fill=\"none\"/>\n",
              "    <path d=\"M18.56 5.44l.94 2.06.94-2.06 2.06-.94-2.06-.94-.94-2.06-.94 2.06-2.06.94zm-11 1L8.5 8.5l.94-2.06 2.06-.94-2.06-.94L8.5 2.5l-.94 2.06-2.06.94zm10 10l.94 2.06.94-2.06 2.06-.94-2.06-.94-.94-2.06-.94 2.06-2.06.94z\"/><path d=\"M17.41 7.96l-1.37-1.37c-.4-.4-.92-.59-1.43-.59-.52 0-1.04.2-1.43.59L10.3 9.45l-7.72 7.72c-.78.78-.78 2.05 0 2.83L4 21.41c.39.39.9.59 1.41.59.51 0 1.02-.2 1.41-.59l7.78-7.78 2.81-2.81c.8-.78.8-2.07 0-2.86zM5.41 20L4 18.59l7.72-7.72 1.47 1.35L5.41 20z\"/>\n",
              "  </svg>\n",
              "      </button>\n",
              "      \n",
              "  <style>\n",
              "    .colab-df-container {\n",
              "      display:flex;\n",
              "      flex-wrap:wrap;\n",
              "      gap: 12px;\n",
              "    }\n",
              "\n",
              "    .colab-df-convert {\n",
              "      background-color: #E8F0FE;\n",
              "      border: none;\n",
              "      border-radius: 50%;\n",
              "      cursor: pointer;\n",
              "      display: none;\n",
              "      fill: #1967D2;\n",
              "      height: 32px;\n",
              "      padding: 0 0 0 0;\n",
              "      width: 32px;\n",
              "    }\n",
              "\n",
              "    .colab-df-convert:hover {\n",
              "      background-color: #E2EBFA;\n",
              "      box-shadow: 0px 1px 2px rgba(60, 64, 67, 0.3), 0px 1px 3px 1px rgba(60, 64, 67, 0.15);\n",
              "      fill: #174EA6;\n",
              "    }\n",
              "\n",
              "    [theme=dark] .colab-df-convert {\n",
              "      background-color: #3B4455;\n",
              "      fill: #D2E3FC;\n",
              "    }\n",
              "\n",
              "    [theme=dark] .colab-df-convert:hover {\n",
              "      background-color: #434B5C;\n",
              "      box-shadow: 0px 1px 3px 1px rgba(0, 0, 0, 0.15);\n",
              "      filter: drop-shadow(0px 1px 2px rgba(0, 0, 0, 0.3));\n",
              "      fill: #FFFFFF;\n",
              "    }\n",
              "  </style>\n",
              "\n",
              "      <script>\n",
              "        const buttonEl =\n",
              "          document.querySelector('#df-7deb3ddb-e794-4fe3-9545-917b31a06aa3 button.colab-df-convert');\n",
              "        buttonEl.style.display =\n",
              "          google.colab.kernel.accessAllowed ? 'block' : 'none';\n",
              "\n",
              "        async function convertToInteractive(key) {\n",
              "          const element = document.querySelector('#df-7deb3ddb-e794-4fe3-9545-917b31a06aa3');\n",
              "          const dataTable =\n",
              "            await google.colab.kernel.invokeFunction('convertToInteractive',\n",
              "                                                     [key], {});\n",
              "          if (!dataTable) return;\n",
              "\n",
              "          const docLinkHtml = 'Like what you see? Visit the ' +\n",
              "            '<a target=\"_blank\" href=https://colab.research.google.com/notebooks/data_table.ipynb>data table notebook</a>'\n",
              "            + ' to learn more about interactive tables.';\n",
              "          element.innerHTML = '';\n",
              "          dataTable['output_type'] = 'display_data';\n",
              "          await google.colab.output.renderOutput(dataTable, element);\n",
              "          const docLink = document.createElement('div');\n",
              "          docLink.innerHTML = docLinkHtml;\n",
              "          element.appendChild(docLink);\n",
              "        }\n",
              "      </script>\n",
              "    </div>\n",
              "  </div>\n",
              "  "
            ]
          },
          "metadata": {},
          "execution_count": 3
        }
      ],
      "source": [
        "urllib.request.urlretrieve(\"https://raw.githubusercontent.com/sunnysai12345/News_Summary/master/news_summary_more.csv\", filename=\"news_summary_more.csv\")\n",
        "data = pd.read_csv('news_summary_more.csv', encoding='iso-8859-1')\n",
        "data.sample(10)"
      ]
    },
    {
      "cell_type": "markdown",
      "source": [
        "이 데이터는 기사의 본문에 해당되는 text와 headlines 두 가지 열로 구성되어져 있습니다.\n",
        "\n",
        "추상적 요약을 하는 경우에는 text를 본문, headlines를 이미 요약된 데이터로 삼아서 모델을 학습할 수 있어요. 추출적 요약을 하는 경우에는 오직 text열만을 사용하세요."
      ],
      "metadata": {
        "id": "hVYj7ubJSSu5"
      }
    },
    {
      "cell_type": "markdown",
      "source": [
        "## Step 2. 데이터 전처리하기 (추상적 요약)\n",
        "실습에서 사용된 전처리를 참고하여 각자 필요하다고 생각하는 전처리를 추가 사용하여 텍스트를 정규화 또는 정제해 보세요. 만약, 불용어 제거를 선택한다면 상대적으로 길이가 짧은 요약 데이터에 대해서도 불용어를 제거하는 것이 좋을지 고민해 보세요."
      ],
      "metadata": {
        "id": "Uv7ZR_e4STjj"
      }
    },
    {
      "cell_type": "code",
      "source": [
        "# 데이터의 중복 샘플 유무 확인\n",
        "print('headlines 열에서 중복을 배제한 유일한 샘플의 수 :', data['headlines'].nunique())\n",
        "print('text 열에서 중복을 배제한 유일한 샘플의 수 :', data['text'].nunique())"
      ],
      "metadata": {
        "colab": {
          "base_uri": "https://localhost:8080/"
        },
        "id": "0mRkVNuzWsue",
        "outputId": "2fcae44a-8010-46bf-cc3c-5de145c28529"
      },
      "execution_count": 4,
      "outputs": [
        {
          "output_type": "stream",
          "name": "stdout",
          "text": [
            "headlines 열에서 중복을 배제한 유일한 샘플의 수 : 98280\n",
            "text 열에서 중복을 배제한 유일한 샘플의 수 : 98360\n"
          ]
        }
      ]
    },
    {
      "cell_type": "code",
      "source": [
        "print('전체 샘플수 :', (len(data)))"
      ],
      "metadata": {
        "colab": {
          "base_uri": "https://localhost:8080/"
        },
        "id": "mtO63E1JbIYM",
        "outputId": "ea498bbd-0ee4-435a-ae82-c904e484e9bb"
      },
      "execution_count": 5,
      "outputs": [
        {
          "output_type": "stream",
          "name": "stdout",
          "text": [
            "전체 샘플수 : 98401\n"
          ]
        }
      ]
    },
    {
      "cell_type": "markdown",
      "source": [
        "headlines가 중복돼도 text가 다른 경우는 괜찮지만 text가 중복되면 내용이 같은 경우이므로 text 중복을 제거합니다."
      ],
      "metadata": {
        "id": "Wkl5bU6ibuB3"
      }
    },
    {
      "cell_type": "code",
      "source": [
        "# text 중복 샘플 제거\n",
        "data.drop_duplicates(subset = ['text'], inplace=True)\n",
        "\n",
        "print('전체 샘플수 :', (len(data)))"
      ],
      "metadata": {
        "colab": {
          "base_uri": "https://localhost:8080/"
        },
        "id": "hp0kje-CSO8O",
        "outputId": "a72366de-e4cc-40be-e7b2-f534b00b62a4"
      },
      "execution_count": 6,
      "outputs": [
        {
          "output_type": "stream",
          "name": "stdout",
          "text": [
            "전체 샘플수 : 98360\n"
          ]
        }
      ]
    },
    {
      "cell_type": "code",
      "source": [
        "# 결측치 찾기\n",
        "print(data.isnull().sum())"
      ],
      "metadata": {
        "colab": {
          "base_uri": "https://localhost:8080/"
        },
        "id": "Q30FhlVFhtev",
        "outputId": "e5a9766b-496f-4e57-da6e-c873cce46f3f"
      },
      "execution_count": 7,
      "outputs": [
        {
          "output_type": "stream",
          "name": "stdout",
          "text": [
            "headlines    0\n",
            "text         0\n",
            "dtype: int64\n"
          ]
        }
      ]
    },
    {
      "cell_type": "code",
      "source": [
        "# 정규화 사전\n",
        "contractions = {\"isn't\": \"is not\", \"aren't\": \"are not\",\"can't\": \"cannot\", \"'cause\": \"because\", \"could've\": \"could have\", \"couldn't\": \"could not\",\n",
        "                           \"didn't\": \"did not\",  \"doesn't\": \"does not\", \"don't\": \"do not\", \"hadn't\": \"had not\", \"hasn't\": \"has not\", \"haven't\": \"have not\",\n",
        "                           \"he'd\": \"he would\",\"he'll\": \"he will\", \"he's\": \"he is\", \"how'd\": \"how did\", \"how'd'y\": \"how do you\", \"how'll\": \"how will\", \"how's\": \"how is\",\n",
        "                           \"I'd\": \"I would\", \"I'd've\": \"I would have\", \"I'll\": \"I will\", \"I'll've\": \"I will have\",\"I'm\": \"I am\", \"I've\": \"I have\", \"i'd\": \"i would\",\n",
        "                           \"i'd've\": \"i would have\", \"i'll\": \"i will\",  \"i'll've\": \"i will have\",\"i'm\": \"i am\", \"i've\": \"i have\", \"isn't\": \"is not\", \"it'd\": \"it would\",\n",
        "                           \"it'd've\": \"it would have\", \"it'll\": \"it will\", \"it'll've\": \"it will have\",\"it's\": \"it is\", \"let's\": \"let us\", \"ma'am\": \"madam\",\n",
        "                           \"mayn't\": \"may not\", \"might've\": \"might have\",\"mightn't\": \"might not\",\"mightn't've\": \"might not have\", \"must've\": \"must have\",\n",
        "                           \"mustn't\": \"must not\", \"mustn't've\": \"must not have\", \"needn't\": \"need not\", \"needn't've\": \"need not have\",\"o'clock\": \"of the clock\",\n",
        "                           \"oughtn't\": \"ought not\", \"oughtn't've\": \"ought not have\", \"shan't\": \"shall not\", \"sha'n't\": \"shall not\", \"shan't've\": \"shall not have\",\n",
        "                           \"she'd\": \"she would\", \"she'd've\": \"she would have\", \"she'll\": \"she will\", \"she'll've\": \"she will have\", \"she's\": \"she is\",\n",
        "                           \"should've\": \"should have\", \"shouldn't\": \"should not\", \"shouldn't've\": \"should not have\", \"so've\": \"so have\",\"so's\": \"so as\",\n",
        "                           \"this's\": \"this is\",\"that'd\": \"that would\", \"that'd've\": \"that would have\", \"that's\": \"that is\", \"there'd\": \"there would\",\n",
        "                           \"there'd've\": \"there would have\", \"there's\": \"there is\", \"here's\": \"here is\",\"they'd\": \"they would\", \"they'd've\": \"they would have\",\n",
        "                           \"they'll\": \"they will\", \"they'll've\": \"they will have\", \"they're\": \"they are\", \"they've\": \"they have\", \"to've\": \"to have\",\n",
        "                           \"wasn't\": \"was not\", \"we'd\": \"we would\", \"we'd've\": \"we would have\", \"we'll\": \"we will\", \"we'll've\": \"we will have\", \"we're\": \"we are\",\n",
        "                           \"we've\": \"we have\", \"weren't\": \"were not\", \"what'll\": \"what will\", \"what'll've\": \"what will have\", \"what're\": \"what are\",\n",
        "                           \"what's\": \"what is\", \"what've\": \"what have\", \"when's\": \"when is\", \"when've\": \"when have\", \"where'd\": \"where did\", \"where's\": \"where is\",\n",
        "                           \"where've\": \"where have\", \"who'll\": \"who will\", \"who'll've\": \"who will have\", \"who's\": \"who is\", \"who've\": \"who have\",\n",
        "                           \"why's\": \"why is\", \"why've\": \"why have\", \"will've\": \"will have\", \"won't\": \"will not\", \"won't've\": \"will not have\",\n",
        "                           \"would've\": \"would have\", \"wouldn't\": \"would not\", \"wouldn't've\": \"would not have\", \"y'all\": \"you all\",\n",
        "                           \"y'all'd\": \"you all would\",\"y'all'd've\": \"you all would have\",\"y'all're\": \"you all are\",\"y'all've\": \"you all have\",\n",
        "                           \"you'd\": \"you would\", \"you'd've\": \"you would have\", \"you'll\": \"you will\", \"you'll've\": \"you will have\",\n",
        "                           \"you're\": \"you are\", \"you've\": \"you have\"}\n",
        "\n",
        "print(\"정규화 사전의 수: \", len(contractions))"
      ],
      "metadata": {
        "colab": {
          "base_uri": "https://localhost:8080/"
        },
        "id": "srK0a3GPh5RB",
        "outputId": "59808984-a8cb-4bf2-cfac-06f233594f7c"
      },
      "execution_count": 8,
      "outputs": [
        {
          "output_type": "stream",
          "name": "stdout",
          "text": [
            "정규화 사전의 수:  119\n"
          ]
        }
      ]
    },
    {
      "cell_type": "code",
      "source": [
        "print('불용어 개수 :', len(stopwords.words('english') ))\n",
        "print(stopwords.words('english'))"
      ],
      "metadata": {
        "colab": {
          "base_uri": "https://localhost:8080/"
        },
        "id": "ACcZsr4iiK59",
        "outputId": "34979df7-c93b-422a-c3b1-539643dc4d3f"
      },
      "execution_count": 9,
      "outputs": [
        {
          "output_type": "stream",
          "name": "stdout",
          "text": [
            "불용어 개수 : 179\n",
            "['i', 'me', 'my', 'myself', 'we', 'our', 'ours', 'ourselves', 'you', \"you're\", \"you've\", \"you'll\", \"you'd\", 'your', 'yours', 'yourself', 'yourselves', 'he', 'him', 'his', 'himself', 'she', \"she's\", 'her', 'hers', 'herself', 'it', \"it's\", 'its', 'itself', 'they', 'them', 'their', 'theirs', 'themselves', 'what', 'which', 'who', 'whom', 'this', 'that', \"that'll\", 'these', 'those', 'am', 'is', 'are', 'was', 'were', 'be', 'been', 'being', 'have', 'has', 'had', 'having', 'do', 'does', 'did', 'doing', 'a', 'an', 'the', 'and', 'but', 'if', 'or', 'because', 'as', 'until', 'while', 'of', 'at', 'by', 'for', 'with', 'about', 'against', 'between', 'into', 'through', 'during', 'before', 'after', 'above', 'below', 'to', 'from', 'up', 'down', 'in', 'out', 'on', 'off', 'over', 'under', 'again', 'further', 'then', 'once', 'here', 'there', 'when', 'where', 'why', 'how', 'all', 'any', 'both', 'each', 'few', 'more', 'most', 'other', 'some', 'such', 'no', 'nor', 'not', 'only', 'own', 'same', 'so', 'than', 'too', 'very', 's', 't', 'can', 'will', 'just', 'don', \"don't\", 'should', \"should've\", 'now', 'd', 'll', 'm', 'o', 're', 've', 'y', 'ain', 'aren', \"aren't\", 'couldn', \"couldn't\", 'didn', \"didn't\", 'doesn', \"doesn't\", 'hadn', \"hadn't\", 'hasn', \"hasn't\", 'haven', \"haven't\", 'isn', \"isn't\", 'ma', 'mightn', \"mightn't\", 'mustn', \"mustn't\", 'needn', \"needn't\", 'shan', \"shan't\", 'shouldn', \"shouldn't\", 'wasn', \"wasn't\", 'weren', \"weren't\", 'won', \"won't\", 'wouldn', \"wouldn't\"]\n"
          ]
        }
      ]
    },
    {
      "cell_type": "code",
      "source": [
        "# 데이터 전처리 함수\n",
        "def preprocess_sentence(sentence, remove_stopwords=True):\n",
        "    sentence = sentence.lower() # 텍스트 소문자화\n",
        "    sentence = re.sub(r'\\([^)]*\\)', '', sentence) # 괄호로 닫힌 문자열 (...) 제거 Ex) my husband (and myself!) for => my husband for\n",
        "    sentence = re.sub('\"','', sentence) # 쌍따옴표 \" 제거\n",
        "    sentence = ' '.join([contractions[t] if t in contractions else t for t in sentence.split(\" \")]) # 약어 정규화\n",
        "    sentence = re.sub(r\"'s\\b\",\"\", sentence) # 소유격 제거. Ex) roland's -> roland\n",
        "    sentence = re.sub(\"[^a-zA-Z]\", \" \", sentence) # 영어 외 문자(숫자, 특수문자 등) 공백으로 변환\n",
        "    sentence = re.sub('[m]{2,}', 'mm', sentence) # m이 3개 이상이면 2개로 변경. Ex) ummmmmmm yeah -> umm yeah\n",
        "    \n",
        "    # 불용어 제거 (text)\n",
        "    if remove_stopwords:\n",
        "        tokens = ' '.join(word for word in sentence.split() if not word in stopwords.words('english') if len(word) > 1)\n",
        "    # 불용어 미제거 (headlines)\n",
        "    else:\n",
        "        tokens = ' '.join(word for word in sentence.split() if len(word) > 1)\n",
        "    return tokens"
      ],
      "metadata": {
        "id": "Z1e_su8ojDRE"
      },
      "execution_count": 10,
      "outputs": []
    },
    {
      "cell_type": "code",
      "source": [
        "clean_text = []\n",
        "# 전체 Text 데이터에 대한 전처리 : 10분 이상 시간이 걸릴 수 있습니다. \n",
        "for s in data['text']:\n",
        "    clean_text.append(preprocess_sentence(s))\n",
        "\n",
        "# 전처리 후 출력\n",
        "print(\"Text 전처리 후 결과: \", clean_text[:5])"
      ],
      "metadata": {
        "id": "jGZhAhveI6e8",
        "colab": {
          "base_uri": "https://localhost:8080/"
        },
        "outputId": "63ce2638-b80f-4212-ff63-6ecd28e98efb"
      },
      "execution_count": 11,
      "outputs": [
        {
          "output_type": "stream",
          "name": "stdout",
          "text": [
            "Text 전처리 후 결과:  ['saurav kant alumnus upgrad iiit pg program machine learning artificial intelligence sr systems engineer infosys almost years work experience program upgrad degree career support helped transition data scientist tech mahindra salary hike upgrad online power learning powered lakh careers', 'kunal shah credit card bill payment platform cred gave users chance win free food swiggy one year pranav kaushik delhi techie bagged reward spending cred coins users get one cred coin per rupee bill paid used avail rewards brands like ixigo bookmyshow ubereats cult fit', 'new zealand defeated india wickets fourth odi hamilton thursday win first match five match odi series india lost international match rohit sharma captaincy consecutive victories dating back march match witnessed india getting seventh lowest total odi cricket history', 'aegon life iterm insurance plan customers enjoy tax benefits premiums paid save taxes plan provides life cover age years also customers options insure critical illnesses disability accidental death benefit rider life cover age years', 'speaking sexual harassment allegations rajkumar hirani sonam kapoor said known hirani many years true metoo movement get derailed metoo movement always believe woman case need reserve judgment added hirani accused assistant worked sanju']\n"
          ]
        }
      ]
    },
    {
      "cell_type": "code",
      "source": [
        "clean_headlines = []\n",
        "# 전체 Summary 데이터에 대한 전처리 : 5분 이상 시간이 걸릴 수 있습니다. \n",
        "for s in data['headlines']:\n",
        "    clean_headlines.append(preprocess_sentence(s, False))\n",
        "\n",
        "print(\"Summary 전처리 후 결과: \", clean_headlines[:5])"
      ],
      "metadata": {
        "id": "heMP34nGJLZi",
        "colab": {
          "base_uri": "https://localhost:8080/"
        },
        "outputId": "9ceb650b-4077-403a-e73c-b7d2907c0918"
      },
      "execution_count": 12,
      "outputs": [
        {
          "output_type": "stream",
          "name": "stdout",
          "text": [
            "Summary 전처리 후 결과:  ['upgrad learner switches to career in ml al with salary hike', 'delhi techie wins free food from swiggy for one year on cred', 'new zealand end rohit sharma led india match winning streak', 'aegon life iterm insurance plan helps customers save tax', 'have known hirani for yrs what if metoo claims are not true sonam']\n"
          ]
        }
      ]
    },
    {
      "cell_type": "code",
      "source": [
        "# summarize를 사용하기 위한 data2 데이터프레임\n",
        "data2 = data.copy()"
      ],
      "metadata": {
        "id": "h-q88RG_UImb"
      },
      "execution_count": 13,
      "outputs": []
    },
    {
      "cell_type": "markdown",
      "source": [
        "## Step 3. 어텐션 메커니즘 사용하기 (추상적 요약)\n",
        "일반적인 seq2seq보다는 어텐션 메커니즘을 사용한 seq2seq를 사용하는 것이 더 나은 성능을 얻을 수 있어요. 실습 내용을 참고하여 어텐션 메커니즘을 사용한 seq2seq를 설계해 보세요."
      ],
      "metadata": {
        "id": "xGJtUKqBSWv-"
      }
    },
    {
      "cell_type": "code",
      "source": [
        "text_len = [len(s.split()) for s in data['text']]\n",
        "headlines_len = [len(s.split()) for s in data['headlines']]\n",
        "\n",
        "print('텍스트의 최소 길이 : {}'.format(np.min(text_len)))\n",
        "print('텍스트의 최대 길이 : {}'.format(np.max(text_len)))\n",
        "print('텍스트의 평균 길이 : {}'.format(np.mean(text_len)))\n",
        "print('요약의 최소 길이 : {}'.format(np.min(headlines_len)))\n",
        "print('요약의 최대 길이 : {}'.format(np.max(headlines_len)))\n",
        "print('요약의 평균 길이 : {}'.format(np.mean(headlines_len)))\n",
        "\n",
        "plt.subplot(1,2,1)\n",
        "plt.boxplot(text_len)\n",
        "plt.title('Text')\n",
        "plt.subplot(1,2,2)\n",
        "plt.boxplot(headlines_len)\n",
        "plt.title('Headline')\n",
        "plt.tight_layout()\n",
        "plt.show()\n",
        "\n",
        "plt.title('Text')\n",
        "plt.hist(text_len, bins = 40)\n",
        "plt.xlabel('length of samples')\n",
        "plt.ylabel('number of samples')\n",
        "plt.show()\n",
        "\n",
        "plt.title('Headline')\n",
        "plt.hist(headlines_len, bins = 40)\n",
        "plt.xlabel('length of samples')\n",
        "plt.ylabel('number of samples')\n",
        "plt.show()"
      ],
      "metadata": {
        "id": "JR9T0WnWSY7W",
        "colab": {
          "base_uri": "https://localhost:8080/",
          "height": 965
        },
        "outputId": "92d2bab0-4460-4e16-ff44-1c8d3826ca92"
      },
      "execution_count": 14,
      "outputs": [
        {
          "output_type": "stream",
          "name": "stdout",
          "text": [
            "텍스트의 최소 길이 : 1\n",
            "텍스트의 최대 길이 : 91\n",
            "텍스트의 평균 길이 : 58.23813542090281\n",
            "요약의 최소 길이 : 1\n",
            "요약의 최대 길이 : 18\n",
            "요약의 평균 길이 : 9.553660024400163\n"
          ]
        },
        {
          "output_type": "display_data",
          "data": {
            "text/plain": [
              "<Figure size 432x288 with 2 Axes>"
            ],
            "image/png": "[encoded data removed]"
          },
          "metadata": {
            "needs_background": "light"
          }
        },
        {
          "output_type": "display_data",
          "data": {
            "text/plain": [
              "<Figure size 432x288 with 1 Axes>"
            ],
            "image/png": "[encoded data removed]"
          },
          "metadata": {
            "needs_background": "light"
          }
        },
        {
          "output_type": "display_data",
          "data": {
            "text/plain": [
              "<Figure size 432x288 with 1 Axes>"
            ],
            "image/png": "[encoded data removed]"
          },
          "metadata": {
            "needs_background": "light"
          }
        }
      ]
    },
    {
      "cell_type": "code",
      "source": [
        "text_max_len = 60\n",
        "headlines_max_len = 11"
      ],
      "metadata": {
        "id": "L_yWbf8O-WhX"
      },
      "execution_count": 15,
      "outputs": []
    },
    {
      "cell_type": "code",
      "source": [
        "def below_threshold_len(max_len, nested_list):\n",
        "  cnt = 0\n",
        "  for s in nested_list:\n",
        "    if(len(s.split()) <= max_len):\n",
        "        cnt = cnt + 1\n",
        "  print('전체 샘플 중 길이가 %s 이하인 샘플의 비율: %s'%(max_len, (cnt / len(nested_list))))"
      ],
      "metadata": {
        "id": "LaHUklTg-d_1"
      },
      "execution_count": 16,
      "outputs": []
    },
    {
      "cell_type": "code",
      "source": [
        "below_threshold_len(text_max_len, data['text'])\n",
        "below_threshold_len(headlines_max_len,  data['headlines'])"
      ],
      "metadata": {
        "id": "SbRdhpOo-lzx",
        "colab": {
          "base_uri": "https://localhost:8080/"
        },
        "outputId": "0198dde5-01ff-4203-f3f0-a34f90364c04"
      },
      "execution_count": 17,
      "outputs": [
        {
          "output_type": "stream",
          "name": "stdout",
          "text": [
            "전체 샘플 중 길이가 60 이하인 샘플의 비율: 0.997448149654331\n",
            "전체 샘플 중 길이가 11 이하인 샘플의 비율: 0.9121492476616511\n"
          ]
        }
      ]
    },
    {
      "cell_type": "code",
      "source": [
        "data = data[data['text'].apply(lambda x: len(x.split()) <= text_max_len)]\n",
        "data = data[data['headlines'].apply(lambda x: len(x.split()) <= headlines_max_len)]\n",
        "print('전체 샘플수 :', (len(data)))"
      ],
      "metadata": {
        "id": "k_sa04EQ-pyY",
        "colab": {
          "base_uri": "https://localhost:8080/"
        },
        "outputId": "3563e32e-75f0-43bd-86a4-3a0b6f703a7a"
      },
      "execution_count": 18,
      "outputs": [
        {
          "output_type": "stream",
          "name": "stdout",
          "text": [
            "전체 샘플수 : 89498\n"
          ]
        }
      ]
    },
    {
      "cell_type": "code",
      "source": [
        "# 요약 데이터에는 시작 토큰과 종료 토큰을 추가한다.\n",
        "data['decoder_input'] = data['headlines'].apply(lambda x : 'sostoken '+ x)\n",
        "data['decoder_target'] = data['headlines'].apply(lambda x : x + ' eostoken')\n",
        "data.head()"
      ],
      "metadata": {
        "id": "tdA8-CpmAztG",
        "colab": {
          "base_uri": "https://localhost:8080/",
          "height": 337
        },
        "outputId": "08fcd948-74b2-443d-ef34-7d9f7106ae8f"
      },
      "execution_count": 19,
      "outputs": [
        {
          "output_type": "execute_result",
          "data": {
            "text/plain": [
              "                                            headlines  \\\n",
              "2   New Zealand end Rohit Sharma-led India's 12-ma...   \n",
              "3   Aegon life iTerm insurance plan helps customer...   \n",
              "5   Rahat Fateh Ali Khan denies getting notice for...   \n",
              "9   Cong wins Ramgarh bypoll in Rajasthan, takes t...   \n",
              "10  UP cousins fed human excreta for friendship wi...   \n",
              "\n",
              "                                                 text  \\\n",
              "2   New Zealand defeated India by 8 wickets in the...   \n",
              "3   With Aegon Life iTerm Insurance plan, customer...   \n",
              "5   Pakistani singer Rahat Fateh Ali Khan has deni...   \n",
              "9   Congress candidate Shafia Zubair won the Ramga...   \n",
              "10  Two minor cousins in Uttar Pradesh's Gorakhpur...   \n",
              "\n",
              "                                        decoder_input  \\\n",
              "2   sostoken New Zealand end Rohit Sharma-led Indi...   \n",
              "3   sostoken Aegon life iTerm insurance plan helps...   \n",
              "5   sostoken Rahat Fateh Ali Khan denies getting n...   \n",
              "9   sostoken Cong wins Ramgarh bypoll in Rajasthan...   \n",
              "10  sostoken UP cousins fed human excreta for frie...   \n",
              "\n",
              "                                       decoder_target  \n",
              "2   New Zealand end Rohit Sharma-led India's 12-ma...  \n",
              "3   Aegon life iTerm insurance plan helps customer...  \n",
              "5   Rahat Fateh Ali Khan denies getting notice for...  \n",
              "9   Cong wins Ramgarh bypoll in Rajasthan, takes t...  \n",
              "10  UP cousins fed human excreta for friendship wi...  "
            ],
            "text/html": [
              "\n",
              "  <div id=\"df-c30571cf-ab83-4d4b-bcf9-f24d82c3be6c\">\n",
              "    <div class=\"colab-df-container\">\n",
              "      <div>\n",
              "<style scoped>\n",
              "    .dataframe tbody tr th:only-of-type {\n",
              "        vertical-align: middle;\n",
              "    }\n",
              "\n",
              "    .dataframe tbody tr th {\n",
              "        vertical-align: top;\n",
              "    }\n",
              "\n",
              "    .dataframe thead th {\n",
              "        text-align: right;\n",
              "    }\n",
              "</style>\n",
              "<table border=\"1\" class=\"dataframe\">\n",
              "  <thead>\n",
              "    <tr style=\"text-align: right;\">\n",
              "      <th></th>\n",
              "      <th>headlines</th>\n",
              "      <th>text</th>\n",
              "      <th>decoder_input</th>\n",
              "      <th>decoder_target</th>\n",
              "    </tr>\n",
              "  </thead>\n",
              "  <tbody>\n",
              "    <tr>\n",
              "      <th>2</th>\n",
              "      <td>New Zealand end Rohit Sharma-led India's 12-ma...</td>\n",
              "      <td>New Zealand defeated India by 8 wickets in the...</td>\n",
              "      <td>sostoken New Zealand end Rohit Sharma-led Indi...</td>\n",
              "      <td>New Zealand end Rohit Sharma-led India's 12-ma...</td>\n",
              "    </tr>\n",
              "    <tr>\n",
              "      <th>3</th>\n",
              "      <td>Aegon life iTerm insurance plan helps customer...</td>\n",
              "      <td>With Aegon Life iTerm Insurance plan, customer...</td>\n",
              "      <td>sostoken Aegon life iTerm insurance plan helps...</td>\n",
              "      <td>Aegon life iTerm insurance plan helps customer...</td>\n",
              "    </tr>\n",
              "    <tr>\n",
              "      <th>5</th>\n",
              "      <td>Rahat Fateh Ali Khan denies getting notice for...</td>\n",
              "      <td>Pakistani singer Rahat Fateh Ali Khan has deni...</td>\n",
              "      <td>sostoken Rahat Fateh Ali Khan denies getting n...</td>\n",
              "      <td>Rahat Fateh Ali Khan denies getting notice for...</td>\n",
              "    </tr>\n",
              "    <tr>\n",
              "      <th>9</th>\n",
              "      <td>Cong wins Ramgarh bypoll in Rajasthan, takes t...</td>\n",
              "      <td>Congress candidate Shafia Zubair won the Ramga...</td>\n",
              "      <td>sostoken Cong wins Ramgarh bypoll in Rajasthan...</td>\n",
              "      <td>Cong wins Ramgarh bypoll in Rajasthan, takes t...</td>\n",
              "    </tr>\n",
              "    <tr>\n",
              "      <th>10</th>\n",
              "      <td>UP cousins fed human excreta for friendship wi...</td>\n",
              "      <td>Two minor cousins in Uttar Pradesh's Gorakhpur...</td>\n",
              "      <td>sostoken UP cousins fed human excreta for frie...</td>\n",
              "      <td>UP cousins fed human excreta for friendship wi...</td>\n",
              "    </tr>\n",
              "  </tbody>\n",
              "</table>\n",
              "</div>\n",
              "      <button class=\"colab-df-convert\" onclick=\"convertToInteractive('df-c30571cf-ab83-4d4b-bcf9-f24d82c3be6c')\"\n",
              "              title=\"Convert this dataframe to an interactive table.\"\n",
              "              style=\"display:none;\">\n",
              "        \n",
              "  <svg xmlns=\"http://www.w3.org/2000/svg\" height=\"24px\"viewBox=\"0 0 24 24\"\n",
              "       width=\"24px\">\n",
              "    <path d=\"M0 0h24v24H0V0z\" fill=\"none\"/>\n",
              "    <path d=\"M18.56 5.44l.94 2.06.94-2.06 2.06-.94-2.06-.94-.94-2.06-.94 2.06-2.06.94zm-11 1L8.5 8.5l.94-2.06 2.06-.94-2.06-.94L8.5 2.5l-.94 2.06-2.06.94zm10 10l.94 2.06.94-2.06 2.06-.94-2.06-.94-.94-2.06-.94 2.06-2.06.94z\"/><path d=\"M17.41 7.96l-1.37-1.37c-.4-.4-.92-.59-1.43-.59-.52 0-1.04.2-1.43.59L10.3 9.45l-7.72 7.72c-.78.78-.78 2.05 0 2.83L4 21.41c.39.39.9.59 1.41.59.51 0 1.02-.2 1.41-.59l7.78-7.78 2.81-2.81c.8-.78.8-2.07 0-2.86zM5.41 20L4 18.59l7.72-7.72 1.47 1.35L5.41 20z\"/>\n",
              "  </svg>\n",
              "      </button>\n",
              "      \n",
              "  <style>\n",
              "    .colab-df-container {\n",
              "      display:flex;\n",
              "      flex-wrap:wrap;\n",
              "      gap: 12px;\n",
              "    }\n",
              "\n",
              "    .colab-df-convert {\n",
              "      background-color: #E8F0FE;\n",
              "      border: none;\n",
              "      border-radius: 50%;\n",
              "      cursor: pointer;\n",
              "      display: none;\n",
              "      fill: #1967D2;\n",
              "      height: 32px;\n",
              "      padding: 0 0 0 0;\n",
              "      width: 32px;\n",
              "    }\n",
              "\n",
              "    .colab-df-convert:hover {\n",
              "      background-color: #E2EBFA;\n",
              "      box-shadow: 0px 1px 2px rgba(60, 64, 67, 0.3), 0px 1px 3px 1px rgba(60, 64, 67, 0.15);\n",
              "      fill: #174EA6;\n",
              "    }\n",
              "\n",
              "    [theme=dark] .colab-df-convert {\n",
              "      background-color: #3B4455;\n",
              "      fill: #D2E3FC;\n",
              "    }\n",
              "\n",
              "    [theme=dark] .colab-df-convert:hover {\n",
              "      background-color: #434B5C;\n",
              "      box-shadow: 0px 1px 3px 1px rgba(0, 0, 0, 0.15);\n",
              "      filter: drop-shadow(0px 1px 2px rgba(0, 0, 0, 0.3));\n",
              "      fill: #FFFFFF;\n",
              "    }\n",
              "  </style>\n",
              "\n",
              "      <script>\n",
              "        const buttonEl =\n",
              "          document.querySelector('#df-c30571cf-ab83-4d4b-bcf9-f24d82c3be6c button.colab-df-convert');\n",
              "        buttonEl.style.display =\n",
              "          google.colab.kernel.accessAllowed ? 'block' : 'none';\n",
              "\n",
              "        async function convertToInteractive(key) {\n",
              "          const element = document.querySelector('#df-c30571cf-ab83-4d4b-bcf9-f24d82c3be6c');\n",
              "          const dataTable =\n",
              "            await google.colab.kernel.invokeFunction('convertToInteractive',\n",
              "                                                     [key], {});\n",
              "          if (!dataTable) return;\n",
              "\n",
              "          const docLinkHtml = 'Like what you see? Visit the ' +\n",
              "            '<a target=\"_blank\" href=https://colab.research.google.com/notebooks/data_table.ipynb>data table notebook</a>'\n",
              "            + ' to learn more about interactive tables.';\n",
              "          element.innerHTML = '';\n",
              "          dataTable['output_type'] = 'display_data';\n",
              "          await google.colab.output.renderOutput(dataTable, element);\n",
              "          const docLink = document.createElement('div');\n",
              "          docLink.innerHTML = docLinkHtml;\n",
              "          element.appendChild(docLink);\n",
              "        }\n",
              "      </script>\n",
              "    </div>\n",
              "  </div>\n",
              "  "
            ]
          },
          "metadata": {},
          "execution_count": 19
        }
      ]
    },
    {
      "cell_type": "code",
      "source": [
        "encoder_input = np.array(data['text']) # 인코더의 입력\n",
        "decoder_input = np.array(data['decoder_input']) # 디코더의 입력\n",
        "decoder_target = np.array(data['decoder_target']) # 디코더의 레이블"
      ],
      "metadata": {
        "id": "HLLdrIVoA6nn"
      },
      "execution_count": 20,
      "outputs": []
    },
    {
      "cell_type": "code",
      "source": [
        "indices = np.arange(encoder_input.shape[0])\n",
        "np.random.shuffle(indices)\n",
        "print(indices)"
      ],
      "metadata": {
        "id": "BwpOZC70BBtZ",
        "colab": {
          "base_uri": "https://localhost:8080/"
        },
        "outputId": "0986d67c-8b26-4bfe-bbe7-99d67d1d7e98"
      },
      "execution_count": 21,
      "outputs": [
        {
          "output_type": "stream",
          "name": "stdout",
          "text": [
            "[26854 45794  4178 ... 52135 63586 28816]\n"
          ]
        }
      ]
    },
    {
      "cell_type": "code",
      "source": [
        "encoder_input = encoder_input[indices]\n",
        "decoder_input = decoder_input[indices]\n",
        "decoder_target = decoder_target[indices]"
      ],
      "metadata": {
        "id": "U5iE3JVBBElU"
      },
      "execution_count": 22,
      "outputs": []
    },
    {
      "cell_type": "code",
      "source": [
        "n_of_val = int(len(encoder_input)*0.2)\n",
        "print('테스트 데이터의 수 :', n_of_val)"
      ],
      "metadata": {
        "id": "WrzmGrNJBGNc",
        "colab": {
          "base_uri": "https://localhost:8080/"
        },
        "outputId": "0f1deccf-2420-4ccb-f327-b5eeef6efb89"
      },
      "execution_count": 23,
      "outputs": [
        {
          "output_type": "stream",
          "name": "stdout",
          "text": [
            "테스트 데이터의 수 : 17899\n"
          ]
        }
      ]
    },
    {
      "cell_type": "code",
      "source": [
        "encoder_input_train = encoder_input[:-n_of_val]\n",
        "decoder_input_train = decoder_input[:-n_of_val]\n",
        "decoder_target_train = decoder_target[:-n_of_val]\n",
        "\n",
        "encoder_input_test = encoder_input[-n_of_val:]\n",
        "decoder_input_test = decoder_input[-n_of_val:]\n",
        "decoder_target_test = decoder_target[-n_of_val:]\n",
        "\n",
        "print('훈련 데이터의 개수 :', len(encoder_input_train))\n",
        "print('훈련 레이블의 개수 :', len(decoder_input_train))\n",
        "print('테스트 데이터의 개수 :', len(encoder_input_test))\n",
        "print('테스트 레이블의 개수 :', len(decoder_input_test))"
      ],
      "metadata": {
        "id": "erFFPN-KBIAh",
        "colab": {
          "base_uri": "https://localhost:8080/"
        },
        "outputId": "9a5e593d-0437-400f-98be-8e71caa72e9b"
      },
      "execution_count": 24,
      "outputs": [
        {
          "output_type": "stream",
          "name": "stdout",
          "text": [
            "훈련 데이터의 개수 : 71599\n",
            "훈련 레이블의 개수 : 71599\n",
            "테스트 데이터의 개수 : 17899\n",
            "테스트 레이블의 개수 : 17899\n"
          ]
        }
      ]
    },
    {
      "cell_type": "code",
      "source": [
        "src_tokenizer = Tokenizer() # 토크나이저 정의\n",
        "src_tokenizer.fit_on_texts(encoder_input_train) # 입력된 데이터로부터 단어 집합 생성"
      ],
      "metadata": {
        "id": "69T6FmbvBKFs"
      },
      "execution_count": 25,
      "outputs": []
    },
    {
      "cell_type": "code",
      "source": [
        "threshold = 7\n",
        "total_cnt = len(src_tokenizer.word_index) # 단어의 수\n",
        "rare_cnt = 0 # 등장 빈도수가 threshold보다 작은 단어의 개수를 카운트\n",
        "total_freq = 0 # 훈련 데이터의 전체 단어 빈도수 총 합\n",
        "rare_freq = 0 # 등장 빈도수가 threshold보다 작은 단어의 등장 빈도수의 총 합\n",
        "\n",
        "# 단어와 빈도수의 쌍(pair)을 key와 value로 받는다.\n",
        "for key, value in src_tokenizer.word_counts.items():\n",
        "    total_freq = total_freq + value\n",
        "\n",
        "    # 단어의 등장 빈도수가 threshold보다 작으면\n",
        "    if(value < threshold):\n",
        "        rare_cnt = rare_cnt + 1\n",
        "        rare_freq = rare_freq + value\n",
        "\n",
        "print('단어 집합(vocabulary)의 크기 :', total_cnt)\n",
        "print('등장 빈도가 %s번 이하인 희귀 단어의 수: %s'%(threshold - 1, rare_cnt))\n",
        "print('단어 집합에서 희귀 단어를 제외시킬 경우의 단어 집합의 크기 %s'%(total_cnt - rare_cnt))\n",
        "print(\"단어 집합에서 희귀 단어의 비율:\", (rare_cnt / total_cnt)*100)\n",
        "print(\"전체 등장 빈도에서 희귀 단어 등장 빈도 비율:\", (rare_freq / total_freq)*100)"
      ],
      "metadata": {
        "id": "Bjb_d4NwBMsK",
        "colab": {
          "base_uri": "https://localhost:8080/"
        },
        "outputId": "23d354b8-48cf-48bc-b8b2-d931489936be"
      },
      "execution_count": 26,
      "outputs": [
        {
          "output_type": "stream",
          "name": "stdout",
          "text": [
            "단어 집합(vocabulary)의 크기 : 88257\n",
            "등장 빈도가 6번 이하인 희귀 단어의 수: 64526\n",
            "단어 집합에서 희귀 단어를 제외시킬 경우의 단어 집합의 크기 23731\n",
            "단어 집합에서 희귀 단어의 비율: 73.11148124228106\n",
            "전체 등장 빈도에서 희귀 단어 등장 빈도 비율: 2.913626653992877\n"
          ]
        }
      ]
    },
    {
      "cell_type": "code",
      "source": [
        "src_vocab = total_cnt-rare_cnt\n",
        "src_tokenizer = Tokenizer(num_words=src_vocab) # 단어 집합의 크기를 80,000으로 제한\n",
        "src_tokenizer.fit_on_texts(encoder_input_train) # 단어 집합 재생성"
      ],
      "metadata": {
        "id": "I3zLc257BPwf"
      },
      "execution_count": 27,
      "outputs": []
    },
    {
      "cell_type": "code",
      "source": [
        "# 텍스트 시퀀스를 정수 시퀀스로 변환\n",
        "encoder_input_train = src_tokenizer.texts_to_sequences(encoder_input_train) \n",
        "encoder_input_test = src_tokenizer.texts_to_sequences(encoder_input_test)\n",
        "\n",
        "# 잘 진행되었는지 샘플 출력\n",
        "print(encoder_input_train[:3])"
      ],
      "metadata": {
        "id": "kkK_Mwk5BUgK",
        "colab": {
          "base_uri": "https://localhost:8080/"
        },
        "outputId": "b8a37436-45ea-42a8-cda5-04c18cbb69eb"
      },
      "execution_count": 28,
      "outputs": [
        {
          "output_type": "stream",
          "name": "stdout",
          "text": [
            "[[616, 116, 18430, 28, 315, 666, 2, 17, 717, 4, 1594, 3185, 273, 22, 17, 1150, 4, 164, 10, 45, 26, 3844, 32, 6, 1, 288, 13, 16, 32, 45, 454, 1157, 907, 11, 3185, 6, 45, 26, 380, 37, 71, 1888, 33, 18430, 43, 589, 12, 1321, 14, 200, 6, 1002, 982, 139, 17, 328, 512], [684, 57, 3527, 2621, 10, 1, 2657, 2, 1391, 681, 1388, 16769, 22, 1, 9161, 627, 6, 627, 1538, 8, 29, 1663, 2, 834, 245, 190, 2, 2374, 2121, 1, 88, 2657, 9, 1, 5097, 5, 8028, 76, 3727, 14, 1, 387, 12, 544, 824, 4, 552, 751, 50, 27, 363, 4, 3, 6291, 22, 1, 9161, 627, 1846], [40, 59, 193, 128, 10, 4, 3, 498, 7, 120, 11, 1177, 870, 121, 2054, 2, 1, 1020, 69, 1664, 175, 125, 70, 105, 575, 6222, 661, 1628, 325, 19, 15, 591, 1, 3670, 5, 70, 369, 1871, 18, 1347, 496, 11, 1401, 8, 29, 1015, 4, 1, 142, 128, 88, 905, 1401, 13, 93, 21, 871, 1, 40]]\n"
          ]
        }
      ]
    },
    {
      "cell_type": "code",
      "source": [
        "tar_tokenizer = Tokenizer()\n",
        "tar_tokenizer.fit_on_texts(decoder_input_train)"
      ],
      "metadata": {
        "id": "mNz7ulaDBWo9"
      },
      "execution_count": 29,
      "outputs": []
    },
    {
      "cell_type": "code",
      "source": [
        "threshold = 6\n",
        "total_cnt = len(tar_tokenizer.word_index) # 단어의 수\n",
        "rare_cnt = 0 # 등장 빈도수가 threshold보다 작은 단어의 개수를 카운트\n",
        "total_freq = 0 # 훈련 데이터의 전체 단어 빈도수 총 합\n",
        "rare_freq = 0 # 등장 빈도수가 threshold보다 작은 단어의 등장 빈도수의 총 합\n",
        "\n",
        "# 단어와 빈도수의 쌍(pair)을 key와 value로 받는다.\n",
        "for key, value in tar_tokenizer.word_counts.items():\n",
        "    total_freq = total_freq + value\n",
        "\n",
        "    # 단어의 등장 빈도수가 threshold보다 작으면\n",
        "    if(value < threshold):\n",
        "        rare_cnt = rare_cnt + 1\n",
        "        rare_freq = rare_freq + value\n",
        "\n",
        "print('단어 집합(vocabulary)의 크기 :', total_cnt)\n",
        "print('등장 빈도가 %s번 이하인 희귀 단어의 수: %s'%(threshold - 1, rare_cnt))\n",
        "print('단어 집합에서 희귀 단어를 제외시킬 경우의 단어 집합의 크기 %s'%(total_cnt - rare_cnt))\n",
        "print(\"단어 집합에서 희귀 단어의 비율:\", (rare_cnt / total_cnt)*100)\n",
        "print(\"전체 등장 빈도에서 희귀 단어 등장 빈도 비율:\", (rare_freq / total_freq)*100)"
      ],
      "metadata": {
        "id": "85TlvFO5BZ3h",
        "colab": {
          "base_uri": "https://localhost:8080/"
        },
        "outputId": "b8ce6e18-9fed-4af4-c42c-ce636aaba88e"
      },
      "execution_count": 30,
      "outputs": [
        {
          "output_type": "stream",
          "name": "stdout",
          "text": [
            "단어 집합(vocabulary)의 크기 : 39573\n",
            "등장 빈도가 5번 이하인 희귀 단어의 수: 28736\n",
            "단어 집합에서 희귀 단어를 제외시킬 경우의 단어 집합의 크기 10837\n",
            "단어 집합에서 희귀 단어의 비율: 72.61516690672933\n",
            "전체 등장 빈도에서 희귀 단어 등장 빈도 비율: 6.726070633927462\n"
          ]
        }
      ]
    },
    {
      "cell_type": "code",
      "source": [
        "tar_vocab = total_cnt-rare_cnt\n",
        "tar_tokenizer = Tokenizer(num_words=tar_vocab) \n",
        "tar_tokenizer.fit_on_texts(decoder_input_train)\n",
        "tar_tokenizer.fit_on_texts(decoder_target_train)\n",
        "\n",
        "# 텍스트 시퀀스를 정수 시퀀스로 변환\n",
        "decoder_input_train = tar_tokenizer.texts_to_sequences(decoder_input_train) \n",
        "decoder_target_train = tar_tokenizer.texts_to_sequences(decoder_target_train)\n",
        "decoder_input_test = tar_tokenizer.texts_to_sequences(decoder_input_test)\n",
        "decoder_target_test = tar_tokenizer.texts_to_sequences(decoder_target_test)\n",
        "\n",
        "# 잘 변환되었는지 확인\n",
        "print('input')\n",
        "print('input ',decoder_input_train[:5])\n",
        "print('target')\n",
        "print('decoder ',decoder_target_train[:5])"
      ],
      "metadata": {
        "id": "AQMfm3TIBaV8",
        "colab": {
          "base_uri": "https://localhost:8080/"
        },
        "outputId": "bc075e41-41b0-42d2-9aaa-9a072c5efc27"
      },
      "execution_count": 31,
      "outputs": [
        {
          "output_type": "stream",
          "name": "stdout",
          "text": [
            "input\n",
            "input  [[1, 32, 59, 4472, 90, 7, 3095, 1634], [1, 125, 7311, 3795, 1067, 923, 2287], [1, 1768, 1878, 153, 2621, 3, 383, 155, 116, 6171, 5160, 34], [1, 1797, 372, 1925, 9025, 4, 632, 223, 1657, 287], [1, 215, 633, 3030, 6861, 622, 8330, 3796]]\n",
            "target\n",
            "decoder  [[32, 59, 4472, 90, 7, 3095, 1634, 2], [125, 7311, 3795, 1067, 923, 2287, 2], [1768, 1878, 153, 2621, 3, 383, 155, 116, 6171, 5160, 34, 2], [1797, 372, 1925, 9025, 4, 632, 223, 1657, 287, 2], [215, 633, 3030, 6861, 622, 8330, 3796, 2]]\n"
          ]
        }
      ]
    },
    {
      "cell_type": "code",
      "source": [
        "drop_train = [index for index, sentence in enumerate(decoder_input_train) if len(sentence) == 1]\n",
        "drop_test = [index for index, sentence in enumerate(decoder_input_test) if len(sentence) == 1]\n",
        "\n",
        "print('삭제할 훈련 데이터의 개수 :', len(drop_train))\n",
        "print('삭제할 테스트 데이터의 개수 :', len(drop_test))\n",
        "\n",
        "encoder_input_train = [sentence for index, sentence in enumerate(encoder_input_train) if index not in drop_train]\n",
        "decoder_input_train = [sentence for index, sentence in enumerate(decoder_input_train) if index not in drop_train]\n",
        "decoder_target_train = [sentence for index, sentence in enumerate(decoder_target_train) if index not in drop_train]\n",
        "\n",
        "encoder_input_test = [sentence for index, sentence in enumerate(encoder_input_test) if index not in drop_test]\n",
        "decoder_input_test = [sentence for index, sentence in enumerate(decoder_input_test) if index not in drop_test]\n",
        "decoder_target_test = [sentence for index, sentence in enumerate(decoder_target_test) if index not in drop_test]\n",
        "\n",
        "print('훈련 데이터의 개수 :', len(encoder_input_train))\n",
        "print('훈련 레이블의 개수 :', len(decoder_input_train))\n",
        "print('테스트 데이터의 개수 :', len(encoder_input_test))\n",
        "print('테스트 레이블의 개수 :', len(decoder_input_test))"
      ],
      "metadata": {
        "id": "28iYtQaUBesP",
        "colab": {
          "base_uri": "https://localhost:8080/"
        },
        "outputId": "bb13a6b8-548e-4523-d443-d48477cb709c"
      },
      "execution_count": 32,
      "outputs": [
        {
          "output_type": "stream",
          "name": "stdout",
          "text": [
            "삭제할 훈련 데이터의 개수 : 0\n",
            "삭제할 테스트 데이터의 개수 : 0\n",
            "훈련 데이터의 개수 : 71599\n",
            "훈련 레이블의 개수 : 71599\n",
            "테스트 데이터의 개수 : 17899\n",
            "테스트 레이블의 개수 : 17899\n"
          ]
        }
      ]
    },
    {
      "cell_type": "code",
      "source": [
        "encoder_input_train = pad_sequences(encoder_input_train, maxlen=text_max_len, padding='post')\n",
        "encoder_input_test = pad_sequences(encoder_input_test, maxlen=text_max_len, padding='post')\n",
        "decoder_input_train = pad_sequences(decoder_input_train, maxlen=headlines_max_len, padding='post')\n",
        "decoder_target_train = pad_sequences(decoder_target_train, maxlen=headlines_max_len, padding='post')\n",
        "decoder_input_test = pad_sequences(decoder_input_test, maxlen=headlines_max_len, padding='post')\n",
        "decoder_target_test = pad_sequences(decoder_target_test, maxlen=headlines_max_len, padding='post')"
      ],
      "metadata": {
        "id": "jhb7RimJBgyf"
      },
      "execution_count": 33,
      "outputs": []
    },
    {
      "cell_type": "code",
      "source": [
        "# 인코더 설계 시작\n",
        "embedding_dim = 128\n",
        "hidden_size = 256\n",
        "\n",
        "# 인코더\n",
        "encoder_inputs = Input(shape=(text_max_len,))\n",
        "\n",
        "# 인코더의 임베딩 층\n",
        "enc_emb = Embedding(src_vocab, embedding_dim)(encoder_inputs)\n",
        "\n",
        "# 인코더의 LSTM 1\n",
        "# encoder_lstm1 = LSTM(hidden_size, return_sequences=True, return_state=True ,dropout = 0.4, recurrent_dropout = 0.4)\n",
        "encoder_lstm1 = LSTM(hidden_size, return_sequences=True, return_state=True ,dropout = 0.4)\n",
        "encoder_output1, state_h1, state_c1 = encoder_lstm1(enc_emb)\n",
        "\n",
        "# 인코더의 LSTM 2\n",
        "# encoder_lstm2 = LSTM(hidden_size, return_sequences=True, return_state=True, dropout=0.4, recurrent_dropout=0.4)\n",
        "encoder_lstm2 = LSTM(hidden_size, return_sequences=True, return_state=True, dropout=0.4)\n",
        "encoder_output2, state_h2, state_c2 = encoder_lstm2(encoder_output1)\n",
        "\n",
        "# 인코더의 LSTM 3\n",
        "# encoder_lstm3 = LSTM(hidden_size, return_state=True, return_sequences=True, dropout=0.4, recurrent_dropout=0.4)\n",
        "encoder_lstm3 = LSTM(hidden_size, return_state=True, return_sequences=True, dropout=0.4)\n",
        "encoder_outputs, state_h, state_c= encoder_lstm3(encoder_output2)"
      ],
      "metadata": {
        "id": "9VwssMp5BrNS"
      },
      "execution_count": 34,
      "outputs": []
    },
    {
      "cell_type": "code",
      "source": [
        "# 디코더 설계\n",
        "decoder_inputs = Input(shape=(None,))\n",
        "\n",
        "# 디코더의 임베딩 층\n",
        "dec_emb_layer = Embedding(tar_vocab, embedding_dim)\n",
        "dec_emb = dec_emb_layer(decoder_inputs)\n",
        "\n",
        "# 디코더의 LSTM\n",
        "# decoder_lstm = LSTM(hidden_size, return_sequences=True, return_state=True, dropout=0.4, recurrent_dropout=0.2)\n",
        "decoder_lstm = LSTM(hidden_size, return_sequences=True, return_state=True, dropout=0.4)\n",
        "decoder_outputs, _, _ = decoder_lstm(dec_emb, initial_state=[state_h, state_c])"
      ],
      "metadata": {
        "id": "OEm-ILBfBvo_"
      },
      "execution_count": 35,
      "outputs": []
    },
    {
      "cell_type": "code",
      "source": [
        "# 디코더의 출력층\n",
        "decoder_softmax_layer = Dense(tar_vocab, activation='softmax')\n",
        "decoder_softmax_outputs = decoder_softmax_layer(decoder_outputs) \n",
        "\n",
        "# 모델 정의\n",
        "model = Model([encoder_inputs, decoder_inputs], decoder_softmax_outputs)\n",
        "model.summary()"
      ],
      "metadata": {
        "id": "wEfisoMmByzd",
        "colab": {
          "base_uri": "https://localhost:8080/"
        },
        "outputId": "36c19eb2-e215-49d5-d156-3a796adddb64"
      },
      "execution_count": 36,
      "outputs": [
        {
          "output_type": "stream",
          "name": "stdout",
          "text": [
            "Model: \"model\"\n",
            "__________________________________________________________________________________________________\n",
            " Layer (type)                   Output Shape         Param #     Connected to                     \n",
            "==================================================================================================\n",
            " input_1 (InputLayer)           [(None, 60)]         0           []                               \n",
            "                                                                                                  \n",
            " embedding (Embedding)          (None, 60, 128)      3037568     ['input_1[0][0]']                \n",
            "                                                                                                  \n",
            " lstm (LSTM)                    [(None, 60, 256),    394240      ['embedding[0][0]']              \n",
            "                                 (None, 256),                                                     \n",
            "                                 (None, 256)]                                                     \n",
            "                                                                                                  \n",
            " input_2 (InputLayer)           [(None, None)]       0           []                               \n",
            "                                                                                                  \n",
            " lstm_1 (LSTM)                  [(None, 60, 256),    525312      ['lstm[0][0]']                   \n",
            "                                 (None, 256),                                                     \n",
            "                                 (None, 256)]                                                     \n",
            "                                                                                                  \n",
            " embedding_1 (Embedding)        (None, None, 128)    1387136     ['input_2[0][0]']                \n",
            "                                                                                                  \n",
            " lstm_2 (LSTM)                  [(None, 60, 256),    525312      ['lstm_1[0][0]']                 \n",
            "                                 (None, 256),                                                     \n",
            "                                 (None, 256)]                                                     \n",
            "                                                                                                  \n",
            " lstm_3 (LSTM)                  [(None, None, 256),  394240      ['embedding_1[0][0]',            \n",
            "                                 (None, 256),                     'lstm_2[0][1]',                 \n",
            "                                 (None, 256)]                     'lstm_2[0][2]']                 \n",
            "                                                                                                  \n",
            " dense (Dense)                  (None, None, 10837)  2785109     ['lstm_3[0][0]']                 \n",
            "                                                                                                  \n",
            "==================================================================================================\n",
            "Total params: 9,048,917\n",
            "Trainable params: 9,048,917\n",
            "Non-trainable params: 0\n",
            "__________________________________________________________________________________________________\n"
          ]
        }
      ]
    },
    {
      "cell_type": "code",
      "source": [
        "# 어텐션 층(어텐션 함수)\n",
        "attn_layer = AdditiveAttention(name='attention_layer')\n",
        "\n",
        "# 인코더와 디코더의 모든 time step의 hidden state를 어텐션 층에 전달하고 결과를 리턴\n",
        "attn_out = attn_layer([decoder_outputs, encoder_outputs])\n",
        "\n",
        "\n",
        "# 어텐션의 결과와 디코더의 hidden state들을 연결\n",
        "decoder_concat_input = Concatenate(axis=-1, name='concat_layer')([decoder_outputs, attn_out])\n",
        "\n",
        "# 디코더의 출력층\n",
        "decoder_softmax_layer = Dense(tar_vocab, activation='softmax')\n",
        "decoder_softmax_outputs = decoder_softmax_layer(decoder_concat_input)\n",
        "\n",
        "# 모델 정의\n",
        "model = Model([encoder_inputs, decoder_inputs], decoder_softmax_outputs)\n",
        "model.summary()"
      ],
      "metadata": {
        "id": "_iw7deg7B0hl",
        "colab": {
          "base_uri": "https://localhost:8080/"
        },
        "outputId": "d9c66471-e97e-4b51-96ec-1e2e80c3af5e"
      },
      "execution_count": 37,
      "outputs": [
        {
          "output_type": "stream",
          "name": "stdout",
          "text": [
            "Model: \"model_1\"\n",
            "__________________________________________________________________________________________________\n",
            " Layer (type)                   Output Shape         Param #     Connected to                     \n",
            "==================================================================================================\n",
            " input_1 (InputLayer)           [(None, 60)]         0           []                               \n",
            "                                                                                                  \n",
            " embedding (Embedding)          (None, 60, 128)      3037568     ['input_1[0][0]']                \n",
            "                                                                                                  \n",
            " lstm (LSTM)                    [(None, 60, 256),    394240      ['embedding[0][0]']              \n",
            "                                 (None, 256),                                                     \n",
            "                                 (None, 256)]                                                     \n",
            "                                                                                                  \n",
            " input_2 (InputLayer)           [(None, None)]       0           []                               \n",
            "                                                                                                  \n",
            " lstm_1 (LSTM)                  [(None, 60, 256),    525312      ['lstm[0][0]']                   \n",
            "                                 (None, 256),                                                     \n",
            "                                 (None, 256)]                                                     \n",
            "                                                                                                  \n",
            " embedding_1 (Embedding)        (None, None, 128)    1387136     ['input_2[0][0]']                \n",
            "                                                                                                  \n",
            " lstm_2 (LSTM)                  [(None, 60, 256),    525312      ['lstm_1[0][0]']                 \n",
            "                                 (None, 256),                                                     \n",
            "                                 (None, 256)]                                                     \n",
            "                                                                                                  \n",
            " lstm_3 (LSTM)                  [(None, None, 256),  394240      ['embedding_1[0][0]',            \n",
            "                                 (None, 256),                     'lstm_2[0][1]',                 \n",
            "                                 (None, 256)]                     'lstm_2[0][2]']                 \n",
            "                                                                                                  \n",
            " attention_layer (AdditiveAtten  (None, None, 256)   256         ['lstm_3[0][0]',                 \n",
            " tion)                                                            'lstm_2[0][0]']                 \n",
            "                                                                                                  \n",
            " concat_layer (Concatenate)     (None, None, 512)    0           ['lstm_3[0][0]',                 \n",
            "                                                                  'attention_layer[0][0]']        \n",
            "                                                                                                  \n",
            " dense_1 (Dense)                (None, None, 10837)  5559381     ['concat_layer[0][0]']           \n",
            "                                                                                                  \n",
            "==================================================================================================\n",
            "Total params: 11,823,445\n",
            "Trainable params: 11,823,445\n",
            "Non-trainable params: 0\n",
            "__________________________________________________________________________________________________\n"
          ]
        }
      ]
    },
    {
      "cell_type": "code",
      "source": [
        "model.compile(optimizer='rmsprop', loss='sparse_categorical_crossentropy')\n",
        "es = EarlyStopping(monitor='val_loss', patience=2, verbose=1)\n",
        "history = model.fit(x=[encoder_input_train, decoder_input_train], y=decoder_target_train, \\\n",
        "                    validation_data=([encoder_input_test, decoder_input_test], decoder_target_test), \\\n",
        "                    batch_size=256, callbacks=[es], epochs=50)"
      ],
      "metadata": {
        "id": "CrzsuQ4nB7kM",
        "colab": {
          "base_uri": "https://localhost:8080/"
        },
        "outputId": "20ca3e1e-a151-4f3a-ca6d-09f4c8c41136"
      },
      "execution_count": 38,
      "outputs": [
        {
          "output_type": "stream",
          "name": "stdout",
          "text": [
            "Epoch 1/50\n",
            "280/280 [==============================] - 45s 117ms/step - loss: 6.2281 - val_loss: 5.8381\n",
            "Epoch 2/50\n",
            "280/280 [==============================] - 32s 115ms/step - loss: 5.6875 - val_loss: 5.4567\n",
            "Epoch 3/50\n",
            "280/280 [==============================] - 34s 122ms/step - loss: 5.2993 - val_loss: 5.1100\n",
            "Epoch 4/50\n",
            "280/280 [==============================] - 34s 123ms/step - loss: 4.9993 - val_loss: 4.9030\n",
            "Epoch 5/50\n",
            "280/280 [==============================] - 34s 122ms/step - loss: 4.7658 - val_loss: 4.7331\n",
            "Epoch 6/50\n",
            "280/280 [==============================] - 34s 122ms/step - loss: 4.5685 - val_loss: 4.6159\n",
            "Epoch 7/50\n",
            "280/280 [==============================] - 34s 122ms/step - loss: 4.4018 - val_loss: 4.5082\n",
            "Epoch 8/50\n",
            "280/280 [==============================] - 34s 122ms/step - loss: 4.2529 - val_loss: 4.4325\n",
            "Epoch 9/50\n",
            "280/280 [==============================] - 34s 122ms/step - loss: 4.1240 - val_loss: 4.3618\n",
            "Epoch 10/50\n",
            "280/280 [==============================] - 34s 122ms/step - loss: 4.0075 - val_loss: 4.3197\n",
            "Epoch 11/50\n",
            "280/280 [==============================] - 34s 122ms/step - loss: 3.9004 - val_loss: 4.2610\n",
            "Epoch 12/50\n",
            "280/280 [==============================] - 34s 122ms/step - loss: 3.8023 - val_loss: 4.2246\n",
            "Epoch 13/50\n",
            "280/280 [==============================] - 34s 122ms/step - loss: 3.7144 - val_loss: 4.1978\n",
            "Epoch 14/50\n",
            "280/280 [==============================] - 34s 122ms/step - loss: 3.6353 - val_loss: 4.1687\n",
            "Epoch 15/50\n",
            "280/280 [==============================] - 34s 122ms/step - loss: 3.5605 - val_loss: 4.1445\n",
            "Epoch 16/50\n",
            "280/280 [==============================] - 34s 122ms/step - loss: 3.4913 - val_loss: 4.1305\n",
            "Epoch 17/50\n",
            "280/280 [==============================] - 34s 122ms/step - loss: 3.4258 - val_loss: 4.1207\n",
            "Epoch 18/50\n",
            "280/280 [==============================] - 34s 122ms/step - loss: 3.3584 - val_loss: 4.1114\n",
            "Epoch 19/50\n",
            "280/280 [==============================] - 34s 122ms/step - loss: 3.3020 - val_loss: 4.0988\n",
            "Epoch 20/50\n",
            "280/280 [==============================] - 34s 122ms/step - loss: 3.2431 - val_loss: 4.0967\n",
            "Epoch 21/50\n",
            "280/280 [==============================] - 34s 122ms/step - loss: 3.1904 - val_loss: 4.0906\n",
            "Epoch 22/50\n",
            "280/280 [==============================] - 34s 122ms/step - loss: 3.1420 - val_loss: 4.0914\n",
            "Epoch 23/50\n",
            "280/280 [==============================] - 34s 122ms/step - loss: 3.0958 - val_loss: 4.0882\n",
            "Epoch 24/50\n",
            "280/280 [==============================] - 34s 122ms/step - loss: 3.0487 - val_loss: 4.0811\n",
            "Epoch 25/50\n",
            "280/280 [==============================] - 34s 122ms/step - loss: 3.0074 - val_loss: 4.0897\n",
            "Epoch 26/50\n",
            "280/280 [==============================] - 34s 122ms/step - loss: 2.9659 - val_loss: 4.0831\n",
            "Epoch 26: early stopping\n"
          ]
        }
      ]
    },
    {
      "cell_type": "code",
      "source": [
        "plt.plot(history.history['loss'], label='train')\n",
        "plt.plot(history.history['val_loss'], label='test')\n",
        "plt.legend()\n",
        "plt.show()"
      ],
      "metadata": {
        "id": "rDLtvJYTCAjm",
        "colab": {
          "base_uri": "https://localhost:8080/",
          "height": 265
        },
        "outputId": "4fa7f2d3-a55d-4486-9d5e-2522721574d9"
      },
      "execution_count": 39,
      "outputs": [
        {
          "output_type": "display_data",
          "data": {
            "text/plain": [
              "<Figure size 432x288 with 1 Axes>"
            ],
            "image/png": "[encoded data removed]"
          },
          "metadata": {
            "needs_background": "light"
          }
        }
      ]
    },
    {
      "cell_type": "markdown",
      "source": [
        "## Step 4. 실제 결과와 요약문 비교하기 (추상적 요약)\n",
        "원래의 요약문(headlines 열)과 학습을 통해 얻은 추상적 요약의 결과를 비교해 보세요."
      ],
      "metadata": {
        "id": "cWzm8xP-SaQT"
      }
    },
    {
      "cell_type": "code",
      "source": [
        "src_index_to_word = src_tokenizer.index_word # 원문 단어 집합에서 정수 -> 단어를 얻음\n",
        "tar_word_to_index = tar_tokenizer.word_index # 요약 단어 집합에서 단어 -> 정수를 얻음\n",
        "tar_index_to_word = tar_tokenizer.index_word # 요약 단어 집합에서 정수 -> 단어를 얻음"
      ],
      "metadata": {
        "id": "ztrfNO08CFGf"
      },
      "execution_count": 40,
      "outputs": []
    },
    {
      "cell_type": "code",
      "source": [
        "# 인코더 설계\n",
        "encoder_model = Model(inputs=encoder_inputs, outputs=[encoder_outputs, state_h, state_c])\n",
        "\n",
        "# 이전 시점의 상태들을 저장하는 텐서\n",
        "decoder_state_input_h = Input(shape=(hidden_size,))\n",
        "decoder_state_input_c = Input(shape=(hidden_size,))\n",
        "\n",
        "dec_emb2 = dec_emb_layer(decoder_inputs)\n",
        "\n",
        "# 문장의 다음 단어를 예측하기 위해서 초기 상태(initial_state)를 이전 시점의 상태로 사용. 이는 뒤의 함수 decode_sequence()에 구현\n",
        "# 훈련 과정에서와 달리 LSTM의 리턴하는 은닉 상태와 셀 상태인 state_h와 state_c를 버리지 않음.\n",
        "decoder_outputs2, state_h2, state_c2 = decoder_lstm(dec_emb2, initial_state=[decoder_state_input_h, decoder_state_input_c])"
      ],
      "metadata": {
        "id": "b9wXYxSSCHvF"
      },
      "execution_count": 41,
      "outputs": []
    },
    {
      "cell_type": "code",
      "source": [
        "# 어텐션 함수\n",
        "decoder_hidden_state_input = Input(shape=(text_max_len, hidden_size))\n",
        "attn_out_inf = attn_layer([decoder_outputs2, decoder_hidden_state_input])\n",
        "decoder_inf_concat = Concatenate(axis=-1, name='concat')([decoder_outputs2, attn_out_inf])\n",
        "\n",
        "# 디코더의 출력층\n",
        "decoder_outputs2 = decoder_softmax_layer(decoder_inf_concat) \n",
        "\n",
        "# 최종 디코더 모델\n",
        "decoder_model = Model(\n",
        "    [decoder_inputs] + [decoder_hidden_state_input,decoder_state_input_h, decoder_state_input_c],\n",
        "    [decoder_outputs2] + [state_h2, state_c2])"
      ],
      "metadata": {
        "id": "YukgSlhFCJ3c"
      },
      "execution_count": 42,
      "outputs": []
    },
    {
      "cell_type": "code",
      "source": [
        "def decode_sequence(input_seq):\n",
        "    # 입력으로부터 인코더의 상태를 얻음\n",
        "    e_out, e_h, e_c = encoder_model.predict(input_seq)\n",
        "\n",
        "     # <SOS>에 해당하는 토큰 생성\n",
        "    target_seq = np.zeros((1,1))\n",
        "    target_seq[0, 0] = tar_word_to_index['sostoken']\n",
        "\n",
        "    stop_condition = False\n",
        "    decoded_sentence = ''\n",
        "    while not stop_condition: # stop_condition이 True가 될 때까지 루프 반복\n",
        "\n",
        "        output_tokens, h, c = decoder_model.predict([target_seq] + [e_out, e_h, e_c])\n",
        "        sampled_token_index = np.argmax(output_tokens[0, -1, :])\n",
        "        sampled_token = tar_index_to_word[sampled_token_index]\n",
        "\n",
        "        if (sampled_token!='eostoken'):\n",
        "            decoded_sentence += ' '+sampled_token\n",
        "\n",
        "        #  <eos>에 도달하거나 최대 길이를 넘으면 중단.\n",
        "        if (sampled_token == 'eostoken'  or len(decoded_sentence.split()) >= (headlines_max_len-1)):\n",
        "            stop_condition = True\n",
        "\n",
        "        # 길이가 1인 타겟 시퀀스를 업데이트\n",
        "        target_seq = np.zeros((1,1))\n",
        "        target_seq[0, 0] = sampled_token_index\n",
        "\n",
        "        # 상태를 업데이트 합니다.\n",
        "        e_h, e_c = h, c\n",
        "\n",
        "    return decoded_sentence"
      ],
      "metadata": {
        "id": "UOlMx2izCNot"
      },
      "execution_count": 43,
      "outputs": []
    },
    {
      "cell_type": "code",
      "source": [
        "# 원문의 정수 시퀀스를 텍스트 시퀀스로 변환\n",
        "def seq2text(input_seq):\n",
        "    temp=''\n",
        "    for i in input_seq:\n",
        "        if (i!=0):\n",
        "            temp = temp + src_index_to_word[i]+' '\n",
        "    return temp\n",
        "\n",
        "# 요약문의 정수 시퀀스를 텍스트 시퀀스로 변환\n",
        "def seq2summary(input_seq):\n",
        "    temp=''\n",
        "    for i in input_seq:\n",
        "        if ((i!=0 and i!=tar_word_to_index['sostoken']) and i!=tar_word_to_index['eostoken']):\n",
        "            temp = temp + tar_index_to_word[i] + ' '\n",
        "    return temp"
      ],
      "metadata": {
        "id": "ZMw6PWS6COwo"
      },
      "execution_count": 44,
      "outputs": []
    },
    {
      "cell_type": "code",
      "source": [
        "for i in range(50, 100):\n",
        "    print(\"원문 :\", seq2text(encoder_input_test[i]))\n",
        "    print(\"실제 요약 :\", seq2summary(decoder_input_test[i]))\n",
        "    print(\"예측 요약 :\", decode_sequence(encoder_input_test[i].reshape(1, text_max_len)))\n",
        "    print(\"\\n\")"
      ],
      "metadata": {
        "id": "VYTdj8mLSepw",
        "colab": {
          "base_uri": "https://localhost:8080/"
        },
        "outputId": "c292898a-caf8-4986-89fa-102afaed2030"
      },
      "execution_count": 45,
      "outputs": [
        {
          "output_type": "stream",
          "name": "stdout",
          "text": [
            "원문 : damore who was fired this week over 10 page anti diversity memo has revealed he started writing the memo while on a 12 hour flight damore revealed that he created the document to clear his thoughts after attending a secretive diversity training session damore claims there was hypocrisy in a lot of the things that were discussed at the session \n",
            "실제 요약 : i began writing memo on 12 hr flight fired google engineer \n",
            "예측 요약 :  man who fired after being fired by men in\n",
            "\n",
            "\n",
            "원문 : the karnataka food and civil supplies department on wednesday conducted raids on nearly 180 restaurants multiplexes and malls in bengaluru to check if water bottles were being sold at more than mrp we have booked 46 cases till now for the first a fine of ã¢ââ¹2 000 will be levied state cabinet minister ut said \n",
            "실제 요약 : bengaluru malls raided over overcharging water \n",
            "예측 요약 :  k'taka govt orders plastic waste to curb waste\n",
            "\n",
            "\n",
            "원문 : australian prime minister malcolm turnbull has said that his wife lucy was and to be described by french president emmanuel macron as delicious i want to thank you for your welcome thank you and your delicious wife for your warm welcome macron had said mistakenly notably the french word for delicious also translates as delightful \n",
            "실제 요약 : wife french prez called her aussie pm \n",
            "예측 요약 :  will give your your name to win ex pm\n",
            "\n",
            "\n",
            "원문 : on tuesday conducted bombing drills in response to the missile test fired by north korea earlier in the day the show of force involved four fighter jets dropping multi purpose bombs on a shooting range near the inter korean border reports said notably south korea the us and japan have jointly requested a unsc emergency meeting over north korean threats \n",
            "실제 요약 : s korea responds to n korean missile test with bomb drills \n",
            "예측 요약 :  n korea releases missile test after bomb threat\n",
            "\n",
            "\n",
            "원문 : the world's highest valued ai startup at over 4 5 billion has co led a 199 million series d funding round for chinese video startup with the investment also partnered with to collaborate on a range of artificial intelligence technologies including augmented reality offers a platform that develops technology to support online video services \n",
            "실제 요약 : most valued ai startup leads mn funding in \n",
            "예측 요약 :  china based startup raises 1 million\n",
            "\n",
            "\n",
            "원문 : the bbc has apologised to former china editor carrie for her and said it has now put this right by giving her back pay had resigned in january due to the corporation's secretive and illegal pay culture had found that two male international earned at least 50 more than their two female counterparts \n",
            "실제 요약 : bbc apologises to ex china editor over pay \n",
            "예측 요약 :  uk president apologises for\n",
            "\n",
            "\n",
            "원문 : tennis player venus williams has been named as the driver at fault in a car accident in florida on june 9 that killed one person williams was accused of violating the right of way of of another motorist who had a green light at an intersection williams was estimated to be driving at 8 kmph and not under any influence \n",
            "실제 요약 : venus williams in car crash which killed a man \n",
            "예측 요약 :  australian couple loses dead in one car in crash\n",
            "\n",
            "\n",
            "원문 : a new satirical animated series focusing on us president donald trump is set to be made by stephen colbert the host of american talk show 'the late show' for the television network i know a lot of people wanted to do this and i'm honoured that the cartoon president invited our documentary crew into his private world said colbert \n",
            "실제 요약 : trump animated tv series to be made \n",
            "예측 요약 :  trump to host new york show after trump report\n",
            "\n",
            "\n",
            "원문 : australia and us based researchers have developed an elastic surgical glue that seals wounds in 60 seconds without the need for surgical or the gel like material can be applied directly and is activated by uv light further it has a built in enzyme which can be modified to determine how long the should last to heal the wound \n",
            "실제 요약 : surgical that can seal wounds in 60 seconds made \n",
            "예측 요약 :  researchers develop self from using human cells\n",
            "\n",
            "\n",
            "원문 : the removal of eid e or as a holiday in uttar pradesh by the yogi adityanath led government has been challenged in the allahabad high court the petitioner in the case has challenged that has been declared a public holiday by the centre and the state government cannot remove it the yogi government had recently removed about 15 state holidays \n",
            "실제 요약 : removal of eid e holiday by yogi govt challenged in hc \n",
            "예측 요약 :  up govt clears all up seats in ayodhya\n",
            "\n",
            "\n",
            "원문 : former pakistan captain and chief selector of the national team inzamam ul haq has been barred by the pakistan cricket board from owning a franchise in the t10 cricket league which will be held in uae in december inzamam has instead been allowed to act as a mentor for any of the teams participating in the upcoming tournament \n",
            "실제 요약 : inzamam ul haq banned from buying t10 team \n",
            "예측 요약 :  ex pak captain younis khan to play cricket cricket\n",
            "\n",
            "\n",
            "원문 : tata sons bought shares of tata motors for the third time in the last 14 months increasing its holding in the automaker to 33 4 tata sons bought 1 05 stake for crore between august 13 and august 20 the holding company of tata group has been gradually raising its stake in tata motors from 25 22 in 2015 \n",
            "실제 요약 : tata sons increase stake in tata motors to 33 4 \n",
            "예측 요약 :  tata sons to sell telecom business for tata sons\n",
            "\n",
            "\n",
            "원문 : a delhi court on thursday directed google india to remove content allegedly containing hate speeches against the sikh religion and its gurus within a week this comes after a woman sakshi bhardwaj allegedly uploaded derogatory content against sikh gurus sikhs are likely to feel grave insult to their religious sentiments if the videos continued to the court said \n",
            "실제 요약 : delhi court directs google india to remove anti sikh content \n",
            "예측 요약 :  muslim body shuts down over hate content on fb journalist\n",
            "\n",
            "\n",
            "원문 : 'bhavesh joshi superhero' which released today has an indigenous tone wrote hindustan times ht director vikramaditya take on the superhero genre is worth a look said the times of india toi ndtv wrote despite its epic ambitions and technical strengths the film is anything but super it was rated 3 5 ht 3 5 5 toi and 2 5 ndtv \n",
            "실제 요약 : harshvardhan starrer joshi hits theatres \n",
            "예측 요약 :  ryan hits the theatres\n",
            "\n",
            "\n",
            "원문 : commenting on govinda's picture with sanjeev shrivastava who was dubbed as on social media actor ranveer singh wrote sir you are the king after a video of sanjeev dancing to govinda's 'aap ke aa jane se' went viral he got an opportunity to meet govinda on a reality show and the two of them danced together \n",
            "실제 요약 : you're king ranveer on govinda dancing pic \n",
            "예측 요약 :  ranveer singh shares pic with his own pic\n",
            "\n",
            "\n",
            "원문 : a woman have been arrested over the usage of drones that shut down the uk's gatwick airport the country's second biggest airport there had been reports of more than 50 sightings of the drones since wednesday following which the army was deployed around 1 000 aircraft had been cancelled or diverted affecting around 1 4 lakh passengers since wednesday night \n",
            "실제 요약 : held over drone use that shut down uk's 2nd biggest airport \n",
            "예측 요약 :  woman arrested for smuggling bullet of its biggest airport\n",
            "\n",
            "\n",
            "원문 : month old girl's dead body was pulled out from an open after 58 hours of rescue operation the toddler was playing with her elder sister when she accidentally fell into the nearly 450 foot deep open in a village near hyderabad on thursday the police called off the rescue operation at 6 am on sunday after her remains were retrieved \n",
            "실제 요약 : dead body pulled out from after 58 hrs \n",
            "예측 요약 :  girl dies after being hit by a body in us\n",
            "\n",
            "\n",
            "원문 : apex industry body assocham has said that india is poised towards sustainable growth despite a temporary economic slowdown post gst rollout it said gst will have a significant impact on all aspects of a business including supply chain sourcing and distribution decisions introduction of gst should a reduction in overall process on account of reduced tax costs it added \n",
            "실제 요약 : gst caused slowdown india to recover assocham \n",
            "예측 요약 :  gst rates not a gst rates gst\n",
            "\n",
            "\n",
            "원문 : german carmaker volkswagen briefly became the world's most valuable company with over 370 billion market capitalisation in october 2008 volkswagen's share price after porsche revealed that it had effectively gained control of 74 of volkswagen's voting shares volkswagen which was founded on may 28 1937 had dethroned energy titan to become the most valuable company \n",
            "실제 요약 : volkswagen once briefly became world's most valuable company \n",
            "예측 요약 :  world's biggest market market value after being hit by\n",
            "\n",
            "\n",
            "원문 : the punjab government has received proposals from cab aggregators uber and ola for partnering in the government's employment scheme apna agar under the scheme one lakh vehicles will be provided to unemployed youth at subsidised rates the loan will have to be paid back in five years and no collateral would be required \n",
            "실제 요약 : uber ola interested in punjab govt's ' scheme \n",
            "예측 요약 :  ola uber to pay ola for ola uber for ola\n",
            "\n",
            "\n",
            "원문 : operated a kolkata kolkata flight on sunday with an all woman crew as part of its celebration of international women's day which is on march 8 the airline said that it has planned cultural events throughout the week to commemorate the day notably air india had operated the world's first all woman crew flight from kolkata to in 1985 nn \n",
            "실제 요약 : air india operates all woman crew flight from kolkata \n",
            "예측 요약 :  indigo flight starts for 1st time on flight\n",
            "\n",
            "\n",
            "원문 : the bihar government has ordered to terminate the services of around 80 000 contractual health workers for violating terms of the contract the employees have been on an indefinite strike since december 4 demanding equal pay for equal work and regularisation of services reports said the strike had crippled the state's health services resulting in the cancellation of several surgeries \n",
            "실제 요약 : bihar govt orders to sack 80 000 contractual health workers \n",
            "예측 요약 :  bihar govt shut down over delay in bihar\n",
            "\n",
            "\n",
            "원문 : the enforcement directorate ed has filed a chargesheet against rjd chief lalu prasad yadav's daughter misa bharti and her husband in a money laundering case the ed had earlier attached a delhi farmhouse which is in the name of a suspected shell company in connection with the case it was allegedly bought using ã¢ââ¹1 2 crore laundered in 2008 2009 \n",
            "실제 요약 : ed files chargesheet against lalu's daughter misa bharti \n",
            "예측 요약 :  lalu's daughter gave to fir against husband in delhi\n",
            "\n",
            "\n",
            "원문 : white hosting an eid reception for envoys in new delhi external affairs minister sushma swaraj on tuesday said we will never allow the forces of hatred and violence come anywhere near our people she said the world is indeed one family and added compassion mercy tolerance these values are shared by billions of muslims and non muslims around the world \n",
            "실제 요약 : india won't let forces of hatred come near its people swaraj \n",
            "예측 요약 :  can't let people be anti national attack swaraj\n",
            "\n",
            "\n",
            "원문 : narendra modi on saturday launched the india post payments bank which will go live with 650 branches and 3 250 access points the government aims to link all 1 55 lakh post offices to the india post payments bank system by december 31 the bank can accept deposits of up to ã¢ââ¹1 lakh but can't issue loans or credit cards \n",
            "실제 요약 : pm narendra modi launches india post payments bank \n",
            "예측 요약 :  pm modi to launch digital banking service in india\n",
            "\n",
            "\n",
            "원문 : is updating skype to include a built in call recording feature to the video chat platform since it was launched nearly 15 years ago the new feature will be cloud based allowing users to access skype call recordings across devices including windows mac ios android and even linux the feature will be rolled out to users in september this year \n",
            "실제 요약 : skype to get call recording feature 15 years after launch \n",
            "예측 요약 :  apple launches new feature on its phone\n",
            "\n",
            "\n",
            "원문 : children in nepal will be required to deposit 5 10 of their income in their parents' bank accounts under a new law set to be introduced by the government the move is primarily aimed at ensuring the security of senior citizens the government will present a bill on the amendment to the senior citizens act 2006 with such a provision \n",
            "실제 요약 : to make children give 5 10 of their income to parents \n",
            "예측 요약 :  india to get aadhaar mandatory for lack of aadhaar\n",
            "\n",
            "\n",
            "원문 : passenger amber phillips has claimed she was mistreated on an american airlines flight for being fat and black after a woman seated next to her complained that their arms were touching phillips took videos of the woman claiming the latter pushed her towards the window although the police were called at the request of the woman no charges were filed \n",
            "실제 요약 : passenger alleges for being and \n",
            "예측 요약 :  woman who was a woman who is a passenger\n",
            "\n",
            "\n",
            "원문 : astronauts aboard the international space station which orbits earth 400 km away celebrated christmas eve by watching 'star wars the last jedi' space station movie night complete with cord drink bags and a science fiction flick tweeted nasa astronaut mark vande astronauts have previously screened films like 'the and aboard the iss \n",
            "실제 요약 : space station astronauts watch 400 km from earth \n",
            "예측 요약 :  space station to be 1st space station to earth\n",
            "\n",
            "\n",
            "원문 : co founder g in an interview on wednesday said we're not movie actors or cricketers that need to give one hit film or after another he was speaking over his plans of not setting up another startup after was acquired by ola in 2015 he added he wants to build an environment that supports multiple million dollar companies \n",
            "실제 요약 : we're not movie actors or cricketers co founder \n",
            "예측 요약 :  i don't get a trailer of film with trailer kharagpur\n",
            "\n",
            "\n",
            "원문 : pm narendra modi on thursday extended greetings to delhi cm arvind kejriwal on his 50th birthday tweeting may he lead a long and healthy life kejriwal replied to the pm's tweet saying thank you so much sir former jammu and kashmir cm omar abdullah also greeted the delhi cm wishing him many more years in the service of the nation \n",
            "실제 요약 : pm modi extends birthday wishes to delhi cm arvind kejriwal \n",
            "예측 요약 :  pm modi wishes kejriwal on his birthday\n",
            "\n",
            "\n",
            "원문 : bjp of attempting to topple the congress jd s government karnataka chief minister hd kumaraswamy on friday said operation lotus is on yesterday night also they have a congress legislator asking him where to send the gift stating the mla declined the offer kumaraswamy claimed that making mlas commodities for sale is an addiction of state bjp chief bs yeddyurappa \n",
            "실제 요약 : bjp called congress mla offered him gift karnataka cm \n",
            "예측 요약 :  k'taka cm blames bjp for bjp's alliance with jd s\n",
            "\n",
            "\n",
            "원문 : samajwadi party mp jaya bachchan on tuesday staged a protest in the parliament complex along with fellow parliamentarians against assam government's final draft of national register of citizens nrc the agitating mps held placards questioning why indians had become refugees in their own country over 40 lakh applicants were excluded from the final draft which was released on monday \n",
            "실제 요약 : jaya bachchan protests over assam citizen list in parliament \n",
            "예측 요약 :  assam mp assembly cancels parliament for\n",
            "\n",
            "\n",
            "원문 : a french waiter who was fired from a canadian restaurant for being aggressive rude and disrespectful has said that he was just being french rey filed a complaint accusing his former employer of discriminating against his culture and claimed that french culture just to be more direct a canadian human rights tribunal is set to hear his case \n",
            "실제 요약 : fired for says he was just being french \n",
            "예측 요약 :  fired for asking about about harassment at wrong interview\n",
            "\n",
            "\n",
            "원문 : adventure clothing brand has created a which they claim is to last for 100 years' it's made of fibres the industrial material used in body and in the manufacturing of aircraft carriers but it reportedly feels like a cotton the is reportedly resistant to and burns and can survive extreme temperatures \n",
            "실제 요약 : company creates to survive 100 \n",
            "예측 요약 :  fashion brand creates for\n",
            "\n",
            "\n",
            "원문 : the hyderabad police on friday arrested two men for allegedly duping 2 000 people of ã¢ââ¹9 crore on the pretext of holiday packages club and plots of land the two were the managing directors of a company the police also seized the company's register books plot allotment documents rubber stamps silver coin gift packs and cash worth ã¢ââ¹8 15 lakh \n",
            "실제 요약 : held for cheating 2 000 people of ã¢ââ¹9 crore in hyderabad \n",
            "예측 요약 :  mumbai man held for selling ã¢ââ¹7 000 crore\n",
            "\n",
            "\n",
            "원문 : senior aap leader gopal rai on thursday said the party can defeat the bjp in delhi he added it is very difficult to say whether an alliance with congress will happen or not for upcoming lok sabha elections on the appointment of sheila dikshit as delhi congress chief rai said congress has lost its ground in delhi and is \n",
            "실제 요약 : we can defeat bjp in delhi senior aap leader gopal rai \n",
            "예측 요약 :  aap has become a party of guj aap chief\n",
            "\n",
            "\n",
            "원문 : technology major apple has stopped paying royalties to its iphone manufacturers like foxconn for patents owned by qualcomm this comes amid apple's 1 billion lawsuit against the chipmaker claiming that qualcomm has been charging excessive royalties in april qualcomm apple for not utilising the full performance of its modem chips in iphone 7 smartphones \n",
            "실제 요약 : apple stops paying iphone patent to qualcomm \n",
            "예측 요약 :  apple apple to buy iphone 1 000 million\n",
            "\n",
            "\n",
            "원문 : mumbai based venture capital firm venture has raised 178 million of the targeted 200 million for its third venture fund ventures iii the firm which officially began accepting investment for the fund on september 3 has raised capital from 19 limited partners as per filings founded in 2014 the firm invests in early stage consumer technology businesses in india \n",
            "실제 요약 : mumbai based venture gets mn for 3rd fund \n",
            "예측 요약 :  digital startup raises mn from capital\n",
            "\n",
            "\n",
            "원문 : former pakistan spinner abdul said that the pakistan super league psl spot fixing scandal would not have happened had former players including wasim akram and inzamam ul haq suspected of being involved in match fixing been hanged the way of our country is to nab the smaller culprit and let the bigger one go added \n",
            "실제 요약 : psl scandal happened as akram inzamam weren't hanged \n",
            "예측 요약 :  pak captain says he was a\n",
            "\n",
            "\n",
            "원문 : us secret service has said it is being unable to pay the salaries and overtime allowances of its agents protecting president donald trump's family as they have hit the mandated cap on spending for the entire year over 1 000 agents have been providing protection to 42 people under trump compared to 31 during the obama administration \n",
            "실제 요약 : we are running out of money protecting trump secret service \n",
            "예측 요약 :  us metro ordered to pay for refusing to pay\n",
            "\n",
            "\n",
            "원문 : huawei is reportedly working on a smartphone with a circular front camera in the top left corner of the screen the design is similar to samsung galaxy which is also reportedly a smartphone based on infinity o display technology set to reportedly launch in december huawei could also release the phone in december as per reports \n",
            "실제 요약 : huawei working on a phone with camera hole report \n",
            "예측 요약 :  apple to display phone with hole in\n",
            "\n",
            "\n",
            "원문 : indian gymnast dipa karmakar who finished fourth at rio olympics has opted out of this year's commonwealth games to avoid any further risk to an injury she suffered last year the 24 year old said her next target is the asian games which will take place in august dipa had undergone an surgery in april last year \n",
            "실제 요약 : dipa ruled out of 2018 commonwealth games \n",
            "예측 요약 :  olympic champion defends olympic champion\n",
            "\n",
            "\n",
            "원문 : danish actress brigitte nielsen who got married to 39 year old italian tv producer in 2006 has given birth to her daughter and fifth child at the age of 54 we are to welcome our beautiful daughter into our lives read the official statement who is married for the fifth time has four sons from her previous relationships \n",
            "실제 요약 : actress gives birth to daughter at 54 \n",
            "예측 요약 :  nobel winning daughter passes away aged 89\n",
            "\n",
            "\n",
            "원문 : ashish nehra has confirmed his retirement with the first t20i against new zealand in new delhi on november 1 slated to be his last match i informed virat and ravi shastri that i think and bumrah are doing well this is the right time for me to go said nehra the 38 year old has represented india for 18 years \n",
            "실제 요약 : nehra confirms retirement will play last match on nov 1 \n",
            "예측 요약 :  nehra appointed as captain of the year\n",
            "\n",
            "\n",
            "원문 : congress president rahul gandhi on monday criticised the central government over issues of jobs and farmers' dues saying the modi government considers farmers as a liability while addressing an event in punjab he also claimed that every institution in the country is being attacked by the centre he said that without protecting farmers' future the country cannot move forward \n",
            "실제 요약 : modi government considers farmers as rahul gandhi \n",
            "예측 요약 :  rahul gandhi not giving farmers' income rahul\n",
            "\n",
            "\n",
            "원문 : american astronomers have discovered 12 new moons around jupiter where one of them is on a collision course which could create a crash large enough to be visible from earth this brings the total number of moons to 79 the most for any planet researchers made the discovery while hunting for a ninth planet beyond the orbit of neptune \n",
            "실제 요약 : 12 new moons discovered around jupiter 1 likely to collide \n",
            "예측 요약 :  astronomers find asteroid that can be the\n",
            "\n",
            "\n",
            "원문 : the malabar naval exercise is like mock battle involving practice sessions of naval ships vessels submarines etc it started in 1992 as an annual bilateral exercise between india and us while japan was permanently added in 2015 making it a trilateral exercise the 21st edition of the naval exercise will see participation of 16 ships 95 aircraft and two submarines \n",
            "실제 요약 : what is the naval exercise \n",
            "예측 요약 :  china drill in china defence ministry for standoff\n",
            "\n",
            "\n",
            "원문 : former england captain alastair cook said that he started questioning his tactical as well as leadership decisions as england captain cook who is england's most capped and successful test captain with 24 victories and 13 draws in 59 tests resigned from the role in february after the england side's 4 0 series loss in india \n",
            "실제 요약 : started questioning my own leadership as eng captain cook \n",
            "예측 요약 :  i am the most cricket player in cricket history\n",
            "\n",
            "\n",
            "원문 : pakistani actress saba qamar broke down in a television interview while talking about how she is more at airports due to her nationality she added the way pakistanis are investigated during checking i feel humiliated recalling an incident during an international shoot saba said the film's indian crew was allowed to go but she was stopped because of her passport \n",
            "실제 요약 : more at airports due to my pak actress \n",
            "예측 요약 :  i was the biggest actress on tv show\n",
            "\n",
            "\n"
          ]
        }
      ]
    },
    {
      "cell_type": "markdown",
      "source": [
        "## Step 5. Summa을 이용해서 추출적 요약해보기\n",
        "추상적 요약은 추출적 요약과는 달리 문장의 표현력을 다양하게 가져갈 수 있지만, 추출적 요약에 비해서 난이도가 높아요. 반대로 말하면 추출적 요약은 추상적 요약에 비해 난이도가 낮고 기존 문장에서 문장을 꺼내오는 것이므로 잘못된 요약이 나올 가능성이 낮아요."
      ],
      "metadata": {
        "id": "r5udOPejSgVr"
      }
    },
    {
      "cell_type": "markdown",
      "source": [
        "Summa의 summarize를 사용하여 추출적 요약을 해보세요."
      ],
      "metadata": {
        "id": "7wN9pQbVSiQv"
      }
    },
    {
      "cell_type": "code",
      "source": [
        "print('Summary:')\n",
        "print(summarize(data2['text'].apply(str).iloc[10], ratio=0.5))"
      ],
      "metadata": {
        "id": "lQygoogVCw5S",
        "colab": {
          "base_uri": "https://localhost:8080/"
        },
        "outputId": "94ef0148-3114-4eaf-c7e0-5210bf50f776"
      },
      "execution_count": 47,
      "outputs": [
        {
          "output_type": "stream",
          "name": "stdout",
          "text": [
            "Summary:\n",
            "Two minor cousins in Uttar Pradesh's Gorakhpur were allegedly repeatedly burnt with tongs and forced to eat human excreta by their family for being friends with two boys from the same school.\n"
          ]
        }
      ]
    },
    {
      "cell_type": "code",
      "source": [
        "data2['text'].apply(str).iloc[10]"
      ],
      "metadata": {
        "colab": {
          "base_uri": "https://localhost:8080/",
          "height": 73
        },
        "id": "qWH16KW4UOXk",
        "outputId": "ea40c396-2105-499a-a428-2ba1337b76fa"
      },
      "execution_count": 48,
      "outputs": [
        {
          "output_type": "execute_result",
          "data": {
            "text/plain": [
              "\"Two minor cousins in Uttar Pradesh's Gorakhpur were allegedly repeatedly burnt with tongs and forced to eat human excreta by their family for being friends with two boys from the same school. The cousins revealed their ordeal to the police and Child Welfare Committee after being brought back to Gorakhpur from Nepal, where they had fled to escape the torture.\""
            ],
            "application/vnd.google.colaboratory.intrinsic+json": {
              "type": "string"
            }
          },
          "metadata": {},
          "execution_count": 48
        }
      ]
    },
    {
      "cell_type": "code",
      "source": [
        "def summarize_news(idx):\n",
        "    for i in idx:\n",
        "        print('원문\\n',data2['text'].apply(str).iloc[i], '\\n')\n",
        "        print('요약\\n',summarize(data2['text'].apply(str).iloc[i], ratio=0.5),'\\n\\n')\n",
        "        print('======================================================================================')"
      ],
      "metadata": {
        "id": "QX669MN9UXiF"
      },
      "execution_count": 49,
      "outputs": []
    },
    {
      "cell_type": "code",
      "source": [
        "summarize_news([50, 200, 3560, 41000, 54000])"
      ],
      "metadata": {
        "colab": {
          "base_uri": "https://localhost:8080/"
        },
        "id": "l0XcP_JhUfPl",
        "outputId": "45ef7988-d805-41aa-f4dd-c7db6d72afe8"
      },
      "execution_count": 50,
      "outputs": [
        {
          "output_type": "stream",
          "name": "stdout",
          "text": [
            "원문\n",
            " Former Finance Minister Yashwant Sinha on Tuesday demanded a probe into the alleged diversion of loans worth Ã¢ÂÂ¹31,000 crore by Dewan Housing Finance (DHFL). All agencies including regulators of the government have failed to track nefarious deals, he said. This comes after a media report on Tuesday accused DHFL's controlling shareholders of diverting funds to shell companies to buy assets. \n",
            "\n",
            "요약\n",
            " Former Finance Minister Yashwant Sinha on Tuesday demanded a probe into the alleged diversion of loans worth Ã¢ÂÂ¹31,000 crore by Dewan Housing Finance (DHFL). \n",
            "\n",
            "\n",
            "======================================================================================\n",
            "원문\n",
            " Australia's wicketkeeper-batswoman Alyssa Healy has said that the Australian team needs to be wary of India's women's T20I team captain Harmanpreet Kaur at the ICC Women's T20 World Cup next year. Harmanpreet, who was named in the ICC Team of the Year 2018, helped India reach the semi-finals of the ICC Women's World T20 2018 last November. \n",
            "\n",
            "요약\n",
            " Australia's wicketkeeper-batswoman Alyssa Healy has said that the Australian team needs to be wary of India's women's T20I team captain Harmanpreet Kaur at the ICC Women's T20 World Cup next year. \n",
            "\n",
            "\n",
            "======================================================================================\n",
            "원문\n",
            " Ex-India captain Sunil Gavaskar, while commentating in the fourth Australia-India Test, trolled Australian commentator Kerry O'Keeffe, who was dubbed 'racist' for insulting Indians. \"LabuschagneÃ¢ÂÂ the bowler whose name only O'Keeffe can pronounce,\" said Gavaskar when Australia's Marnus Labuschagne came to bowl. During the third Test, O'Keeffe had said, \"Why'd you name your kid Cheteshwar Jadeja?\" \n",
            "\n",
            "요약\n",
            " \"LabuschagneÃ¢ÂÂ the bowler whose name only O'Keeffe can pronounce,\" said Gavaskar when Australia's Marnus Labuschagne came to bowl. \n",
            "\n",
            "\n",
            "======================================================================================\n",
            "원문\n",
            " Indian Institute of Science, Bangalore has been named the best Indian university under the National Institutional Ranking Framework (NIRF), released by Human Resource Development Minister Prakash Javadekar on Tuesday. Jawaharlal Nehru University bagged the second position, followed by Banaras Hindu University and Anna University. Delhi University stood at 7th position in the rankings. \n",
            "\n",
            "요약\n",
            " Delhi University stood at 7th position in the rankings. \n",
            "\n",
            "\n",
            "======================================================================================\n",
            "원문\n",
            " US President Donald Trump has threatened to cut a financial aid for Palestine, accusing Palestinians of being unwilling to talk peace with Israel. This comes after US Ambassador Nikki Haley warned that her country would cut funds to the United Nations' agency for Palestinian refugees if Palestine does not agree for the peace talks.n \n",
            "\n",
            "요약\n",
            " US President Donald Trump has threatened to cut a financial aid for Palestine, accusing Palestinians of being unwilling to talk peace with Israel. \n",
            "\n",
            "\n",
            "======================================================================================\n"
          ]
        }
      ]
    },
    {
      "cell_type": "markdown",
      "source": [
        "#회고\n",
        "- 이번 프로젝트에서 어려웠던 점\n",
        "  - colab에서 진행하였는데, 런타임에서 gpu를 사용하지 않고 진행했다가 처음 학습 시킬 때 1epoch당 25분 정도 소요되었었습니다. 다음부터는 gpu와 고용량 RAM을 사용하는 것을 같이 적용 시키는 것을 잊지 않고 하겠습니다."
      ],
      "metadata": {
        "id": "5IFyIF0ozfVM"
      }
    }
  ]
}